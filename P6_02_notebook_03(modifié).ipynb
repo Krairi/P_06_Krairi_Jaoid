{
 "cells": [
  {
   "cell_type": "markdown",
   "metadata": {},
   "source": [
    "# Améliorez le produit IA de votre start-up"
   ]
  },
  {
   "cell_type": "markdown",
   "metadata": {},
   "source": [
    "## Analyser les commentaires pour détecter les différents sujets d’insatisfaction"
   ]
  },
  {
   "cell_type": "markdown",
   "metadata": {},
   "source": [
    "## Vérification des versions"
   ]
  },
  {
   "cell_type": "code",
   "execution_count": 1,
   "metadata": {},
   "outputs": [
    {
     "name": "stdout",
     "output_type": "stream",
     "text": [
      "Requirement already satisfied: yellowbrick in c:\\users\\jk253\\anaconda3\\lib\\site-packages (1.3.post1)\n",
      "Requirement already satisfied: scikit-learn>=0.20 in c:\\users\\jk253\\anaconda3\\lib\\site-packages (from yellowbrick) (1.0.1)\n",
      "Requirement already satisfied: scipy>=1.0.0 in c:\\users\\jk253\\anaconda3\\lib\\site-packages (from yellowbrick) (1.6.2)\n",
      "Requirement already satisfied: cycler>=0.10.0 in c:\\users\\jk253\\anaconda3\\lib\\site-packages (from yellowbrick) (0.10.0)\n",
      "Requirement already satisfied: matplotlib!=3.0.0,>=2.0.2 in c:\\users\\jk253\\anaconda3\\lib\\site-packages (from yellowbrick) (3.3.2)\n",
      "Collecting numpy<1.20,>=1.16.0\n",
      "  Using cached numpy-1.19.5-cp38-cp38-win_amd64.whl (13.3 MB)\n",
      "Requirement already satisfied: threadpoolctl>=2.0.0 in c:\\users\\jk253\\anaconda3\\lib\\site-packages (from scikit-learn>=0.20->yellowbrick) (2.1.0)\n",
      "Requirement already satisfied: joblib>=0.11 in c:\\users\\jk253\\anaconda3\\lib\\site-packages (from scikit-learn>=0.20->yellowbrick) (0.17.0)\n",
      "Requirement already satisfied: six in c:\\users\\jk253\\anaconda3\\lib\\site-packages (from cycler>=0.10.0->yellowbrick) (1.15.0)\n",
      "Requirement already satisfied: pillow>=6.2.0 in c:\\users\\jk253\\anaconda3\\lib\\site-packages (from matplotlib!=3.0.0,>=2.0.2->yellowbrick) (8.0.1)\n",
      "Requirement already satisfied: python-dateutil>=2.1 in c:\\users\\jk253\\anaconda3\\lib\\site-packages (from matplotlib!=3.0.0,>=2.0.2->yellowbrick) (2.8.1)\n",
      "Requirement already satisfied: pyparsing!=2.0.4,!=2.1.2,!=2.1.6,>=2.0.3 in c:\\users\\jk253\\anaconda3\\lib\\site-packages (from matplotlib!=3.0.0,>=2.0.2->yellowbrick) (2.4.7)\n",
      "Requirement already satisfied: kiwisolver>=1.0.1 in c:\\users\\jk253\\anaconda3\\lib\\site-packages (from matplotlib!=3.0.0,>=2.0.2->yellowbrick) (1.3.0)\n",
      "Requirement already satisfied: certifi>=2020.06.20 in c:\\users\\jk253\\anaconda3\\lib\\site-packages (from matplotlib!=3.0.0,>=2.0.2->yellowbrick) (2021.10.8)\n",
      "Installing collected packages: numpy\n",
      "  Attempting uninstall: numpy\n",
      "    Found existing installation: numpy 1.21.5\n",
      "    Uninstalling numpy-1.21.5:\n",
      "      Successfully uninstalled numpy-1.21.5\n",
      "Successfully installed numpy-1.19.5\n",
      "Note: you may need to restart the kernel to use updated packages.\n"
     ]
    },
    {
     "name": "stderr",
     "output_type": "stream",
     "text": [
      "ERROR: After October 2020 you may experience errors when installing or updating packages. This is because pip will change the way that it resolves dependency conflicts.\n",
      "\n",
      "We recommend you use --use-feature=2020-resolver to test your packages with the new resolver before it becomes the default.\n",
      "\n",
      "catboost 0.26.1 requires graphviz, which is not installed.\n",
      "tensorflow-gpu 2.7.0 requires tensorflow-estimator<2.8,~=2.7.0rc0, but you'll have tensorflow-estimator 2.6.0 which is incompatible.\n",
      "tensorflow 2.6.0 requires h5py~=3.1.0, but you'll have h5py 3.6.0 which is incompatible.\n",
      "tensorflow 2.6.0 requires wrapt~=1.12.1, but you'll have wrapt 1.13.3 which is incompatible.\n",
      "pyldavis 3.3.1 requires numpy>=1.20.0, but you'll have numpy 1.19.5 which is incompatible.\n",
      "apollo 4.2.13 requires cachetools<4, but you'll have cachetools 4.2.2 which is incompatible.\n"
     ]
    }
   ],
   "source": [
    "pip install yellowbrick"
   ]
  },
  {
   "cell_type": "code",
   "execution_count": 2,
   "metadata": {},
   "outputs": [
    {
     "name": "stdout",
     "output_type": "stream",
     "text": [
      "Requirement already satisfied: pyLDAvis in c:\\users\\jk253\\anaconda3\\lib\\site-packages (3.3.1)\n",
      "Requirement already satisfied: numexpr in c:\\users\\jk253\\anaconda3\\lib\\site-packages (from pyLDAvis) (2.7.1)\n",
      "Requirement already satisfied: future in c:\\users\\jk253\\anaconda3\\lib\\site-packages (from pyLDAvis) (0.18.2)\n",
      "Requirement already satisfied: joblib in c:\\users\\jk253\\anaconda3\\lib\\site-packages (from pyLDAvis) (0.17.0)\n",
      "Requirement already satisfied: scipy in c:\\users\\jk253\\anaconda3\\lib\\site-packages (from pyLDAvis) (1.6.2)\n",
      "Requirement already satisfied: setuptools in c:\\users\\jk253\\anaconda3\\lib\\site-packages (from pyLDAvis) (50.3.1.post20201107)\n",
      "Requirement already satisfied: pandas>=1.2.0 in c:\\users\\jk253\\anaconda3\\lib\\site-packages (from pyLDAvis) (1.3.4)\n",
      "Requirement already satisfied: funcy in c:\\users\\jk253\\anaconda3\\lib\\site-packages (from pyLDAvis) (1.16)\n",
      "Requirement already satisfied: gensim in c:\\users\\jk253\\anaconda3\\lib\\site-packages (from pyLDAvis) (3.8.3)\n",
      "Collecting numpy>=1.20.0\n",
      "  Using cached numpy-1.21.5-cp38-cp38-win_amd64.whl (14.0 MB)\n",
      "Requirement already satisfied: scikit-learn in c:\\users\\jk253\\anaconda3\\lib\\site-packages (from pyLDAvis) (1.0.1)\n",
      "Requirement already satisfied: jinja2 in c:\\users\\jk253\\anaconda3\\lib\\site-packages (from pyLDAvis) (2.11.2)\n",
      "Requirement already satisfied: sklearn in c:\\users\\jk253\\anaconda3\\lib\\site-packages (from pyLDAvis) (0.0)\n",
      "Requirement already satisfied: python-dateutil>=2.7.3 in c:\\users\\jk253\\anaconda3\\lib\\site-packages (from pandas>=1.2.0->pyLDAvis) (2.8.1)\n",
      "Requirement already satisfied: pytz>=2017.3 in c:\\users\\jk253\\anaconda3\\lib\\site-packages (from pandas>=1.2.0->pyLDAvis) (2020.1)\n",
      "Requirement already satisfied: Cython==0.29.14 in c:\\users\\jk253\\anaconda3\\lib\\site-packages (from gensim->pyLDAvis) (0.29.14)\n"
     ]
    },
    {
     "name": "stderr",
     "output_type": "stream",
     "text": [
      "ERROR: After October 2020 you may experience errors when installing or updating packages. This is because pip will change the way that it resolves dependency conflicts.\n",
      "\n",
      "We recommend you use --use-feature=2020-resolver to test your packages with the new resolver before it becomes the default.\n",
      "\n",
      "catboost 0.26.1 requires graphviz, which is not installed.\n",
      "tensorflow-gpu 2.7.0 requires tensorflow-estimator<2.8,~=2.7.0rc0, but you'll have tensorflow-estimator 2.6.0 which is incompatible.\n",
      "yellowbrick 1.3.post1 requires numpy<1.20,>=1.16.0, but you'll have numpy 1.21.5 which is incompatible.\n",
      "tensorflow 2.6.0 requires h5py~=3.1.0, but you'll have h5py 3.6.0 which is incompatible.\n",
      "tensorflow 2.6.0 requires numpy~=1.19.2, but you'll have numpy 1.21.5 which is incompatible.\n",
      "tensorflow 2.6.0 requires wrapt~=1.12.1, but you'll have wrapt 1.13.3 which is incompatible.\n",
      "apollo 4.2.13 requires cachetools<4, but you'll have cachetools 4.2.2 which is incompatible.\n"
     ]
    },
    {
     "name": "stdout",
     "output_type": "stream",
     "text": [
      "Requirement already satisfied: smart-open>=1.8.1 in c:\\users\\jk253\\anaconda3\\lib\\site-packages (from gensim->pyLDAvis) (5.2.1)\n",
      "Requirement already satisfied: six>=1.5.0 in c:\\users\\jk253\\anaconda3\\lib\\site-packages (from gensim->pyLDAvis) (1.15.0)\n",
      "Requirement already satisfied: threadpoolctl>=2.0.0 in c:\\users\\jk253\\anaconda3\\lib\\site-packages (from scikit-learn->pyLDAvis) (2.1.0)\n",
      "Requirement already satisfied: MarkupSafe>=0.23 in c:\\users\\jk253\\anaconda3\\lib\\site-packages (from jinja2->pyLDAvis) (1.1.1)\n",
      "Installing collected packages: numpy\n",
      "  Attempting uninstall: numpy\n",
      "    Found existing installation: numpy 1.19.5\n",
      "    Uninstalling numpy-1.19.5:\n",
      "      Successfully uninstalled numpy-1.19.5\n",
      "Successfully installed numpy-1.21.5\n"
     ]
    }
   ],
   "source": [
    "!pip install pyLDAvis"
   ]
  },
  {
   "cell_type": "code",
   "execution_count": 3,
   "metadata": {},
   "outputs": [
    {
     "name": "stderr",
     "output_type": "stream",
     "text": [
      "C:\\Users\\JK253\\anaconda3\\lib\\site-packages\\numpy\\_distributor_init.py:30: UserWarning: loaded more than 1 DLL from .libs:\n",
      "C:\\Users\\JK253\\anaconda3\\lib\\site-packages\\numpy\\.libs\\libopenblas.PYQHXLVVQ7VESDPUVUADXEVJOBGHJPAY.gfortran-win_amd64.dll\n",
      "C:\\Users\\JK253\\anaconda3\\lib\\site-packages\\numpy\\.libs\\libopenblas.XWYDX2IKJW2NMTWSFYNGFUWKQU3LYTCZ.gfortran-win_amd64.dll\n",
      "  warnings.warn(\"loaded more than 1 DLL from .libs:\"\n"
     ]
    },
    {
     "name": "stdout",
     "output_type": "stream",
     "text": [
      "3.5\n"
     ]
    }
   ],
   "source": [
    "# nltk\n",
    "import nltk\n",
    "print(nltk.__version__)"
   ]
  },
  {
   "cell_type": "code",
   "execution_count": 4,
   "metadata": {},
   "outputs": [
    {
     "name": "stdout",
     "output_type": "stream",
     "text": [
      "3.8.3\n"
     ]
    }
   ],
   "source": [
    "# gensim\n",
    "import gensim\n",
    "print(gensim.__version__)"
   ]
  },
  {
   "cell_type": "markdown",
   "metadata": {},
   "source": [
    "## importation de la base de données"
   ]
  },
  {
   "cell_type": "code",
   "execution_count": 5,
   "metadata": {},
   "outputs": [],
   "source": [
    "# Charger le dossier par défaut\n",
    "import os\n",
    "os.chdir('C:/Users/JK253/Documents/Ingenieur IA/P6')"
   ]
  },
  {
   "cell_type": "code",
   "execution_count": 6,
   "metadata": {},
   "outputs": [
    {
     "name": "stdout",
     "output_type": "stream",
     "text": [
      "<class 'pandas.core.frame.DataFrame'>\n",
      "RangeIndex: 613 entries, 0 to 612\n",
      "Data columns (total 2 columns):\n",
      " #   Column  Non-Null Count  Dtype \n",
      "---  ------  --------------  ----- \n",
      " 0   text    613 non-null    object\n",
      " 1   stars   613 non-null    int64 \n",
      "dtypes: int64(1), object(1)\n",
      "memory usage: 9.7+ KB\n"
     ]
    }
   ],
   "source": [
    "# Importation du fichier\n",
    "import pandas\n",
    "D = pandas.read_csv('P6_01_fichiercsv_02.csv')\n",
    "D.info()"
   ]
  },
  {
   "cell_type": "code",
   "execution_count": 7,
   "metadata": {},
   "outputs": [
    {
     "data": {
      "text/html": [
       "<div>\n",
       "<style scoped>\n",
       "    .dataframe tbody tr th:only-of-type {\n",
       "        vertical-align: middle;\n",
       "    }\n",
       "\n",
       "    .dataframe tbody tr th {\n",
       "        vertical-align: top;\n",
       "    }\n",
       "\n",
       "    .dataframe thead th {\n",
       "        text-align: right;\n",
       "    }\n",
       "</style>\n",
       "<table border=\"1\" class=\"dataframe\">\n",
       "  <thead>\n",
       "    <tr style=\"text-align: right;\">\n",
       "      <th></th>\n",
       "      <th>text</th>\n",
       "      <th>stars</th>\n",
       "    </tr>\n",
       "  </thead>\n",
       "  <tbody>\n",
       "    <tr>\n",
       "      <th>0</th>\n",
       "      <td>*yawn*  This is the forgettable sort of bar th...</td>\n",
       "      <td>2</td>\n",
       "    </tr>\n",
       "    <tr>\n",
       "      <th>1</th>\n",
       "      <td>Ordered all veggies, because of my clean eatin...</td>\n",
       "      <td>1</td>\n",
       "    </tr>\n",
       "    <tr>\n",
       "      <th>2</th>\n",
       "      <td>I used to love this place. I ordered the honey...</td>\n",
       "      <td>2</td>\n",
       "    </tr>\n",
       "    <tr>\n",
       "      <th>3</th>\n",
       "      <td>When I was at Babson, there was a big controve...</td>\n",
       "      <td>1</td>\n",
       "    </tr>\n",
       "    <tr>\n",
       "      <th>4</th>\n",
       "      <td>We ended up at the location in Cambridge, MA j...</td>\n",
       "      <td>2</td>\n",
       "    </tr>\n",
       "  </tbody>\n",
       "</table>\n",
       "</div>"
      ],
      "text/plain": [
       "                                                text  stars\n",
       "0  *yawn*  This is the forgettable sort of bar th...      2\n",
       "1  Ordered all veggies, because of my clean eatin...      1\n",
       "2  I used to love this place. I ordered the honey...      2\n",
       "3  When I was at Babson, there was a big controve...      1\n",
       "4  We ended up at the location in Cambridge, MA j...      2"
      ]
     },
     "execution_count": 7,
     "metadata": {},
     "output_type": "execute_result"
    }
   ],
   "source": [
    "D.head()"
   ]
  },
  {
   "cell_type": "markdown",
   "metadata": {},
   "source": [
    "Pour pouvoir le manipuler, il faut nettoyer le corpus."
   ]
  },
  {
   "cell_type": "markdown",
   "metadata": {},
   "source": [
    "## Nuage de mots"
   ]
  },
  {
   "cell_type": "code",
   "execution_count": 8,
   "metadata": {},
   "outputs": [],
   "source": [
    "from wordcloud import WordCloud, STOPWORDS"
   ]
  },
  {
   "cell_type": "code",
   "execution_count": 9,
   "metadata": {},
   "outputs": [],
   "source": [
    "wordcloud = WordCloud(                      \n",
    "    background_color='white',\n",
    "    stopwords=STOPWORDS,\n",
    "    max_words=200,\n",
    "    max_font_size=40, \n",
    "    random_state=42).generate(str(D['text']))"
   ]
  },
  {
   "cell_type": "code",
   "execution_count": 10,
   "metadata": {
    "scrolled": false
   },
   "outputs": [
    {
     "name": "stdout",
     "output_type": "stream",
     "text": [
      "<wordcloud.wordcloud.WordCloud object at 0x0000019A9E645EE0>\n"
     ]
    },
    {
     "data": {
      "image/png": "[encoded data removed]",
      "text/plain": [
       "<Figure size 432x288 with 1 Axes>"
      ]
     },
     "metadata": {
      "needs_background": "light"
     },
     "output_type": "display_data"
    }
   ],
   "source": [
    "import matplotlib.pyplot as plt\n",
    "print(wordcloud)\n",
    "fig = plt.figure(1)\n",
    "plt.imshow(wordcloud)\n",
    "plt.axis('off')\n",
    "plt.show()\n",
    "fig.savefig(\"word1.png\", dpi=900)"
   ]
  },
  {
   "cell_type": "markdown",
   "metadata": {},
   "source": [
    "Le nuage de mots est une très bonne technique de départ pour vérifier les mots qui apparaisse le plus souvent sur nos différents avis d’insatisfaction des clients, on constate que la langue utiliser est l’anglais et qu’il y a quelque mots inférieurs à 3 lettres."
   ]
  },
  {
   "cell_type": "markdown",
   "metadata": {},
   "source": [
    "## Nettoyer le corpus"
   ]
  },
  {
   "cell_type": "code",
   "execution_count": 11,
   "metadata": {},
   "outputs": [
    {
     "name": "stdout",
     "output_type": "stream",
     "text": [
      "*yawn*  This is the forgettable sort of bar that you wish you hadn't wasted the neurons trying to forget.\n",
      "\n",
      "The couple times I've been here it was awkwardly empty, and the people who were there were just off.\n",
      "\n",
      "Awkward bar clientele roll call:\n",
      "* Old creeper staring from across the bar. (PS: axe murderer or misplaced lust?)\n",
      "* One excessively drunk single woo girl.\n",
      "* Excessively drunk single woo girl's 3 ex-frat boy \"friends\" who keep buying her drinks.\n",
      "* Man eating alone in the booth behind you.\n",
      "* Guy watching TV alone. Shouts frequently at it.\n",
      "\n",
      "I'm not a particular fan, so I wouldn't recommend it. There are better suburb bars in the area. For what it's worth, the connected restaurant, Chi Thai, is very good.\n"
     ]
    }
   ],
   "source": [
    "corpus = D['text'].tolist()\n",
    "print(corpus[0])"
   ]
  },
  {
   "cell_type": "markdown",
   "metadata": {},
   "source": [
    "**J'ai afficher le premier document du corpus**"
   ]
  },
  {
   "cell_type": "code",
   "execution_count": 12,
   "metadata": {},
   "outputs": [
    {
     "name": "stdout",
     "output_type": "stream",
     "text": [
      "*yawn*  this is the forgettable sort of bar that you wish you hadn't wasted the neurons trying to forget.\n",
      "\n",
      "the couple times i've been here it was awkwardly empty, and the people who were there were just off.\n",
      "\n",
      "awkward bar clientele roll call:\n",
      "* old creeper staring from across the bar. (ps: axe murderer or misplaced lust?)\n",
      "* one excessively drunk single woo girl.\n",
      "* excessively drunk single woo girl's 3 ex-frat boy \"friends\" who keep buying her drinks.\n",
      "* man eating alone in the booth behind you.\n",
      "* guy watching tv alone. shouts frequently at it.\n",
      "\n",
      "i'm not a particular fan, so i wouldn't recommend it. there are better suburb bars in the area. for what it's worth, the connected restaurant, chi thai, is very good.\n"
     ]
    }
   ],
   "source": [
    "# Passer en minuscule\n",
    "corpus = [doc.lower() for doc in corpus]\n",
    "print(corpus[0])"
   ]
  },
  {
   "cell_type": "markdown",
   "metadata": {},
   "source": [
    "**Cette étape me permet de passer tout les documents en minuscule et de les basculer dans une liste de mon corpus**"
   ]
  },
  {
   "cell_type": "code",
   "execution_count": 13,
   "metadata": {},
   "outputs": [
    {
     "name": "stdout",
     "output_type": "stream",
     "text": [
      "['!', '\"', '#', '$', '%', '&', \"'\", '(', ')', '*', '+', ',', '-', '.', '/', ':', ';', '<', '=', '>', '?', '@', '[', '\\\\', ']', '^', '_', '`', '{', '|', '}', '~']\n"
     ]
    }
   ],
   "source": [
    "# Liste des ponctuations\n",
    "import string\n",
    "ponctuations = list(string.punctuation)\n",
    "print(ponctuations)"
   ]
  },
  {
   "cell_type": "markdown",
   "metadata": {},
   "source": [
    "**J'ai récupéré la ponctuation que je mets dans une structure de liste**"
   ]
  },
  {
   "cell_type": "code",
   "execution_count": 14,
   "metadata": {},
   "outputs": [
    {
     "name": "stdout",
     "output_type": "stream",
     "text": [
      "yawn  this is the forgettable sort of bar that you wish you hadnt wasted the neurons trying to forget\n",
      "\n",
      "the couple times ive been here it was awkwardly empty and the people who were there were just off\n",
      "\n",
      "awkward bar clientele roll call\n",
      " old creeper staring from across the bar ps axe murderer or misplaced lust\n",
      " one excessively drunk single woo girl\n",
      " excessively drunk single woo girls 3 exfrat boy friends who keep buying her drinks\n",
      " man eating alone in the booth behind you\n",
      " guy watching tv alone shouts frequently at it\n",
      "\n",
      "im not a particular fan so i wouldnt recommend it there are better suburb bars in the area for what its worth the connected restaurant chi thai is very good\n"
     ]
    }
   ],
   "source": [
    "# Retrait des ponctuations\n",
    "corpus = [\"\".join([char for char in list(doc) if not (char in ponctuations)]) for doc in corpus]\n",
    "print(corpus[0])"
   ]
  },
  {
   "cell_type": "markdown",
   "metadata": {},
   "source": [
    "**pour chaque document dans le corpus, je le passe en liste de caractére et pour chaque liste de caractére que représente le document je regarde si il fait pas partie des ponctuations, si il fait partie des ponctuations, je ne le renvoie pas, et si il ne fait pas partie des ponctuations là il est renvoyé et par la suite tout celà est mis dans une liste. A ce stade j'ai une liste de caractére, pour reformer la chaine de caractére j'effectue un join. Pour finir je me retrouve avec plusieurs liste de documents avec une disparition de la ponctuation**"
   ]
  },
  {
   "cell_type": "code",
   "execution_count": 15,
   "metadata": {},
   "outputs": [
    {
     "name": "stderr",
     "output_type": "stream",
     "text": [
      "[nltk_data] Downloading package punkt to\n",
      "[nltk_data]     C:\\Users\\JK253\\AppData\\Roaming\\nltk_data...\n",
      "[nltk_data]   Package punkt is already up-to-date!\n"
     ]
    },
    {
     "data": {
      "text/plain": [
       "True"
      ]
     },
     "execution_count": 15,
     "metadata": {},
     "output_type": "execute_result"
    }
   ],
   "source": [
    "# Nécessité de punkt - modèle de tokénisation\n",
    "# A charger en ligne si ce n'est pas déjà fait\n",
    "nltk.download('punkt')"
   ]
  },
  {
   "cell_type": "markdown",
   "metadata": {},
   "source": [
    "**Instalation de l'outils punkt pour la tokénisation**"
   ]
  },
  {
   "cell_type": "code",
   "execution_count": 16,
   "metadata": {},
   "outputs": [
    {
     "name": "stdout",
     "output_type": "stream",
     "text": [
      "yawn  this is the forgettable sort of bar that you wish you hadnt wasted the neurons trying to forget\n",
      "\n",
      "the couple times ive been here it was awkwardly empty and the people who were there were just off\n",
      "\n",
      "awkward bar clientele roll call\n",
      " old creeper staring from across the bar ps axe murderer or misplaced lust\n",
      " one excessively drunk single woo girl\n",
      " excessively drunk single woo girls 3 exfrat boy friends who keep buying her drinks\n",
      " man eating alone in the booth behind you\n",
      " guy watching tv alone shouts frequently at it\n",
      "\n",
      "im not a particular fan so i wouldnt recommend it there are better suburb bars in the area for what its worth the connected restaurant chi thai is very good\n",
      "\n",
      "\n",
      "['yawn', 'this', 'is', 'the', 'forgettable', 'sort', 'of', 'bar', 'that', 'you', 'wish', 'you', 'hadnt', 'wasted', 'the', 'neurons', 'trying', 'to', 'forget', 'the', 'couple', 'times', 'ive', 'been', 'here', 'it', 'was', 'awkwardly', 'empty', 'and', 'the', 'people', 'who', 'were', 'there', 'were', 'just', 'off', 'awkward', 'bar', 'clientele', 'roll', 'call', 'old', 'creeper', 'staring', 'from', 'across', 'the', 'bar', 'ps', 'axe', 'murderer', 'or', 'misplaced', 'lust', 'one', 'excessively', 'drunk', 'single', 'woo', 'girl', 'excessively', 'drunk', 'single', 'woo', 'girls', '3', 'exfrat', 'boy', 'friends', 'who', 'keep', 'buying', 'her', 'drinks', 'man', 'eating', 'alone', 'in', 'the', 'booth', 'behind', 'you', 'guy', 'watching', 'tv', 'alone', 'shouts', 'frequently', 'at', 'it', 'im', 'not', 'a', 'particular', 'fan', 'so', 'i', 'wouldnt', 'recommend', 'it', 'there', 'are', 'better', 'suburb', 'bars', 'in', 'the', 'area', 'for', 'what', 'its', 'worth', 'the', 'connected', 'restaurant', 'chi', 'thai', 'is', 'very', 'good']\n"
     ]
    }
   ],
   "source": [
    "# Transformer le corpus en liste de listes(les documents)\n",
    "# Par tokénisation\n",
    "from nltk.tokenize import word_tokenize\n",
    "corpus_tk = [word_tokenize(doc) for doc in corpus]\n",
    "# Avant\n",
    "print(corpus[0])\n",
    "# Après tokénisation\n",
    "print('\\n')\n",
    "print(corpus_tk[0])"
   ]
  },
  {
   "cell_type": "markdown",
   "metadata": {},
   "source": [
    "**J'ai pris chaque document du corpus et je l'ai tokénizer, de plus l'outils punkt de nltk me permet de bien gérer les espaces**"
   ]
  },
  {
   "cell_type": "code",
   "execution_count": 17,
   "metadata": {},
   "outputs": [
    {
     "name": "stderr",
     "output_type": "stream",
     "text": [
      "[nltk_data] Downloading package wordnet to\n",
      "[nltk_data]     C:\\Users\\JK253\\AppData\\Roaming\\nltk_data...\n",
      "[nltk_data]   Package wordnet is already up-to-date!\n"
     ]
    },
    {
     "data": {
      "text/plain": [
       "True"
      ]
     },
     "execution_count": 17,
     "metadata": {},
     "output_type": "execute_result"
    }
   ],
   "source": [
    "# Importation librairie pour lemmatisation\n",
    "# A charger en ligne si ce n'est pas déjà fait\n",
    "nltk.download('wordnet')"
   ]
  },
  {
   "cell_type": "markdown",
   "metadata": {},
   "source": [
    "**Instalation de l'outils wordnet pour la lemmatisation. Parfois j'ai des mots en singulier ou au pluriel qui renvoie la même idée et on va en venir à la forme canonique. La forme canonique d'un mot est de renvoyer un verbe à l'infinitif de ses différentes conjugaisons afin de réduire la taille du dictionnaire.**"
   ]
  },
  {
   "cell_type": "code",
   "execution_count": 18,
   "metadata": {},
   "outputs": [
    {
     "name": "stdout",
     "output_type": "stream",
     "text": [
      "['yawn', 'this', 'is', 'the', 'forgettable', 'sort', 'of', 'bar', 'that', 'you', 'wish', 'you', 'hadnt', 'wasted', 'the', 'neuron', 'trying', 'to', 'forget', 'the', 'couple', 'time', 'ive', 'been', 'here', 'it', 'wa', 'awkwardly', 'empty', 'and', 'the', 'people', 'who', 'were', 'there', 'were', 'just', 'off', 'awkward', 'bar', 'clientele', 'roll', 'call', 'old', 'creeper', 'staring', 'from', 'across', 'the', 'bar', 'p', 'axe', 'murderer', 'or', 'misplaced', 'lust', 'one', 'excessively', 'drunk', 'single', 'woo', 'girl', 'excessively', 'drunk', 'single', 'woo', 'girl', '3', 'exfrat', 'boy', 'friend', 'who', 'keep', 'buying', 'her', 'drink', 'man', 'eating', 'alone', 'in', 'the', 'booth', 'behind', 'you', 'guy', 'watching', 'tv', 'alone', 'shout', 'frequently', 'at', 'it', 'im', 'not', 'a', 'particular', 'fan', 'so', 'i', 'wouldnt', 'recommend', 'it', 'there', 'are', 'better', 'suburb', 'bar', 'in', 'the', 'area', 'for', 'what', 'it', 'worth', 'the', 'connected', 'restaurant', 'chi', 'thai', 'is', 'very', 'good']\n"
     ]
    }
   ],
   "source": [
    "# Lemmatisation\n",
    "from nltk.stem import WordNetLemmatizer\n",
    "lem = WordNetLemmatizer()\n",
    "corpus_lm = [[lem.lemmatize(mot) for mot in doc] for doc in corpus_tk]\n",
    "print(corpus_lm[0])"
   ]
  },
  {
   "cell_type": "markdown",
   "metadata": {},
   "source": [
    "**Ce que je constate dans cette étape est que le pluriel a été mis au singulier, ce qui me réduit la taille du dictionnaire en étant moins brutale que la stématization**"
   ]
  },
  {
   "cell_type": "code",
   "execution_count": 19,
   "metadata": {},
   "outputs": [
    {
     "name": "stderr",
     "output_type": "stream",
     "text": [
      "[nltk_data] Downloading package stopwords to\n",
      "[nltk_data]     C:\\Users\\JK253\\AppData\\Roaming\\nltk_data...\n",
      "[nltk_data]   Package stopwords is already up-to-date!\n"
     ]
    },
    {
     "data": {
      "text/plain": [
       "True"
      ]
     },
     "execution_count": 19,
     "metadata": {},
     "output_type": "execute_result"
    }
   ],
   "source": [
    "# Importer la librairie des stopwords\n",
    "# A charger en ligne si ce n'est pas déjà fait\n",
    "nltk.download('stopwords')"
   ]
  },
  {
   "cell_type": "code",
   "execution_count": 20,
   "metadata": {},
   "outputs": [
    {
     "name": "stdout",
     "output_type": "stream",
     "text": [
      "['i', 'me', 'my', 'myself', 'we', 'our', 'ours', 'ourselves', 'you', \"you're\", \"you've\", \"you'll\", \"you'd\", 'your', 'yours', 'yourself', 'yourselves', 'he', 'him', 'his', 'himself', 'she', \"she's\", 'her', 'hers', 'herself', 'it', \"it's\", 'its', 'itself', 'they', 'them', 'their', 'theirs', 'themselves', 'what', 'which', 'who', 'whom', 'this', 'that', \"that'll\", 'these', 'those', 'am', 'is', 'are', 'was', 'were', 'be', 'been', 'being', 'have', 'has', 'had', 'having', 'do', 'does', 'did', 'doing', 'a', 'an', 'the', 'and', 'but', 'if', 'or', 'because', 'as', 'until', 'while', 'of', 'at', 'by', 'for', 'with', 'about', 'against', 'between', 'into', 'through', 'during', 'before', 'after', 'above', 'below', 'to', 'from', 'up', 'down', 'in', 'out', 'on', 'off', 'over', 'under', 'again', 'further', 'then', 'once', 'here', 'there', 'when', 'where', 'why', 'how', 'all', 'any', 'both', 'each', 'few', 'more', 'most', 'other', 'some', 'such', 'no', 'nor', 'not', 'only', 'own', 'same', 'so', 'than', 'too', 'very', 's', 't', 'can', 'will', 'just', 'don', \"don't\", 'should', \"should've\", 'now', 'd', 'll', 'm', 'o', 're', 've', 'y', 'ain', 'aren', \"aren't\", 'couldn', \"couldn't\", 'didn', \"didn't\", 'doesn', \"doesn't\", 'hadn', \"hadn't\", 'hasn', \"hasn't\", 'haven', \"haven't\", 'isn', \"isn't\", 'ma', 'mightn', \"mightn't\", 'mustn', \"mustn't\", 'needn', \"needn't\", 'shan', \"shan't\", 'shouldn', \"shouldn't\", 'wasn', \"wasn't\", 'weren', \"weren't\", 'won', \"won't\", 'wouldn', \"wouldn't\"]\n"
     ]
    }
   ],
   "source": [
    "# Charger les stopwords\n",
    "from nltk.corpus import stopwords\n",
    "mots_vides = stopwords.words('english')\n",
    "print(mots_vides)"
   ]
  },
  {
   "cell_type": "code",
   "execution_count": 21,
   "metadata": {},
   "outputs": [
    {
     "name": "stdout",
     "output_type": "stream",
     "text": [
      "['i', 'me', 'my', 'myself', 'we', 'our', 'ours', 'ourselves', 'you', \"you're\", \"you've\", \"you'll\", \"you'd\", 'your', 'yours', 'yourself', 'yourselves', 'he', 'him', 'his', 'himself', 'she', \"she's\", 'her', 'hers', 'herself', 'it', \"it's\", 'its', 'itself', 'they', 'them', 'their', 'theirs', 'themselves', 'what', 'which', 'who', 'whom', 'this', 'that', \"that'll\", 'these', 'those', 'am', 'is', 'are', 'was', 'were', 'be', 'been', 'being', 'have', 'has', 'had', 'having', 'do', 'does', 'did', 'doing', 'a', 'an', 'the', 'and', 'but', 'if', 'or', 'because', 'as', 'until', 'while', 'of', 'at', 'by', 'for', 'with', 'about', 'against', 'between', 'into', 'through', 'during', 'before', 'after', 'above', 'below', 'to', 'from', 'up', 'down', 'in', 'out', 'on', 'off', 'over', 'under', 'again', 'further', 'then', 'once', 'here', 'there', 'when', 'where', 'why', 'how', 'all', 'any', 'both', 'each', 'few', 'more', 'most', 'other', 'some', 'such', 'no', 'nor', 'not', 'only', 'own', 'same', 'so', 'than', 'too', 'very', 's', 't', 'can', 'will', 'just', 'don', \"don't\", 'should', \"should've\", 'now', 'd', 'll', 'm', 'o', 're', 've', 'y', 'ain', 'aren', \"aren't\", 'couldn', \"couldn't\", 'didn', \"didn't\", 'doesn', \"doesn't\", 'hadn', \"hadn't\", 'hasn', \"hasn't\", 'haven', \"haven't\", 'isn', \"isn't\", 'ma', 'mightn', \"mightn't\", 'mustn', \"mustn't\", 'needn', \"needn't\", 'shan', \"shan't\", 'shouldn', \"shouldn't\", 'wasn', \"wasn't\", 'weren', \"weren't\", 'won', \"won't\", 'wouldn', \"wouldn't\", 'bar', 'restaurant']\n"
     ]
    }
   ],
   "source": [
    "# Compléter la liste des stopwords\n",
    "# Avec les termes propres au restaurant\n",
    "mots_vides.extend(['bar', 'restaurant'])\n",
    "print(mots_vides)"
   ]
  },
  {
   "cell_type": "code",
   "execution_count": 22,
   "metadata": {
    "scrolled": true
   },
   "outputs": [
    {
     "name": "stdout",
     "output_type": "stream",
     "text": [
      "['yawn', 'this', 'is', 'the', 'forgettable', 'sort', 'of', 'bar', 'that', 'you', 'wish', 'you', 'hadnt', 'wasted', 'the', 'neuron', 'trying', 'to', 'forget', 'the', 'couple', 'time', 'ive', 'been', 'here', 'it', 'wa', 'awkwardly', 'empty', 'and', 'the', 'people', 'who', 'were', 'there', 'were', 'just', 'off', 'awkward', 'bar', 'clientele', 'roll', 'call', 'old', 'creeper', 'staring', 'from', 'across', 'the', 'bar', 'p', 'axe', 'murderer', 'or', 'misplaced', 'lust', 'one', 'excessively', 'drunk', 'single', 'woo', 'girl', 'excessively', 'drunk', 'single', 'woo', 'girl', '3', 'exfrat', 'boy', 'friend', 'who', 'keep', 'buying', 'her', 'drink', 'man', 'eating', 'alone', 'in', 'the', 'booth', 'behind', 'you', 'guy', 'watching', 'tv', 'alone', 'shout', 'frequently', 'at', 'it', 'im', 'not', 'a', 'particular', 'fan', 'so', 'i', 'wouldnt', 'recommend', 'it', 'there', 'are', 'better', 'suburb', 'bar', 'in', 'the', 'area', 'for', 'what', 'it', 'worth', 'the', 'connected', 'restaurant', 'chi', 'thai', 'is', 'very', 'good']\n",
      "\n",
      "\n",
      "['yawn', 'forgettable', 'sort', 'wish', 'hadnt', 'wasted', 'neuron', 'trying', 'forget', 'couple', 'time', 'ive', 'wa', 'awkwardly', 'empty', 'people', 'awkward', 'clientele', 'roll', 'call', 'old', 'creeper', 'staring', 'across', 'p', 'axe', 'murderer', 'misplaced', 'lust', 'one', 'excessively', 'drunk', 'single', 'woo', 'girl', 'excessively', 'drunk', 'single', 'woo', 'girl', '3', 'exfrat', 'boy', 'friend', 'keep', 'buying', 'drink', 'man', 'eating', 'alone', 'booth', 'behind', 'guy', 'watching', 'tv', 'alone', 'shout', 'frequently', 'im', 'particular', 'fan', 'wouldnt', 'recommend', 'better', 'suburb', 'area', 'worth', 'connected', 'chi', 'thai', 'good']\n"
     ]
    }
   ],
   "source": [
    "# Supression des mots-vides\n",
    "corpus_sw = [[mot for mot in doc if not mot in mots_vides] for doc in corpus_lm]\n",
    "# Vérification - origine\n",
    "print(corpus_lm[0])\n",
    "# Sans les stopwords\n",
    "print('\\n')\n",
    "print(corpus_sw[0])"
   ]
  },
  {
   "cell_type": "markdown",
   "metadata": {},
   "source": [
    "**Pour chaque document du corpus lémmatizer je regarde si le mot appartient au mot vides, si il n'appartient pas au mot vides, je le garde sinon je l'enléve.**"
   ]
  },
  {
   "cell_type": "code",
   "execution_count": 23,
   "metadata": {},
   "outputs": [
    {
     "name": "stdout",
     "output_type": "stream",
     "text": [
      "['yawn', 'forgettable', 'sort', 'wish', 'hadnt', 'wasted', 'neuron', 'trying', 'forget', 'couple', 'time', 'ive', 'awkwardly', 'empty', 'people', 'awkward', 'clientele', 'roll', 'call', 'old', 'creeper', 'staring', 'across', 'axe', 'murderer', 'misplaced', 'lust', 'one', 'excessively', 'drunk', 'single', 'woo', 'girl', 'excessively', 'drunk', 'single', 'woo', 'girl', 'exfrat', 'boy', 'friend', 'keep', 'buying', 'drink', 'man', 'eating', 'alone', 'booth', 'behind', 'guy', 'watching', 'alone', 'shout', 'frequently', 'particular', 'fan', 'wouldnt', 'recommend', 'better', 'suburb', 'area', 'worth', 'connected', 'chi', 'thai', 'good']\n"
     ]
    }
   ],
   "source": [
    "# Retirer les textes lémmatizer de moins de 3 lettres\n",
    "corpus_sw = [[mot for mot in doc if len(mot) >=3] for doc in corpus_sw]\n",
    "print(corpus_sw[0])"
   ]
  },
  {
   "cell_type": "markdown",
   "metadata": {},
   "source": [
    "**A cet instant afin de simplifier les choses on va garder les mots supérieur au égale à 3 caractéres.**"
   ]
  },
  {
   "cell_type": "code",
   "execution_count": 24,
   "metadata": {},
   "outputs": [
    {
     "name": "stdout",
     "output_type": "stream",
     "text": [
      "Dictionary(6031 unique tokens: ['across', 'alone', 'area', 'awkward', 'awkwardly']...)\n"
     ]
    }
   ],
   "source": [
    "# Construction d'un dictionnaire des tokens\n",
    "from gensim.corpora import Dictionary\n",
    "dico = Dictionary(corpus_sw)\n",
    "print(dico)"
   ]
  },
  {
   "cell_type": "code",
   "execution_count": 25,
   "metadata": {
    "scrolled": false
   },
   "outputs": [
    {
     "name": "stdout",
     "output_type": "stream",
     "text": [
      "['across', 'alone', 'alone', 'area', 'awkward', 'awkwardly', 'axe', 'behind', 'better', 'booth', 'boy', 'buying', 'call', 'chi', 'clientele', 'connected', 'couple', 'creeper', 'drink', 'drunk', 'drunk', 'eating', 'empty', 'excessively', 'excessively', 'exfrat', 'fan', 'forget', 'forgettable', 'frequently', 'friend', 'girl', 'girl', 'good', 'guy', 'hadnt', 'ive', 'keep', 'lust', 'man', 'misplaced', 'murderer', 'neuron', 'old', 'one', 'particular', 'people', 'recommend', 'roll', 'shout', 'single', 'single', 'sort', 'staring', 'suburb', 'thai', 'time', 'trying', 'wasted', 'watching', 'wish', 'woo', 'woo', 'worth', 'wouldnt', 'yawn']\n",
      "\n",
      "\n",
      "[(0, 1), (1, 2), (2, 1), (3, 1), (4, 1), (5, 1), (6, 1), (7, 1), (8, 1), (9, 1), (10, 1), (11, 1), (12, 1), (13, 1), (14, 1), (15, 1), (16, 1), (17, 1), (18, 2), (19, 1), (20, 1), (21, 2), (22, 1), (23, 1), (24, 1), (25, 1), (26, 1), (27, 1), (28, 2), (29, 1), (30, 1), (31, 1), (32, 1), (33, 1), (34, 1), (35, 1), (36, 1), (37, 1), (38, 1), (39, 1), (40, 1), (41, 1), (42, 1), (43, 1), (44, 1), (45, 1), (46, 2), (47, 1), (48, 1), (49, 1), (50, 1), (51, 1), (52, 1), (53, 1), (54, 1), (55, 1), (56, 2), (57, 1), (58, 1), (59, 1)]\n"
     ]
    }
   ],
   "source": [
    "# Représentation bag of words des documents\n",
    "corpus_bow = [dico.doc2bow(doc) for doc in corpus_sw]\n",
    "# Vérification\n",
    "print(sorted(corpus_sw[0]))\n",
    "# Et en bag of word\n",
    "print('\\n')\n",
    "print(corpus_bow[0])"
   ]
  },
  {
   "cell_type": "markdown",
   "metadata": {},
   "source": [
    "## Définir les fonction de nettoyage"
   ]
  },
  {
   "cell_type": "code",
   "execution_count": 26,
   "metadata": {
    "scrolled": true
   },
   "outputs": [
    {
     "name": "stdout",
     "output_type": "stream",
     "text": [
      "['!', '\"', '#', '$', '%', '&', \"'\", '(', ')', '*', '+', ',', '-', '.', '/', ':', ';', '<', '=', '>', '?', '@', '[', '\\\\', ']', '^', '_', '`', '{', '|', '}', '~']\n",
      "\n",
      "\n",
      "['i', 'me', 'my', 'myself', 'we', 'our', 'ours', 'ourselves', 'you', \"you're\", \"you've\", \"you'll\", \"you'd\", 'your', 'yours', 'yourself', 'yourselves', 'he', 'him', 'his', 'himself', 'she', \"she's\", 'her', 'hers', 'herself', 'it', \"it's\", 'its', 'itself', 'they', 'them', 'their', 'theirs', 'themselves', 'what', 'which', 'who', 'whom', 'this', 'that', \"that'll\", 'these', 'those', 'am', 'is', 'are', 'was', 'were', 'be', 'been', 'being', 'have', 'has', 'had', 'having', 'do', 'does', 'did', 'doing', 'a', 'an', 'the', 'and', 'but', 'if', 'or', 'because', 'as', 'until', 'while', 'of', 'at', 'by', 'for', 'with', 'about', 'against', 'between', 'into', 'through', 'during', 'before', 'after', 'above', 'below', 'to', 'from', 'up', 'down', 'in', 'out', 'on', 'off', 'over', 'under', 'again', 'further', 'then', 'once', 'here', 'there', 'when', 'where', 'why', 'how', 'all', 'any', 'both', 'each', 'few', 'more', 'most', 'other', 'some', 'such', 'no', 'nor', 'not', 'only', 'own', 'same', 'so', 'than', 'too', 'very', 's', 't', 'can', 'will', 'just', 'don', \"don't\", 'should', \"should've\", 'now', 'd', 'll', 'm', 'o', 're', 've', 'y', 'ain', 'aren', \"aren't\", 'couldn', \"couldn't\", 'didn', \"didn't\", 'doesn', \"doesn't\", 'hadn', \"hadn't\", 'hasn', \"hasn't\", 'haven', \"haven't\", 'isn', \"isn't\", 'ma', 'mightn', \"mightn't\", 'mustn', \"mustn't\", 'needn', \"needn't\", 'shan', \"shan't\", 'shouldn', \"shouldn't\", 'wasn', \"wasn't\", 'weren', \"weren't\", 'won', \"won't\", 'wouldn', \"wouldn't\"]\n"
     ]
    },
    {
     "name": "stderr",
     "output_type": "stream",
     "text": [
      "[nltk_data] Downloading package punkt to\n",
      "[nltk_data]     C:\\Users\\JK253\\AppData\\Roaming\\nltk_data...\n",
      "[nltk_data]   Package punkt is already up-to-date!\n",
      "[nltk_data] Downloading package wordnet to\n",
      "[nltk_data]     C:\\Users\\JK253\\AppData\\Roaming\\nltk_data...\n",
      "[nltk_data]   Package wordnet is already up-to-date!\n",
      "[nltk_data] Downloading package stopwords to\n",
      "[nltk_data]     C:\\Users\\JK253\\AppData\\Roaming\\nltk_data...\n",
      "[nltk_data]   Package stopwords is already up-to-date!\n"
     ]
    }
   ],
   "source": [
    "#*****************************************\n",
    "# Préparation des librairie et des outils\n",
    "# pour le nettoyage des documents\n",
    "#*****************************************\n",
    "\n",
    "# Expressions régulières\n",
    "import re\n",
    "\n",
    "# Pontuations\n",
    "import string\n",
    "ponctuations = list(string.punctuation)\n",
    "print(ponctuations)\n",
    "\n",
    "# Tokénisation\n",
    "import nltk\n",
    "nltk.download('punkt')\n",
    "from nltk.tokenize import word_tokenize\n",
    "\n",
    "# Lemmatisation\n",
    "nltk.download('wordnet')\n",
    "from nltk.stem import WordNetLemmatizer\n",
    "lem = WordNetLemmatizer()\n",
    "\n",
    "# Charger les stopwords\n",
    "nltk.download('stopwords')\n",
    "from nltk.corpus import stopwords\n",
    "mots_vides = stopwords.words('english')\n",
    "print('\\n')\n",
    "print(mots_vides)"
   ]
  },
  {
   "cell_type": "code",
   "execution_count": 27,
   "metadata": {},
   "outputs": [],
   "source": [
    "# fonction pour nettoyage de chaque document\n",
    "# tweet = corps du tweet = document\n",
    "# ponctuations : liste des ponctuations\n",
    "# stopwords : liste des stopwords à retirer\n",
    "# lem : fonction pour la lemmatisation des termes\n",
    "\n",
    "def clean_text(text, ponctuations, stopwords, lem):\n",
    "    # Harmonisation de la casse\n",
    "    temp = text.lower()\n",
    "    # retier les contractions en anglais\n",
    "    temp = re.sub(\"'\", \"\", temp)\n",
    "    # retrait des @\n",
    "    temp = re.sub(\"@[A-Za-z0-9_]+\", \"\", temp)\n",
    "    # retrait des #\n",
    "    temp = re.sub(\"#[A-Za-z0-9_]+\", \"\", temp)\n",
    "    # retrait des liens web (http et https)\n",
    "    temp = re.sub(r'http\\S+','', temp)\n",
    "    # retrait des ponctuations\n",
    "    temp = \"\".join([char for char in list(temp) if not (char in ponctuations)])\n",
    "    # retrait des nombres\n",
    "    temp = re.sub(\"[0-9]\", \"\", temp)\n",
    "    # tokénisation\n",
    "    temp = word_tokenize(temp)\n",
    "    # lemmatisation des termes\n",
    "    temp = [lem.lemmatize(mot) for mot in temp]\n",
    "    # retrait des stopwords\n",
    "    temp = [mot for mot in temp if not mot in stopwords]\n",
    "    # retirer les tokens de moins de 3 caractères\n",
    "    temp = [mot for mot in temp if len(mot) >= 3]\n",
    "    return temp"
   ]
  },
  {
   "cell_type": "code",
   "execution_count": 28,
   "metadata": {},
   "outputs": [],
   "source": [
    "# Appliquer le nettoyage au corpus\n",
    "corpus = list(D.text)\n",
    "corpus = [clean_text(doc, ponctuations, mots_vides, lem) for doc in corpus]"
   ]
  },
  {
   "cell_type": "code",
   "execution_count": 29,
   "metadata": {
    "scrolled": true
   },
   "outputs": [
    {
     "data": {
      "text/plain": [
       "['yawn',\n",
       " 'forgettable',\n",
       " 'sort',\n",
       " 'bar',\n",
       " 'wish',\n",
       " 'hadnt',\n",
       " 'wasted',\n",
       " 'neuron',\n",
       " 'trying',\n",
       " 'forget',\n",
       " 'couple',\n",
       " 'time',\n",
       " 'ive',\n",
       " 'awkwardly',\n",
       " 'empty',\n",
       " 'people',\n",
       " 'awkward',\n",
       " 'bar',\n",
       " 'clientele',\n",
       " 'roll',\n",
       " 'call',\n",
       " 'old',\n",
       " 'creeper',\n",
       " 'staring',\n",
       " 'across',\n",
       " 'bar',\n",
       " 'axe',\n",
       " 'murderer',\n",
       " 'misplaced',\n",
       " 'lust',\n",
       " 'one',\n",
       " 'excessively',\n",
       " 'drunk',\n",
       " 'single',\n",
       " 'woo',\n",
       " 'girl',\n",
       " 'excessively',\n",
       " 'drunk',\n",
       " 'single',\n",
       " 'woo',\n",
       " 'girl',\n",
       " 'exfrat',\n",
       " 'boy',\n",
       " 'friend',\n",
       " 'keep',\n",
       " 'buying',\n",
       " 'drink',\n",
       " 'man',\n",
       " 'eating',\n",
       " 'alone',\n",
       " 'booth',\n",
       " 'behind',\n",
       " 'guy',\n",
       " 'watching',\n",
       " 'alone',\n",
       " 'shout',\n",
       " 'frequently',\n",
       " 'particular',\n",
       " 'fan',\n",
       " 'wouldnt',\n",
       " 'recommend',\n",
       " 'better',\n",
       " 'suburb',\n",
       " 'bar',\n",
       " 'area',\n",
       " 'worth',\n",
       " 'connected',\n",
       " 'restaurant',\n",
       " 'chi',\n",
       " 'thai',\n",
       " 'good']"
      ]
     },
     "execution_count": 29,
     "metadata": {},
     "output_type": "execute_result"
    }
   ],
   "source": [
    "corpus[0]"
   ]
  },
  {
   "cell_type": "code",
   "execution_count": 30,
   "metadata": {},
   "outputs": [
    {
     "name": "stdout",
     "output_type": "stream",
     "text": [
      "yawn forgettable sort bar wish hadnt wasted neuron trying forget couple time ive awkwardly empty people awkward bar clientele roll call old creeper staring across bar axe murderer misplaced lust one excessively drunk single woo girl excessively drunk single woo girl exfrat boy friend keep buying drink man eating alone booth behind guy watching alone shout frequently particular fan wouldnt recommend better suburb bar area worth connected restaurant chi thai good\n"
     ]
    }
   ],
   "source": [
    "#reformer les documents sous forme de chaîne\n",
    "documents = [\" \".join(doc) for doc in corpus]\n",
    "print(documents[0])"
   ]
  },
  {
   "cell_type": "code",
   "execution_count": 31,
   "metadata": {},
   "outputs": [
    {
     "name": "stdout",
     "output_type": "stream",
     "text": [
      "avant:.........\n"
     ]
    },
    {
     "data": {
      "text/html": [
       "<div>\n",
       "<style scoped>\n",
       "    .dataframe tbody tr th:only-of-type {\n",
       "        vertical-align: middle;\n",
       "    }\n",
       "\n",
       "    .dataframe tbody tr th {\n",
       "        vertical-align: top;\n",
       "    }\n",
       "\n",
       "    .dataframe thead th {\n",
       "        text-align: right;\n",
       "    }\n",
       "</style>\n",
       "<table border=\"1\" class=\"dataframe\">\n",
       "  <thead>\n",
       "    <tr style=\"text-align: right;\">\n",
       "      <th></th>\n",
       "      <th>text</th>\n",
       "      <th>stars</th>\n",
       "    </tr>\n",
       "  </thead>\n",
       "  <tbody>\n",
       "    <tr>\n",
       "      <th>0</th>\n",
       "      <td>*yawn*  This is the forgettable sort of bar th...</td>\n",
       "      <td>2</td>\n",
       "    </tr>\n",
       "    <tr>\n",
       "      <th>1</th>\n",
       "      <td>Ordered all veggies, because of my clean eatin...</td>\n",
       "      <td>1</td>\n",
       "    </tr>\n",
       "    <tr>\n",
       "      <th>2</th>\n",
       "      <td>I used to love this place. I ordered the honey...</td>\n",
       "      <td>2</td>\n",
       "    </tr>\n",
       "    <tr>\n",
       "      <th>3</th>\n",
       "      <td>When I was at Babson, there was a big controve...</td>\n",
       "      <td>1</td>\n",
       "    </tr>\n",
       "    <tr>\n",
       "      <th>4</th>\n",
       "      <td>We ended up at the location in Cambridge, MA j...</td>\n",
       "      <td>2</td>\n",
       "    </tr>\n",
       "    <tr>\n",
       "      <th>5</th>\n",
       "      <td>Back in 2002 I remember having a macaroni pie ...</td>\n",
       "      <td>2</td>\n",
       "    </tr>\n",
       "    <tr>\n",
       "      <th>6</th>\n",
       "      <td>completely less-than mediocre. i had a tomato-...</td>\n",
       "      <td>1</td>\n",
       "    </tr>\n",
       "    <tr>\n",
       "      <th>7</th>\n",
       "      <td>This is the first time we ate at Finians under...</td>\n",
       "      <td>1</td>\n",
       "    </tr>\n",
       "    <tr>\n",
       "      <th>8</th>\n",
       "      <td>I can't say that I got a warm fuzzy feeling ea...</td>\n",
       "      <td>2</td>\n",
       "    </tr>\n",
       "    <tr>\n",
       "      <th>9</th>\n",
       "      <td>I've never done the bruch, and it seems like t...</td>\n",
       "      <td>2</td>\n",
       "    </tr>\n",
       "  </tbody>\n",
       "</table>\n",
       "</div>"
      ],
      "text/plain": [
       "                                                text  stars\n",
       "0  *yawn*  This is the forgettable sort of bar th...      2\n",
       "1  Ordered all veggies, because of my clean eatin...      1\n",
       "2  I used to love this place. I ordered the honey...      2\n",
       "3  When I was at Babson, there was a big controve...      1\n",
       "4  We ended up at the location in Cambridge, MA j...      2\n",
       "5  Back in 2002 I remember having a macaroni pie ...      2\n",
       "6  completely less-than mediocre. i had a tomato-...      1\n",
       "7  This is the first time we ate at Finians under...      1\n",
       "8  I can't say that I got a warm fuzzy feeling ea...      2\n",
       "9  I've never done the bruch, and it seems like t...      2"
      ]
     },
     "execution_count": 31,
     "metadata": {},
     "output_type": "execute_result"
    }
   ],
   "source": [
    "# Nouvelle dataframe\n",
    "df = pandas.DataFrame({'score': D.stars,'text': documents})\n",
    "print(\"avant:.........\")\n",
    "D.head(10)"
   ]
  },
  {
   "cell_type": "code",
   "execution_count": 32,
   "metadata": {
    "scrolled": true
   },
   "outputs": [
    {
     "name": "stdout",
     "output_type": "stream",
     "text": [
      "après:.........\n"
     ]
    },
    {
     "data": {
      "text/html": [
       "<div>\n",
       "<style scoped>\n",
       "    .dataframe tbody tr th:only-of-type {\n",
       "        vertical-align: middle;\n",
       "    }\n",
       "\n",
       "    .dataframe tbody tr th {\n",
       "        vertical-align: top;\n",
       "    }\n",
       "\n",
       "    .dataframe thead th {\n",
       "        text-align: right;\n",
       "    }\n",
       "</style>\n",
       "<table border=\"1\" class=\"dataframe\">\n",
       "  <thead>\n",
       "    <tr style=\"text-align: right;\">\n",
       "      <th></th>\n",
       "      <th>score</th>\n",
       "      <th>text</th>\n",
       "    </tr>\n",
       "  </thead>\n",
       "  <tbody>\n",
       "    <tr>\n",
       "      <th>0</th>\n",
       "      <td>2</td>\n",
       "      <td>yawn forgettable sort bar wish hadnt wasted ne...</td>\n",
       "    </tr>\n",
       "    <tr>\n",
       "      <th>1</th>\n",
       "      <td>1</td>\n",
       "      <td>ordered veggie clean eating regimen returned w...</td>\n",
       "    </tr>\n",
       "    <tr>\n",
       "      <th>2</th>\n",
       "      <td>2</td>\n",
       "      <td>used love place ordered honey chicken chewy ed...</td>\n",
       "    </tr>\n",
       "    <tr>\n",
       "      <th>3</th>\n",
       "      <td>1</td>\n",
       "      <td>babson big controversy staff racistsimilar div...</td>\n",
       "    </tr>\n",
       "    <tr>\n",
       "      <th>4</th>\n",
       "      <td>2</td>\n",
       "      <td>ended location cambridge chance food court lik...</td>\n",
       "    </tr>\n",
       "    <tr>\n",
       "      <th>5</th>\n",
       "      <td>2</td>\n",
       "      <td>back remember macaroni pie counter garage food...</td>\n",
       "    </tr>\n",
       "    <tr>\n",
       "      <th>6</th>\n",
       "      <td>1</td>\n",
       "      <td>completely lessthan mediocre tomatomozzarella ...</td>\n",
       "    </tr>\n",
       "    <tr>\n",
       "      <th>7</th>\n",
       "      <td>1</td>\n",
       "      <td>first time ate finians new management good exp...</td>\n",
       "    </tr>\n",
       "    <tr>\n",
       "      <th>8</th>\n",
       "      <td>2</td>\n",
       "      <td>cant say got warm fuzzy feeling eating place d...</td>\n",
       "    </tr>\n",
       "    <tr>\n",
       "      <th>9</th>\n",
       "      <td>2</td>\n",
       "      <td>ive never done bruch seems like thats thing pl...</td>\n",
       "    </tr>\n",
       "  </tbody>\n",
       "</table>\n",
       "</div>"
      ],
      "text/plain": [
       "   score                                               text\n",
       "0      2  yawn forgettable sort bar wish hadnt wasted ne...\n",
       "1      1  ordered veggie clean eating regimen returned w...\n",
       "2      2  used love place ordered honey chicken chewy ed...\n",
       "3      1  babson big controversy staff racistsimilar div...\n",
       "4      2  ended location cambridge chance food court lik...\n",
       "5      2  back remember macaroni pie counter garage food...\n",
       "6      1  completely lessthan mediocre tomatomozzarella ...\n",
       "7      1  first time ate finians new management good exp...\n",
       "8      2  cant say got warm fuzzy feeling eating place d...\n",
       "9      2  ive never done bruch seems like thats thing pl..."
      ]
     },
     "execution_count": 32,
     "metadata": {},
     "output_type": "execute_result"
    }
   ],
   "source": [
    "print(\"après:.........\")\n",
    "df.head(10)"
   ]
  },
  {
   "cell_type": "code",
   "execution_count": 33,
   "metadata": {},
   "outputs": [
    {
     "name": "stdout",
     "output_type": "stream",
     "text": [
      "0\n"
     ]
    }
   ],
   "source": [
    "# des documents vides après nettoyage?\n",
    "print(df.loc[df.text==\"\"].shape[0])"
   ]
  },
  {
   "cell_type": "code",
   "execution_count": 34,
   "metadata": {},
   "outputs": [
    {
     "name": "stdout",
     "output_type": "stream",
     "text": [
      "(613, 2)\n"
     ]
    }
   ],
   "source": [
    "# retrait des documents correspondants\n",
    "df_ok = df.loc[df.text != \"\"]\n",
    "print(df_ok.shape)"
   ]
  },
  {
   "cell_type": "markdown",
   "metadata": {},
   "source": [
    "## TF IDF"
   ]
  },
  {
   "cell_type": "code",
   "execution_count": 35,
   "metadata": {},
   "outputs": [],
   "source": [
    "from sklearn.feature_extraction.text import TfidfVectorizer"
   ]
  },
  {
   "cell_type": "code",
   "execution_count": 36,
   "metadata": {},
   "outputs": [],
   "source": [
    "vectorizer = TfidfVectorizer(analyzer= 'word',ngram_range=(1,2),stop_words = \"english\")"
   ]
  },
  {
   "cell_type": "code",
   "execution_count": 37,
   "metadata": {},
   "outputs": [],
   "source": [
    "tfidf_mat = vectorizer.fit_transform(df_ok.text)"
   ]
  },
  {
   "cell_type": "code",
   "execution_count": 38,
   "metadata": {},
   "outputs": [
    {
     "name": "stderr",
     "output_type": "stream",
     "text": [
      "C:\\Users\\JK253\\anaconda3\\lib\\site-packages\\sklearn\\utils\\deprecation.py:87: FutureWarning: Function get_feature_names is deprecated; get_feature_names is deprecated in 1.0 and will be removed in 1.2. Please use get_feature_names_out instead.\n",
      "  warnings.warn(msg, category=FutureWarning)\n"
     ]
    }
   ],
   "source": [
    "feature_names = vectorizer.get_feature_names()"
   ]
  },
  {
   "cell_type": "code",
   "execution_count": 39,
   "metadata": {},
   "outputs": [],
   "source": [
    "dense = tfidf_mat.todense()\n",
    "denselist = dense.tolist()"
   ]
  },
  {
   "cell_type": "code",
   "execution_count": 40,
   "metadata": {},
   "outputs": [
    {
     "name": "stdout",
     "output_type": "stream",
     "text": [
      "(613, 31882)\n"
     ]
    }
   ],
   "source": [
    "df_tfidf = pandas.DataFrame(denselist, columns=feature_names)\n",
    "print(df_tfidf.shape)"
   ]
  },
  {
   "cell_type": "markdown",
   "metadata": {},
   "source": [
    "## Réduction de dimension PCA\n",
    "* La réduction PCA permet de créer des features décorrélées entre elles, et de diminuer leur dimension, tout en gardant un niveau de variance expliquée élevé (99%)"
   ]
  },
  {
   "cell_type": "code",
   "execution_count": 41,
   "metadata": {},
   "outputs": [
    {
     "name": "stdout",
     "output_type": "stream",
     "text": [
      "Dimensions dataset avant réduction PCA :  (613, 31882)\n",
      "Dimensions dataset après réduction PCA :  (613, 604)\n"
     ]
    }
   ],
   "source": [
    "from sklearn import manifold, decomposition\n",
    "print(\"Dimensions dataset avant réduction PCA : \", df_tfidf.shape)\n",
    "pca = decomposition.PCA(n_components=0.99)\n",
    "feat_pca= pca.fit_transform(df_tfidf)\n",
    "print(\"Dimensions dataset après réduction PCA : \", feat_pca.shape)"
   ]
  },
  {
   "cell_type": "markdown",
   "metadata": {},
   "source": [
    "### Réduction de dimension T-SNE\n",
    "* Réduction de dimension en 2 composantes T-SNE pour affichage en 2D "
   ]
  },
  {
   "cell_type": "code",
   "execution_count": 42,
   "metadata": {},
   "outputs": [
    {
     "name": "stderr",
     "output_type": "stream",
     "text": [
      "C:\\Users\\JK253\\anaconda3\\lib\\site-packages\\sklearn\\manifold\\_t_sne.py:790: FutureWarning: The default learning rate in TSNE will change from 200.0 to 'auto' in 1.2.\n",
      "  warnings.warn(\n"
     ]
    },
    {
     "name": "stdout",
     "output_type": "stream",
     "text": [
      "(613, 2)\n"
     ]
    }
   ],
   "source": [
    "tsne = manifold.TSNE(n_components=2, perplexity=30, \n",
    "                     n_iter=2000, init='random', random_state=6)\n",
    "X_tsne = tsne.fit_transform(feat_pca)\n",
    "\n",
    "df_tsne = pandas.DataFrame(X_tsne[:,0:2], columns=['tsne1', 'tsne2'])\n",
    "print(df_tsne.shape)"
   ]
  },
  {
   "cell_type": "markdown",
   "metadata": {},
   "source": [
    "## Comparer 4 modéles (K-Means, LDA, LDA mallet et NMF)"
   ]
  },
  {
   "cell_type": "code",
   "execution_count": 43,
   "metadata": {},
   "outputs": [],
   "source": [
    "from yellowbrick.cluster import KElbowVisualizer, SilhouetteVisualizer\n",
    "from sklearn.cluster import KMeans"
   ]
  },
  {
   "cell_type": "code",
   "execution_count": 44,
   "metadata": {
    "scrolled": true
   },
   "outputs": [
    {
     "data": {
      "image/png": "[encoded data removed]",
      "text/plain": [
       "<Figure size 576x396 with 1 Axes>"
      ]
     },
     "metadata": {},
     "output_type": "display_data"
    },
    {
     "data": {
      "text/plain": [
       "<AxesSubplot:title={'center':'Silhouette Score Elbow for KMeans Clustering'}, xlabel='k', ylabel='silhouette score'>"
      ]
     },
     "execution_count": 44,
     "metadata": {},
     "output_type": "execute_result"
    }
   ],
   "source": [
    "model = KMeans()\n",
    "visualizer = KElbowVisualizer(model, k=(2,20), metric='silhouette', timings=False)\n",
    "\n",
    "visualizer.fit(df_tsne)   \n",
    "visualizer.poof() "
   ]
  },
  {
   "cell_type": "markdown",
   "metadata": {},
   "source": [
    "### Le modéle K-Means choisie avec 3 clusters"
   ]
  },
  {
   "cell_type": "code",
   "execution_count": 65,
   "metadata": {},
   "outputs": [],
   "source": [
    "model_kmeans_choisie = KMeans(3)"
   ]
  },
  {
   "cell_type": "markdown",
   "metadata": {},
   "source": [
    "## LDA"
   ]
  },
  {
   "cell_type": "markdown",
   "metadata": {},
   "source": [
    "### Effectuer une analyse comparative pour déterminer la meilleure valeur de K(sujet) à l’aide du cohérence score pour le modèle LDA"
   ]
  },
  {
   "cell_type": "code",
   "execution_count": 45,
   "metadata": {},
   "outputs": [],
   "source": [
    "from gensim.models import CoherenceModel\n",
    "def compute_coherence_values_lda(corpus, texts, limit=18, start=1, step=1):\n",
    "  \n",
    "    coherence_values_lda = []\n",
    "    model_list_lda = []\n",
    "    for num_topics in range(start, limit, step):\n",
    "        model = gensim.models.ldamodel.LdaModel(corpus=corpus_bow,\n",
    "                                           id2word=dico,\n",
    "                                           num_topics=num_topics, \n",
    "                                           random_state=100,\n",
    "                                           update_every=1,\n",
    "                                           chunksize=100,\n",
    "                                           passes=10,\n",
    "                                           alpha='auto',\n",
    "                                           per_word_topics=True)\n",
    "        model_list_lda.append(model)\n",
    "        coherencemodel = CoherenceModel(model=model, texts=corpus_sw, coherence='c_v')\n",
    "        coherence_values_lda.append(coherencemodel.get_coherence())\n",
    "\n",
    "    return model_list_lda, coherence_values_lda"
   ]
  },
  {
   "cell_type": "code",
   "execution_count": 46,
   "metadata": {},
   "outputs": [],
   "source": [
    "model_list_lda, coherence_values_lda = compute_coherence_values_lda(corpus=corpus_bow, texts=corpus, start=1, limit=18, step=1)"
   ]
  },
  {
   "cell_type": "code",
   "execution_count": 47,
   "metadata": {},
   "outputs": [
    {
     "data": {
      "image/png": "[encoded data removed]",
      "text/plain": [
       "<Figure size 576x396 with 1 Axes>"
      ]
     },
     "metadata": {},
     "output_type": "display_data"
    }
   ],
   "source": [
    "# Afficher le graphique\n",
    "limit=18; start=1; step=1;\n",
    "x = range(start, limit, step)\n",
    "plt.plot(x, coherence_values_lda)\n",
    "plt.xlabel(\"Num Topics\")\n",
    "plt.ylabel(\"Coherence score\")\n",
    "plt.legend((\"coherence_values\"), loc='best')\n",
    "plt.show()"
   ]
  },
  {
   "cell_type": "code",
   "execution_count": 48,
   "metadata": {
    "scrolled": false
   },
   "outputs": [
    {
     "name": "stdout",
     "output_type": "stream",
     "text": [
      "Num Topics = 1 à une valeur de cohérence de 0.3236\n",
      "Num Topics = 2 à une valeur de cohérence de 0.3235\n",
      "Num Topics = 3 à une valeur de cohérence de 0.2761\n",
      "Num Topics = 4 à une valeur de cohérence de 0.3422\n",
      "Num Topics = 5 à une valeur de cohérence de 0.3236\n",
      "Num Topics = 6 à une valeur de cohérence de 0.4048\n",
      "Num Topics = 7 à une valeur de cohérence de 0.4469\n",
      "Num Topics = 8 à une valeur de cohérence de 0.4478\n",
      "Num Topics = 9 à une valeur de cohérence de 0.3961\n",
      "Num Topics = 10 à une valeur de cohérence de 0.4659\n",
      "Num Topics = 11 à une valeur de cohérence de 0.5284\n",
      "Num Topics = 12 à une valeur de cohérence de 0.4497\n",
      "Num Topics = 13 à une valeur de cohérence de 0.369\n",
      "Num Topics = 14 à une valeur de cohérence de 0.4701\n",
      "Num Topics = 15 à une valeur de cohérence de 0.4323\n",
      "Num Topics = 16 à une valeur de cohérence de 0.4846\n",
      "Num Topics = 17 à une valeur de cohérence de 0.4295\n"
     ]
    }
   ],
   "source": [
    "for m, cv in zip(x, coherence_values_lda):\n",
    "    print(\"Num Topics =\", m, \"à une valeur de cohérence de\", round(cv, 4))"
   ]
  },
  {
   "cell_type": "markdown",
   "metadata": {},
   "source": [
    "Le graphique ci-dessus nous montre que la meilleurs performance se situe entre 10 et 12 sujets, de plus nous voyons que la meilleurs performance est de 11 topics avec une valeur de 0,5284."
   ]
  },
  {
   "cell_type": "markdown",
   "metadata": {},
   "source": [
    "### Le modéle LDA choisie avec 11 topics"
   ]
  },
  {
   "cell_type": "code",
   "execution_count": 49,
   "metadata": {},
   "outputs": [],
   "source": [
    "model_LDA_choisie = gensim.models.ldamodel.LdaModel(corpus=corpus_bow,\n",
    "                                           id2word=dico,\n",
    "                                           num_topics=11, \n",
    "                                           random_state=100,\n",
    "                                           update_every=1,\n",
    "                                           chunksize=100,\n",
    "                                           passes=10,\n",
    "                                           alpha='auto',\n",
    "                                           per_word_topics=True)"
   ]
  },
  {
   "cell_type": "markdown",
   "metadata": {},
   "source": [
    "## LDA mallet"
   ]
  },
  {
   "cell_type": "markdown",
   "metadata": {},
   "source": [
    "### Effectuer une analyse comparative pour déterminer la meilleure valeur de K(sujet) à l’aide du cohérence score pour le modèle LDA mallet"
   ]
  },
  {
   "cell_type": "code",
   "execution_count": 50,
   "metadata": {},
   "outputs": [],
   "source": [
    "os.environ.update({'MALLET_HOME':r'C:/mallet-2.0.8'})"
   ]
  },
  {
   "cell_type": "code",
   "execution_count": 51,
   "metadata": {},
   "outputs": [],
   "source": [
    "mallet_path = 'C:/mallet-2.0.8/bin/mallet'"
   ]
  },
  {
   "cell_type": "code",
   "execution_count": 52,
   "metadata": {},
   "outputs": [],
   "source": [
    "def compute_coherence_values_mallet(corpus, texts, limit=18, start=1, step=1):\n",
    "  \n",
    "    coherence_values = []\n",
    "    model_list = []\n",
    "    for num_topics in range(start, limit, step):\n",
    "        model = gensim.models.wrappers.LdaMallet(mallet_path, corpus=corpus_bow, num_topics=num_topics, id2word=dico)\n",
    "        model_list.append(model)\n",
    "        coherencemodel = CoherenceModel(model=model, texts=texts, coherence='c_v')\n",
    "        coherence_values.append(coherencemodel.get_coherence())\n",
    "\n",
    "    return model_list, coherence_values"
   ]
  },
  {
   "cell_type": "code",
   "execution_count": 53,
   "metadata": {},
   "outputs": [],
   "source": [
    "model_list, coherence_values = compute_coherence_values_mallet(corpus=corpus_bow, texts=corpus, start=1, limit=18, step=1)"
   ]
  },
  {
   "cell_type": "code",
   "execution_count": 54,
   "metadata": {},
   "outputs": [
    {
     "data": {
      "image/png": "[encoded data removed]",
      "text/plain": [
       "<Figure size 576x396 with 1 Axes>"
      ]
     },
     "metadata": {},
     "output_type": "display_data"
    }
   ],
   "source": [
    "# afficher le graphique\n",
    "limit=18; start=1; step=1;\n",
    "x = range(start, limit, step)\n",
    "plt.plot(x, coherence_values)\n",
    "plt.xlabel(\"Num Topics\")\n",
    "plt.ylabel(\"Coherence score\")\n",
    "plt.legend((\"coherence_values\"), loc='best')\n",
    "plt.show()"
   ]
  },
  {
   "cell_type": "code",
   "execution_count": 55,
   "metadata": {
    "scrolled": true
   },
   "outputs": [
    {
     "name": "stdout",
     "output_type": "stream",
     "text": [
      "Num Topics = 1 à une valeur de cohérence de 0.334\n",
      "Num Topics = 2 à une valeur de cohérence de 0.2965\n",
      "Num Topics = 3 à une valeur de cohérence de 0.3245\n",
      "Num Topics = 4 à une valeur de cohérence de 0.3026\n",
      "Num Topics = 5 à une valeur de cohérence de 0.2509\n",
      "Num Topics = 6 à une valeur de cohérence de 0.3128\n",
      "Num Topics = 7 à une valeur de cohérence de 0.3224\n",
      "Num Topics = 8 à une valeur de cohérence de 0.29\n",
      "Num Topics = 9 à une valeur de cohérence de 0.2875\n",
      "Num Topics = 10 à une valeur de cohérence de 0.2813\n",
      "Num Topics = 11 à une valeur de cohérence de 0.2927\n",
      "Num Topics = 12 à une valeur de cohérence de 0.3072\n",
      "Num Topics = 13 à une valeur de cohérence de 0.295\n",
      "Num Topics = 14 à une valeur de cohérence de 0.2803\n",
      "Num Topics = 15 à une valeur de cohérence de 0.3161\n",
      "Num Topics = 16 à une valeur de cohérence de 0.2862\n",
      "Num Topics = 17 à une valeur de cohérence de 0.3019\n"
     ]
    }
   ],
   "source": [
    "for m, cv in zip(x, coherence_values):\n",
    "    print(\"Num Topics =\", m, \"à une valeur de cohérence de\", round(cv, 4))"
   ]
  },
  {
   "cell_type": "markdown",
   "metadata": {},
   "source": [
    "Le graphique ci-dessus nous montre que la meilleurs performance se situe entre 1 et 2 sujets, de plus nous voyons que la meilleurs performance est de 1 topics avec une valeur de 0,334."
   ]
  },
  {
   "cell_type": "markdown",
   "metadata": {},
   "source": [
    "### Le modéle LDA_mallet choisie avec 1 topic"
   ]
  },
  {
   "cell_type": "code",
   "execution_count": 56,
   "metadata": {},
   "outputs": [],
   "source": [
    "model_LDA_mallet_choisie = gensim.models.wrappers.LdaMallet(mallet_path, corpus=corpus_bow, num_topics=1, id2word=dico)"
   ]
  },
  {
   "cell_type": "markdown",
   "metadata": {},
   "source": [
    "## NMF"
   ]
  },
  {
   "cell_type": "markdown",
   "metadata": {},
   "source": [
    "### Effectuer une analyse comparative pour déterminer la meilleure valeur de K(sujet) à l’aide du cohérence score pour le modèle NMF"
   ]
  },
  {
   "cell_type": "code",
   "execution_count": 57,
   "metadata": {},
   "outputs": [],
   "source": [
    "from gensim.models.nmf import Nmf "
   ]
  },
  {
   "cell_type": "code",
   "execution_count": 60,
   "metadata": {},
   "outputs": [],
   "source": [
    "def compute_coherence_values_nmf(corpus, texts, limit=18, start=1, step=1):\n",
    "  \n",
    "    coherence_values_nmf = []\n",
    "    model_list_nmf = []\n",
    "    for num_topics in range(start, limit, step):\n",
    "        model = Nmf(corpus=corpus_bow, num_topics=num_topics,\n",
    "                                      id2word=dico, chunksize=100, passes=10, kappa=1.0,\n",
    "                                      minimum_probability=0.01, w_max_iter=200, \n",
    "                                      w_stop_condition=0.0001, h_max_iter=50, \n",
    "                                      h_stop_condition=0.001, eval_every=10, normalize=True, random_state=100)\n",
    "        model_list_nmf.append(model)\n",
    "        coherencemodel = CoherenceModel(model=model, texts=corpus_sw, coherence='c_v')\n",
    "        coherence_values_nmf.append(coherencemodel.get_coherence())\n",
    "\n",
    "    return model_list_nmf, coherence_values_nmf"
   ]
  },
  {
   "cell_type": "code",
   "execution_count": 61,
   "metadata": {},
   "outputs": [],
   "source": [
    "model_list_nmf, coherence_values_nmf = compute_coherence_values_nmf(corpus=corpus_bow, texts=corpus, start=1, limit=18, step=1)"
   ]
  },
  {
   "cell_type": "code",
   "execution_count": 62,
   "metadata": {},
   "outputs": [
    {
     "data": {
      "image/png": "[encoded data removed]",
      "text/plain": [
       "<Figure size 576x396 with 1 Axes>"
      ]
     },
     "metadata": {},
     "output_type": "display_data"
    }
   ],
   "source": [
    "# afficher le graphique\n",
    "limit=18; start=1; step=1;\n",
    "x = range(start, limit, step)\n",
    "plt.plot(x, coherence_values_nmf)\n",
    "plt.xlabel(\"Num Topics\")\n",
    "plt.ylabel(\"Coherence score\")\n",
    "plt.legend((\"coherence_values\"), loc='best')\n",
    "plt.show()"
   ]
  },
  {
   "cell_type": "code",
   "execution_count": 63,
   "metadata": {},
   "outputs": [
    {
     "name": "stdout",
     "output_type": "stream",
     "text": [
      "Num Topics = 1 à une valeur de cohérence de 0.3277\n",
      "Num Topics = 2 à une valeur de cohérence de 0.339\n",
      "Num Topics = 3 à une valeur de cohérence de 0.3392\n",
      "Num Topics = 4 à une valeur de cohérence de 0.3424\n",
      "Num Topics = 5 à une valeur de cohérence de 0.3355\n",
      "Num Topics = 6 à une valeur de cohérence de 0.3735\n",
      "Num Topics = 7 à une valeur de cohérence de 0.3666\n",
      "Num Topics = 8 à une valeur de cohérence de 0.3437\n",
      "Num Topics = 9 à une valeur de cohérence de 0.3424\n",
      "Num Topics = 10 à une valeur de cohérence de 0.3564\n",
      "Num Topics = 11 à une valeur de cohérence de 0.3725\n",
      "Num Topics = 12 à une valeur de cohérence de 0.3636\n",
      "Num Topics = 13 à une valeur de cohérence de 0.3614\n",
      "Num Topics = 14 à une valeur de cohérence de 0.3902\n",
      "Num Topics = 15 à une valeur de cohérence de 0.3204\n",
      "Num Topics = 16 à une valeur de cohérence de 0.4156\n",
      "Num Topics = 17 à une valeur de cohérence de 0.4019\n"
     ]
    }
   ],
   "source": [
    "for m, cv in zip(x, coherence_values_nmf):\n",
    "    print(\"Num Topics =\", m, \"à une valeur de cohérence de\", round(cv, 4))"
   ]
  },
  {
   "cell_type": "markdown",
   "metadata": {},
   "source": [
    "Le graphique ci-dessus nous montre que la meilleurs performance se situe entre 15 et 18 sujets, de plus nous voyons que la meilleurs performance est de 16 topics avec une valeur de 0,4156."
   ]
  },
  {
   "cell_type": "markdown",
   "metadata": {},
   "source": [
    "### Le modéle NMF choisie avec 16 topics"
   ]
  },
  {
   "cell_type": "code",
   "execution_count": 64,
   "metadata": {},
   "outputs": [],
   "source": [
    "model_NMF_choisie = gensim.models.nmf.Nmf(corpus=corpus_bow, num_topics=16,\n",
    "                                      id2word=dico, chunksize=100, passes=10, kappa=1.0,\n",
    "                                      minimum_probability=0.01, w_max_iter=200, \n",
    "                                      w_stop_condition=0.0001, h_max_iter=50, \n",
    "                                      h_stop_condition=0.001, eval_every=10, normalize=True, random_state=100)"
   ]
  },
  {
   "cell_type": "markdown",
   "metadata": {},
   "source": [
    "Le graphique ci-dessus nous montre que la meilleurs performance est de 2 clusters avec une valeur de 0,462."
   ]
  },
  {
   "cell_type": "markdown",
   "metadata": {},
   "source": [
    "## La meilleur performance entre K-Means, LDA, LDA mallet et NMF "
   ]
  },
  {
   "cell_type": "markdown",
   "metadata": {},
   "source": [
    "* Numéro 1 : model_LDA_choisie 11 topics avec la meilleur performace qui est de 0,5284\n",
    "* Numéro 2 : model_NMF_choisie 16 topics avec la meilleur performace qui est de 0,4156\n",
    "* Numéro 3 : model_kmeans_choisie 3 clusters avec la meilleur performace qui est de 0,341\n",
    "* Numéro 4 : model_LDA_mallet_choisie 1 topic avec la meilleur performace qui est de 0,3334"
   ]
  },
  {
   "cell_type": "markdown",
   "metadata": {},
   "source": [
    "Alors, comment déduire la sortie de pyLDAvis?\n",
    "\n",
    "Chaque bulle sur le tracé de gauche représente un sujet. Plus la bulle est grande, plus ce sujet est répandu.\n",
    "\n",
    "Un bon modèle de sujet aura des bulles assez grandes et sans chevauchement dispersées dans le graphique au lieu d’être regroupées dans un quadrant en l'occurence notre modèle dispose d'un seul chevauchement entre le 10 et 11 topics ce qui en reste acceptable du grand nombre de sujet.\n",
    "\n",
    "D’accord, si vous déplacez le curseur sur l’une des bulles, les mots et les barres sur le côté droit se mettront à jour. Ces mots sont les mots-clés saillants qui forment le sujet sélectionné.D’accord, si vous déplacez le curseur sur l’une des bulles, les mots et les barres sur le côté droit se mettront à jour. Ces mots sont les mots-clés saillants qui forment le sujet sélectionné."
   ]
  },
  {
   "cell_type": "markdown",
   "metadata": {},
   "source": [
    "Ci-dessus nous appercevons le classement des 4 modèles, ce qui en ressort c'est que le modèle LDA avec 11 topics est le meilleur avec un score de 0,5284."
   ]
  },
  {
   "cell_type": "markdown",
   "metadata": {},
   "source": [
    "## Visualisation du modéle LDA avec 11 topics"
   ]
  },
  {
   "cell_type": "code",
   "execution_count": 66,
   "metadata": {
    "scrolled": true
   },
   "outputs": [
    {
     "name": "stderr",
     "output_type": "stream",
     "text": [
      "C:\\Users\\JK253\\anaconda3\\lib\\site-packages\\pyLDAvis\\_prepare.py:246: FutureWarning: In a future version of pandas all arguments of DataFrame.drop except for the argument 'labels' will be keyword-only\n",
      "  default_term_info = default_term_info.sort_values(\n"
     ]
    },
    {
     "data": {
      "text/html": [
       "\n",
       "<link rel=\"stylesheet\" type=\"text/css\" href=\"https://cdn.jsdelivr.net/gh/bmabey/pyLDAvis@3.3.1/pyLDAvis/js/ldavis.v1.0.0.css\">\n",
       "\n",
       "\n",
       "<div id=\"ldavis_el4182817652483864326131915251\"></div>\n",
       "<script type=\"text/javascript\">\n",
       "\n",
       "var ldavis_el4182817652483864326131915251_data = {\"mdsDat\": {\"x\": [0.20085558892898553, 0.35628583293098154, 0.24944371726405432, -0.06390001317025845, -0.08616484357958511, -0.2370846200655079, -0.1527018296670768, -0.10329239735883573, -0.05049241820508611, -0.0520067527573784, -0.060942264320292795], \"y\": [-0.31768479526916843, -0.074918291410302, 0.17870486242898995, 0.24122021066662594, -0.14200021450657574, 0.020641209801684598, -0.0627478779463314, 0.06827072387572805, 0.05125888862845645, 0.01979352963685914, 0.01746175409403349], \"topics\": [1, 2, 3, 4, 5, 6, 7, 8, 9, 10, 11], \"cluster\": [1, 1, 1, 1, 1, 1, 1, 1, 1, 1, 1], \"Freq\": [46.24805763623682, 27.95168757652991, 14.730824687265809, 3.033288573686636, 2.279818129691878, 2.1377382917929695, 1.8927114590193224, 0.8389464488748206, 0.548880881691831, 0.19788912347405824, 0.14015719173594504]}, \"tinfo\": {\"Term\": [\"like\", \"ate\", \"staff\", \"came\", \"lunch\", \"business\", \"felt\", \"really\", \"went\", \"bacon\", \"service\", \"steak\", \"know\", \"table\", \"feel\", \"chicken\", \"appetizer\", \"two\", \"drink\", \"minute\", \"thing\", \"soup\", \"party\", \"great\", \"regular\", \"asked\", \"local\", \"bennigans\", \"experience\", \"worst\", \"like\", \"little\", \"way\", \"look\", \"tasted\", \"taste\", \"rice\", \"cheese\", \"sauce\", \"disappointed\", \"lot\", \"half\", \"atmosphere\", \"bit\", \"though\", \"however\", \"standard\", \"thats\", \"horrible\", \"else\", \"white\", \"new\", \"actually\", \"beer\", \"wing\", \"inside\", \"let\", \"fried\", \"seemed\", \"quite\", \"burger\", \"really\", \"chicken\", \"ive\", \"something\", \"pretty\", \"sure\", \"best\", \"better\", \"cant\", \"want\", \"place\", \"think\", \"good\", \"get\", \"much\", \"food\", \"menu\", \"dont\", \"one\", \"would\", \"star\", \"first\", \"well\", \"even\", \"time\", \"got\", \"bad\", \"great\", \"say\", \"minute\", \"quality\", \"wine\", \"free\", \"slice\", \"lady\", \"later\", \"portion\", \"manager\", \"persian\", \"couldnt\", \"tourist\", \"late\", \"friendly\", \"worth\", \"took\", \"definitely\", \"world\", \"told\", \"walked\", \"average\", \"charge\", \"partner\", \"treated\", \"fault\", \"weekend\", \"changed\", \"trap\", \"curry\", \"part\", \"worst\", \"extra\", \"came\", \"asked\", \"close\", \"waiter\", \"dinner\", \"poor\", \"overpriced\", \"pay\", \"server\", \"still\", \"went\", \"hour\", \"table\", \"said\", \"service\", \"dish\", \"back\", \"two\", \"order\", \"night\", \"food\", \"time\", \"experience\", \"ordered\", \"bad\", \"come\", \"waitress\", \"one\", \"place\", \"got\", \"feel\", \"appetizer\", \"party\", \"green\", \"tiny\", \"london\", \"reservation\", \"cooked\", \"evening\", \"single\", \"fantastic\", \"house\", \"dirty\", \"seem\", \"terribleduring\", \"bottle\", \"bite\", \"working\", \"yet\", \"far\", \"getting\", \"glass\", \"sad\", \"floor\", \"rest\", \"seat\", \"turn\", \"fat\", \"cost\", \"issue\", \"apparently\", \"girl\", \"business\", \"lunch\", \"trying\", \"hand\", \"stopped\", \"special\", \"know\", \"drink\", \"wait\", \"many\", \"people\", \"thing\", \"friday\", \"experience\", \"great\", \"place\", \"dont\", \"good\", \"two\", \"food\", \"didnt\", \"bacon\", \"bartender\", \"broccoli\", \"besides\", \"leave\", \"belly\", \"kinda\", \"inconvenience\", \"stilton\", \"uncommunicative\", \"unresponsive\", \"cool\", \"fact\", \"seafood\", \"anyway\", \"yelp\", \"sausage\", \"dead\", \"tough\", \"available\", \"matter\", \"tasting\", \"god\", \"expected\", \"possible\", \"duck\", \"bright\", \"ate\", \"sour\", \"zero\", \"felt\", \"staff\", \"roast\", \"steak\", \"abysmal\", \"vegetable\", \"sock\", \"wet\", \"interesting\", \"barely\", \"tasteless\", \"anymore\", \"omelet\", \"recommended\", \"support\", \"risotto\", \"complete\", \"alright\", \"anywhere\", \"apologize\", \"racist\", \"sister\", \"edible\", \"missing\", \"slaw\", \"pub\", \"lost\", \"cafeteria\", \"generous\", \"fairly\", \"expectation\", \"stayed\", \"advertised\", \"completely\", \"show\", \"add\", \"impressed\", \"caesar\", \"early\", \"ignored\", \"tea\", \"alone\", \"surly\", \"organic\", \"ethos\", \"independent\", \"wednesday\", \"red\", \"margarita\", \"tofu\", \"booth\", \"fruit\", \"account\", \"chunk\", \"monday\", \"lacked\", \"mix\", \"strong\", \"subpar\", \"garbage\", \"west\", \"pull\", \"realized\", \"sangria\", \"scooter\", \"naked\", \"stupid\", \"dump\", \"local\", \"coffee\", \"chinese\", \"putting\", \"site\", \"man\", \"face\", \"cute\", \"okay\", \"bother\", \"baby\", \"limited\", \"authentic\", \"district\", \"middle\", \"smile\", \"station\", \"somewhat\", \"packed\", \"unless\", \"difference\", \"consistency\", \"store\", \"pearl\", \"everywhere\", \"thoroughly\", \"inch\", \"picked\", \"clear\", \"michelin\", \"enter\", \"female\", \"miss\", \"general\", \"asking\", \"regular\", \"soup\", \"longer\", \"pancake\", \"together\", \"trip\", \"hamburger\", \"ton\", \"agreed\", \"leftover\", \"apologetic\", \"certificate\", \"staying\", \"gary\", \"hubby\", \"provide\", \"grit\", \"returning\", \"crowded\", \"vietnamese\", \"similarly\", \"equivalent\", \"separate\", \"arguing\", \"volume\", \"mountain\", \"rubber\", \"restaurantcom\", \"asks\", \"unpleasant\", \"delies\", \"lately\", \"cake\", \"greenhouse\", \"serf\", \"bathroom\", \"mushroom\", \"tour\", \"fatty\", \"clam\", \"hooter\", \"underwhelming\", \"utterly\", \"ravioli\", \"fucking\", \"necessary\", \"met\", \"tony\", \"pound\", \"noisy\", \"olive\", \"creativity\", \"promising\", \"rushed\", \"uninspired\", \"ambrosia\", \"tiramisu\", \"garden\", \"nostalgia\", \"radio\", \"surrounded\", \"romantic\", \"originality\", \"bearable\", \"coyote\", \"jake\", \"bennigans\", \"pizza\", \"office\", \"buffalo\", \"inattentive\", \"inform\", \"deliver\", \"broke\", \"highland\", \"holy\", \"straw\", \"wingit\", \"10pc\", \"camel\", \"fuk\", \"granada\", \"holiest\", \"jamaican\", \"relationship\", \"suicide\", \"trinity\", \"xspicy\", \"weekday\", \"saucisson\", \"pizzachose\", \"rouge\", \"waterthe\", \"bicycle\", \"illprepared\", \"crostino\", \"nathans\", \"anymore\", \"represent\", \"carafe\", \"flat\", \"uncooked\", \"threw\", \"1hr\", \"coleslaw\", \"halibut\", \"continues\", \"shotdespite\", \"trek\", \"yesteryear\", \"campaign\", \"codwith\", \"deadshould\", \"hopping\", \"managementand\", \"batterlittle\", \"nonsense\", \"plateit\", \"nightline\", \"backgroundmy\", \"mainlandbar\", \"switch\", \"greasyall\", \"crunchy\", \"trash\", \"30mins\", \"vegi\", \"katsu\", \"listened\", \"spanish\", \"fell\", \"hotpot\"], \"Freq\": [353.0, 42.0, 60.0, 134.0, 78.0, 80.0, 37.0, 196.0, 131.0, 28.0, 241.0, 25.0, 94.0, 131.0, 51.0, 181.0, 48.0, 106.0, 88.0, 71.0, 112.0, 16.0, 45.0, 112.0, 34.0, 86.0, 23.0, 17.0, 127.0, 67.0, 352.92663240847753, 88.0738764537386, 96.06024654579446, 77.50557153515015, 73.93439320351581, 70.19339380901731, 68.75781610433744, 68.66272551312484, 67.9229027508626, 66.39466163655834, 58.57341040695036, 57.26350058569292, 55.33804786432046, 54.36490392149646, 52.69398980750499, 58.99901335828428, 50.64108407374385, 49.83113654678869, 49.424360953554114, 65.36627890052506, 46.3444939066164, 45.501486236560716, 45.202286003441984, 44.57102951487977, 43.98472042114137, 43.67694711544044, 43.47845265051131, 43.14846729312014, 42.69975044739577, 45.287938792240496, 64.22130237737389, 190.52040888678846, 174.90417491577026, 77.77228687462733, 68.58704495204424, 85.17754367450975, 47.337868073962284, 53.404519382801304, 109.50334393483814, 49.203929072160314, 76.64556988269018, 342.38464793610245, 78.87989816195271, 227.46894142706765, 149.57710658100405, 85.05090714522413, 345.8222199417805, 109.94217391244175, 116.75689075159714, 147.40774066645096, 113.42536505586017, 73.05340793530704, 80.10886110611477, 81.50161798332564, 92.95689818706991, 98.07609136925005, 84.56792027689195, 87.30808952879885, 76.00145378525467, 71.70630730870492, 71.11950582884471, 52.73254326048984, 53.53335267341972, 46.775328547037105, 43.582745385319264, 43.04176645929753, 40.65808563680978, 39.753140360128825, 38.69586054997975, 35.77629028311528, 34.176999743702204, 33.214064881755306, 31.632810711627165, 31.13288633939503, 29.446045051825056, 52.63185272234772, 28.388139430579045, 27.727222349845857, 59.64902993437943, 26.981666000539384, 26.969351653147978, 26.02510364513875, 25.29456451910832, 24.776502840317548, 24.73950596493069, 24.763782500780817, 24.490919890312732, 24.327639270274478, 23.561527605941624, 23.344996966400277, 65.32764880021791, 29.4171568040921, 128.06420638184818, 80.24775247455506, 31.57484804296754, 50.290426485681344, 71.75236907664086, 38.5805228918985, 40.6928080589626, 41.2790607168146, 45.88684726122189, 70.16451809491379, 105.54082985116419, 69.64073888033055, 104.45379373272834, 77.63762224309704, 160.13448148074187, 49.7694735147617, 99.30662082817325, 77.49884919311316, 69.93054549447707, 85.2820281600019, 194.16606201574967, 98.88589632698724, 65.9024529281818, 64.52670480425644, 74.90563604872726, 58.36610372734863, 54.882018205286094, 72.75785685012917, 74.44344202940421, 56.4644051159302, 50.47114036383623, 47.63567804594029, 44.399607928038854, 37.57463134276287, 36.670527206885346, 32.273749857244596, 31.173188409012354, 30.41556668093874, 25.607703303599745, 25.04752713227966, 23.53099517566028, 22.814780415052972, 20.375251832147068, 19.36598832608468, 18.177107854205346, 17.915685293733528, 17.708152787870993, 16.711643072261786, 16.67041342137421, 16.248111529015688, 15.92182892826348, 15.816395308436837, 15.566988901450658, 15.519460965686399, 15.420554960178272, 15.250591108907688, 14.669418290444273, 14.478929454129796, 14.011434294293698, 13.544941564182718, 16.149040028034076, 23.743815261900707, 66.26756509706536, 64.08221155500308, 32.0245940576897, 30.310812774663916, 18.910531779834194, 38.18759347746198, 54.799177986453856, 43.243943579798774, 36.63632165673675, 30.443064935969037, 36.8206623362112, 41.56593296125657, 24.80366009521318, 40.18667004301, 35.91531225584043, 52.02856152351201, 32.28927806109972, 35.18476795145025, 28.338012161863443, 32.20052520288999, 25.308151768147173, 27.6408861637617, 16.054110007939215, 15.646869400376808, 13.147921623422238, 13.098556381601309, 12.094942837257832, 11.070224364378221, 11.04680700710647, 11.04680700710647, 11.04680700710647, 11.04680700710647, 10.742182737115966, 9.808622639130036, 9.692646792218573, 8.471968726838544, 8.251461364534979, 7.867808016903005, 6.6943361151454885, 6.539188212279713, 6.4374106778049605, 6.431012309200273, 6.039078032559266, 5.834953862727248, 5.724796573341709, 5.6226013412132385, 5.066693959997122, 5.030916062599599, 37.117513165905116, 4.786075134417873, 4.416668781932834, 14.425987841268045, 13.320606985818962, 5.404445353813474, 24.98951123605549, 10.633270803812263, 10.459620993128036, 10.404370244233597, 10.404370244233597, 8.996128911240158, 8.907659655795184, 7.175197414915196, 7.508040366821272, 5.249749796631922, 4.651523593623883, 4.559239475212198, 4.45815951075632, 4.313091168604485, 4.310890286123691, 4.145588095209513, 4.1426411446691445, 4.134803222205119, 4.069609899802677, 4.029423944507455, 3.9295232725263234, 3.702370978366316, 3.4251135729390394, 3.3980121658588187, 3.2100194803009945, 3.0703719318238023, 3.0693748570507076, 2.985457568106538, 2.935200425805059, 2.8813022225615357, 6.20298913781268, 5.574922041916654, 4.1723931241003, 4.171311526658367, 4.324762980783185, 15.172691131068527, 13.267228333555558, 12.281497282891062, 11.746262156038526, 11.433605704823808, 10.649948545153116, 9.67782742349703, 9.67782742349703, 7.474607458250218, 6.075564533538651, 5.725484551605936, 5.586445272571705, 4.905126421227625, 4.456994428313819, 4.364182521339621, 4.177875260315881, 4.117130813631367, 3.924276939332204, 3.726849253305423, 3.577288594746842, 3.545399887432185, 3.5377196852325956, 3.476231063494658, 3.351928783570499, 3.310329432393659, 3.223717268718392, 3.2227010185993312, 3.2127649607168163, 3.134868805827717, 3.0586596535839328, 10.213334968511125, 4.025525231916663, 14.685208128573109, 11.324545336403924, 10.931877157002518, 7.627425251779473, 7.6141845082795045, 6.755649207572939, 10.169402557303302, 5.768399104655191, 5.507413564117135, 5.339615056753316, 4.979313611772431, 4.6783421680411115, 4.447887677492765, 4.057999300875799, 4.016189864067083, 3.8698545569586975, 3.637077741824289, 3.636216249015123, 3.5900361639206966, 3.486721426142234, 3.2979299550774908, 3.2364933062145393, 3.1989652091986236, 3.0116588715415005, 3.009787645975753, 2.9636318625120506, 2.90195979160146, 2.8480748744859907, 2.686856033640694, 2.4284672742306888, 5.856206364327903, 3.902791164619698, 3.5536086270061937, 3.1933536588940687, 15.612909423576385, 3.384412890246211, 3.3456758831263107, 3.3117215217789977, 2.862115656705484, 2.5041650507496014, 2.1119949643719065, 1.9266026756892918, 1.7723700243771932, 1.6318573188320882, 1.588664991724317, 1.3670518361682078, 1.2280458256173385, 0.9946051816797575, 0.9891081012655777, 0.9656267512403519, 0.9621138225183132, 0.8360142232254854, 0.7450339473076852, 0.6999773039452054, 0.6931051455481271, 0.6657854933912494, 0.6098641518668046, 0.5675518746680884, 0.5431327450216737, 0.5074213134038263, 0.6601162000282199, 0.4325998363746098, 1.4786473081349334, 0.4195162975683184, 0.542611258899004, 1.8812928967960556, 0.7292447532233176, 0.5766012679227891, 0.6360363460486261, 4.067899518658753, 1.663963037537738, 1.64713841987985, 1.300734863358153, 0.9785238081921178, 0.9297301441967606, 0.8813914781604532, 0.8365651497089032, 0.815709857972347, 0.7806122051458843, 0.6862720121541153, 0.6719505439650362, 0.6244841702405409, 0.6182951408870079, 0.617820498291972, 0.5288829325665266, 0.499889608118258, 0.4988640347902315, 0.4371597926952706, 0.4268740198595287, 0.42182314609765537, 0.40365727550162367, 0.40363864392982524, 0.40339718228301874, 0.40235716177875136, 0.399916910382113, 0.33252045882511, 0.3323554835244691, 0.3323554835244691, 0.3323554835244691, 1.7309359181486421, 1.1983955336281775, 0.4732800901083796, 0.44276989631938424, 0.2680972956255633, 0.19916168383753535, 0.183469805079137, 0.1637373169275296, 0.16268672196108924, 0.16221762411489302, 0.11303041232823174, 0.08442204188748373, 0.047472348703062855, 0.047472348703062855, 0.047472348703062855, 0.047472348703062855, 0.047472348703062855, 0.047472348703062855, 0.047472348703062855, 0.047472348703062855, 0.047472348703062855, 0.047472348703062855, 0.04744810774631883, 0.014812654771167279, 0.011775672001948713, 0.011775672001948713, 0.011775672001948713, 0.012495166108138365, 0.011690818728288638, 0.01145041501466347, 0.0112347544656153, 0.07323107279886316, 0.011679242142984743, 0.011739357214595817, 0.37898266597361346, 0.23053802022926936, 0.1891012108179062, 0.17417680527801954, 0.061282798552404615, 0.061282798552404615, 0.034412914847975616, 0.034412914847975616, 0.034412914847975616, 0.034412914847975616, 0.03441290922434982, 0.03441290922434982, 0.03441290922434982, 0.03441290922434982, 0.03441290922434982, 0.03441290078891112, 0.03441290078891112, 0.03441290078891112, 0.034412895165285326, 0.03441288110622083, 0.034412867047156334, 0.03441286142353053, 0.034412810810898344, 0.03429948912743075, 0.03429948912743075, 0.011871149296455767, 0.008586456951002804, 0.00788460033320847, 0.007890194434971628, 0.007890194434971628, 0.008299836209019083, 0.008598114727283302], \"Total\": [353.0, 42.0, 60.0, 134.0, 78.0, 80.0, 37.0, 196.0, 131.0, 28.0, 241.0, 25.0, 94.0, 131.0, 51.0, 181.0, 48.0, 106.0, 88.0, 71.0, 112.0, 16.0, 45.0, 112.0, 34.0, 86.0, 23.0, 17.0, 127.0, 67.0, 353.57308618540037, 88.66588059221282, 96.70727803837035, 78.0972536354516, 74.52608084656698, 70.78507939319472, 69.34951053537536, 69.25441296741211, 68.51458651363102, 67.03339042342894, 59.166482090061685, 57.86135063005967, 55.929733121955636, 54.95660971170338, 53.28567894752805, 59.685100873349796, 51.23290065063078, 50.42281908332737, 50.01605556902076, 66.15226616649153, 46.93617478737435, 46.09356039026854, 45.79411346508161, 45.16272211585211, 44.57642008534654, 44.26862430667749, 44.07136891415778, 43.740160217587835, 43.29191716529062, 45.91792820523798, 65.17453594223451, 196.03342385567382, 181.28689037844615, 79.40348412226611, 69.97560089341368, 88.55165041621488, 48.103048942740315, 54.65141758804027, 117.71117060751226, 50.184455144028256, 81.97706632552298, 469.2095711101001, 86.64365827545802, 310.81375705030075, 192.23602321648264, 96.51906751887152, 572.5406857882789, 137.5046721270846, 163.12401649120503, 232.256250723381, 158.8583616558678, 84.0776608760874, 99.90356231784956, 104.17021032979052, 137.99151495378024, 217.8241358158055, 143.40328231136047, 181.10474515353442, 112.38777150415109, 92.65978860921439, 71.73588132422549, 53.343291198251784, 54.18024149162164, 47.38608606995103, 44.193502298235906, 43.652517462580114, 41.268827268495684, 40.3638775965007, 39.30659090239284, 36.387036787509224, 34.7877384239013, 33.82481289955251, 32.24355301877863, 31.763791433201728, 30.056787596989714, 53.72676609873022, 28.99888266199333, 28.33795208740164, 60.99148312490465, 27.59245715893344, 27.580188192803202, 26.635842068479214, 25.905296893536892, 25.38723331068059, 25.350257290557327, 25.377122800979787, 25.101673091852273, 24.93837961509004, 24.172404437430345, 23.955739526238563, 67.29391723640657, 30.203953176016007, 134.43484446431742, 86.30508688903703, 32.7497364591809, 53.66115472977353, 79.5514085493709, 40.84896232026132, 43.35181135216836, 44.10691971230057, 50.26910900151083, 81.85790339677524, 131.01994984235466, 81.60615147767776, 131.64763713814216, 97.58077744122579, 241.88843224772825, 57.551585815527325, 147.3002712352903, 106.39189463099653, 96.65645749839655, 130.62312300445367, 572.5406857882789, 217.8241358158055, 127.62403084756663, 123.25109568084316, 181.10474515353442, 104.29798140096852, 91.33871012835371, 232.256250723381, 469.2095711101001, 143.40328231136047, 51.080294706901746, 48.244846355498915, 45.008765017843494, 38.18498813033894, 37.27973706319848, 32.88296826258158, 31.782335528143726, 31.024727502897807, 26.216873435968985, 25.656690374705878, 24.14017818050926, 23.423932707556904, 20.984591215383755, 19.97516036185308, 18.786391256104814, 18.524873182004075, 18.317311042679723, 17.32079965535432, 17.279567779723312, 16.857277305936964, 16.531056770746087, 16.425551338545674, 16.176159624368243, 16.12863246164755, 16.030026272644214, 15.85974819579647, 15.27856638408846, 15.088073804241613, 14.620589321075446, 14.154430763387804, 17.054427134549382, 25.86133450932961, 80.72663891127827, 78.78975844519861, 36.7638715700366, 35.28818203350973, 20.789976104684705, 56.2536102862402, 94.43279669890543, 88.31115651899965, 68.10834758473575, 51.371376689355394, 75.2666514441369, 112.36660558886376, 39.81863921742171, 127.62403084756663, 112.38777150415109, 469.2095711101001, 163.12401649120503, 310.81375705030075, 106.39189463099653, 572.5406857882789, 102.30218413255103, 28.297454432254572, 16.710677781275432, 16.30345733646583, 13.80455991688782, 13.755164145181443, 12.751540935229968, 11.726802207315446, 11.703347393081444, 11.703347393081444, 11.703347393081444, 11.703347393081444, 11.398757555388041, 10.465232917321245, 10.349275933699817, 9.128625981541076, 8.908051563685875, 8.524349693488631, 7.350929589505563, 7.195736450727095, 7.094001019722765, 7.0875904200185165, 6.695676553871961, 6.491518225312623, 6.381359527240491, 6.279164837588309, 5.723287890299719, 5.6874896844927, 42.06977599790493, 5.442681794679322, 5.0732300206606, 37.643835767811474, 60.48398734885334, 11.556294029325926, 25.650294561668602, 11.294303160539435, 11.120445132357304, 11.067899703337591, 11.067899703337591, 9.656993006515421, 9.568454207416, 7.835975453117888, 8.231447478888638, 5.910521442019915, 5.3123043353342565, 5.220047794803045, 5.118926483430038, 4.973897724619499, 4.971664643944791, 4.806405652836974, 4.80351548302168, 4.795592632175339, 4.7303755756810215, 4.690209767793214, 4.590307874007211, 4.363222458962901, 4.085893783867512, 4.058806420547451, 3.870797041713073, 3.731249251506999, 3.730314164377286, 3.646251250039389, 3.5960391097236406, 3.5422184514748247, 9.739951181299208, 9.143619607576642, 6.010772151104928, 7.359220543696629, 10.860764906033307, 15.838337941986442, 13.932909094361536, 12.947122514504972, 12.411965481006803, 12.099321519112781, 11.315577404874727, 10.343478703480107, 10.343478703480107, 8.14043365216656, 6.74131338267901, 6.391180057945382, 6.252080419873289, 5.5708181465194775, 5.122641128005126, 5.029890187326479, 4.8435146713693396, 4.782797753564792, 4.5920123029900255, 4.3925046016123765, 4.242977493733729, 4.211087869631879, 4.203423785509634, 4.14190362026741, 4.0176252290955325, 3.976040236774113, 3.889330394790043, 3.888315490324872, 3.8786850346606125, 3.8012949867765737, 3.7243086537406356, 23.675718598698793, 26.451583009682107, 15.351376085129777, 11.990915879088915, 11.598107291886635, 8.293619781639222, 8.280439518223089, 7.421886282910356, 11.343441793002933, 6.434628117912743, 6.173641865845275, 6.005804173853114, 5.645499396059626, 5.344535165189321, 5.114109475321045, 4.724192064655914, 4.682456039546933, 4.536042969866053, 4.303281293871769, 4.302427338660662, 4.25630522365763, 4.152958827442333, 3.9641497152358576, 3.902652141055348, 3.8652042525234775, 3.677955726478858, 3.6759851161977464, 3.6298792676156904, 3.568184841970076, 3.514249101311333, 3.3531220885504114, 3.094683720220635, 8.011751014693617, 8.278039510146217, 6.699744353321382, 34.55701874319665, 16.30589644212497, 4.077428444595901, 4.038627688664136, 4.004725354353271, 3.55509054264288, 3.1971598531415704, 2.8050620096115724, 2.619672953731973, 2.465297671555074, 2.3249491322427893, 2.2815964666581485, 2.060324415926004, 1.9209557515482323, 1.6875860515683452, 1.682159318946063, 1.6587840182194624, 1.6551383152621355, 1.5289880287573665, 1.4379522208592654, 1.3929920263843323, 1.3862784203936762, 1.3587485378008448, 1.3028045540076965, 1.2604815119536381, 1.236262024429277, 1.2051650566795948, 1.5978646742228817, 1.125556624972415, 3.8551371797389096, 1.1124257833921432, 1.5322855400281965, 13.341585975864316, 8.222454939011305, 2.608419759563451, 13.024060406000908, 4.77148442258974, 2.3675123380128964, 2.3508870453716115, 2.004376611470591, 1.6820875888198463, 1.6333782541115491, 1.5850268878225187, 1.540165313469291, 1.519297673813687, 1.4842227955381357, 1.3898962619547244, 1.3755662417953753, 1.3280506462194452, 1.3219194765907205, 1.3214695262961174, 1.2324363309609798, 1.2034445299236043, 1.2024745325985995, 1.140870290714001, 1.1329829101660582, 1.1254468858889588, 1.1072323910418551, 1.1072148993401925, 1.1069850394772458, 1.1059977770162557, 1.103667442633891, 1.036060022312987, 1.035903301198084, 1.035903301198084, 1.035903301198084, 17.19238285595106, 1.9176043980556319, 1.1925090776020815, 1.1619665568299067, 0.987348342037857, 0.9185411054140603, 0.9027304843418488, 0.8829431712615048, 0.8820132079477094, 0.8815492666145798, 0.8321876383892927, 0.8035608149427125, 0.7666154405596043, 0.7666154405596043, 0.7666154405596043, 0.7666154405596043, 0.7666154405596043, 0.7666154405596043, 0.7666154405596043, 0.7666154405596043, 0.7666154405596043, 0.7666154405596043, 1.3816267361417534, 0.7734122309369355, 0.7484399638502452, 0.7484399638502452, 0.7484399638502452, 0.7953853443274949, 0.7516137779651617, 0.7455026519655538, 0.7379659315239877, 8.231447478888638, 0.786795014796101, 0.8179692406743746, 1.1011312912453555, 0.952688498739612, 0.9112320715492478, 0.8962848146936491, 0.7833475872933016, 0.7833475872933016, 0.7564874677945134, 0.7564874677945134, 0.7564874677945134, 0.7564874677945134, 0.7564874621708876, 0.7564874621708876, 0.7564874621708876, 0.7564874621708876, 0.7564874621708876, 0.7564874537354489, 0.7564874537354489, 0.7564874537354489, 0.7564874481118231, 0.7564874485499729, 0.7564874432528245, 0.7564874433463706, 0.7564873927337384, 0.7564043249943161, 0.7564043249943161, 0.7715118138318232, 0.7436911916933677, 0.7366448770486193, 0.739033577530554, 0.739033577530554, 0.7855656797152121, 0.8256051705756535], \"Category\": [\"Default\", \"Default\", \"Default\", \"Default\", \"Default\", \"Default\", \"Default\", \"Default\", \"Default\", \"Default\", \"Default\", \"Default\", \"Default\", \"Default\", \"Default\", \"Default\", \"Default\", \"Default\", \"Default\", \"Default\", \"Default\", \"Default\", \"Default\", \"Default\", \"Default\", \"Default\", \"Default\", \"Default\", \"Default\", \"Default\", \"Topic1\", \"Topic1\", \"Topic1\", \"Topic1\", \"Topic1\", \"Topic1\", \"Topic1\", \"Topic1\", \"Topic1\", \"Topic1\", \"Topic1\", \"Topic1\", \"Topic1\", \"Topic1\", \"Topic1\", \"Topic1\", \"Topic1\", \"Topic1\", \"Topic1\", \"Topic1\", \"Topic1\", \"Topic1\", \"Topic1\", \"Topic1\", \"Topic1\", \"Topic1\", \"Topic1\", \"Topic1\", \"Topic1\", \"Topic1\", \"Topic1\", \"Topic1\", \"Topic1\", \"Topic1\", \"Topic1\", \"Topic1\", \"Topic1\", \"Topic1\", \"Topic1\", \"Topic1\", \"Topic1\", \"Topic1\", \"Topic1\", \"Topic1\", \"Topic1\", \"Topic1\", \"Topic1\", \"Topic1\", \"Topic1\", \"Topic1\", \"Topic1\", \"Topic1\", \"Topic1\", \"Topic1\", \"Topic1\", \"Topic1\", \"Topic1\", \"Topic1\", \"Topic1\", \"Topic1\", \"Topic2\", \"Topic2\", \"Topic2\", \"Topic2\", \"Topic2\", \"Topic2\", \"Topic2\", \"Topic2\", \"Topic2\", \"Topic2\", \"Topic2\", \"Topic2\", \"Topic2\", \"Topic2\", \"Topic2\", \"Topic2\", \"Topic2\", \"Topic2\", \"Topic2\", \"Topic2\", \"Topic2\", \"Topic2\", \"Topic2\", \"Topic2\", \"Topic2\", \"Topic2\", \"Topic2\", \"Topic2\", \"Topic2\", \"Topic2\", \"Topic2\", \"Topic2\", \"Topic2\", \"Topic2\", \"Topic2\", \"Topic2\", \"Topic2\", \"Topic2\", \"Topic2\", \"Topic2\", \"Topic2\", \"Topic2\", \"Topic2\", \"Topic2\", \"Topic2\", \"Topic2\", \"Topic2\", \"Topic2\", \"Topic2\", \"Topic2\", \"Topic2\", \"Topic2\", \"Topic2\", \"Topic2\", \"Topic2\", \"Topic2\", \"Topic2\", \"Topic2\", \"Topic2\", \"Topic2\", \"Topic2\", \"Topic2\", \"Topic3\", \"Topic3\", \"Topic3\", \"Topic3\", \"Topic3\", \"Topic3\", \"Topic3\", \"Topic3\", \"Topic3\", \"Topic3\", \"Topic3\", \"Topic3\", \"Topic3\", \"Topic3\", \"Topic3\", \"Topic3\", \"Topic3\", \"Topic3\", \"Topic3\", \"Topic3\", \"Topic3\", \"Topic3\", \"Topic3\", \"Topic3\", \"Topic3\", \"Topic3\", \"Topic3\", \"Topic3\", \"Topic3\", \"Topic3\", \"Topic3\", \"Topic3\", \"Topic3\", \"Topic3\", \"Topic3\", \"Topic3\", \"Topic3\", \"Topic3\", \"Topic3\", \"Topic3\", \"Topic3\", \"Topic3\", \"Topic3\", \"Topic3\", \"Topic3\", \"Topic3\", \"Topic3\", \"Topic3\", \"Topic3\", \"Topic3\", \"Topic3\", \"Topic3\", \"Topic3\", \"Topic4\", \"Topic4\", \"Topic4\", \"Topic4\", \"Topic4\", \"Topic4\", \"Topic4\", \"Topic4\", \"Topic4\", \"Topic4\", \"Topic4\", \"Topic4\", \"Topic4\", \"Topic4\", \"Topic4\", \"Topic4\", \"Topic4\", \"Topic4\", \"Topic4\", \"Topic4\", \"Topic4\", \"Topic4\", \"Topic4\", \"Topic4\", \"Topic4\", \"Topic4\", \"Topic4\", \"Topic4\", \"Topic4\", \"Topic4\", \"Topic4\", \"Topic4\", \"Topic4\", \"Topic5\", \"Topic5\", \"Topic5\", \"Topic5\", \"Topic5\", \"Topic5\", \"Topic5\", \"Topic5\", \"Topic5\", \"Topic5\", \"Topic5\", \"Topic5\", \"Topic5\", \"Topic5\", \"Topic5\", \"Topic5\", \"Topic5\", \"Topic5\", \"Topic5\", \"Topic5\", \"Topic5\", \"Topic5\", \"Topic5\", \"Topic5\", \"Topic5\", \"Topic5\", \"Topic5\", \"Topic5\", \"Topic5\", \"Topic5\", \"Topic5\", \"Topic5\", \"Topic5\", \"Topic5\", \"Topic5\", \"Topic6\", \"Topic6\", \"Topic6\", \"Topic6\", \"Topic6\", \"Topic6\", \"Topic6\", \"Topic6\", \"Topic6\", \"Topic6\", \"Topic6\", \"Topic6\", \"Topic6\", \"Topic6\", \"Topic6\", \"Topic6\", \"Topic6\", \"Topic6\", \"Topic6\", \"Topic6\", \"Topic6\", \"Topic6\", \"Topic6\", \"Topic6\", \"Topic6\", \"Topic6\", \"Topic6\", \"Topic6\", \"Topic6\", \"Topic6\", \"Topic6\", \"Topic6\", \"Topic7\", \"Topic7\", \"Topic7\", \"Topic7\", \"Topic7\", \"Topic7\", \"Topic7\", \"Topic7\", \"Topic7\", \"Topic7\", \"Topic7\", \"Topic7\", \"Topic7\", \"Topic7\", \"Topic7\", \"Topic7\", \"Topic7\", \"Topic7\", \"Topic7\", \"Topic7\", \"Topic7\", \"Topic7\", \"Topic7\", \"Topic7\", \"Topic7\", \"Topic7\", \"Topic7\", \"Topic7\", \"Topic7\", \"Topic7\", \"Topic7\", \"Topic7\", \"Topic7\", \"Topic7\", \"Topic8\", \"Topic8\", \"Topic8\", \"Topic8\", \"Topic8\", \"Topic8\", \"Topic8\", \"Topic8\", \"Topic8\", \"Topic8\", \"Topic8\", \"Topic8\", \"Topic8\", \"Topic8\", \"Topic8\", \"Topic8\", \"Topic8\", \"Topic8\", \"Topic8\", \"Topic8\", \"Topic8\", \"Topic8\", \"Topic8\", \"Topic8\", \"Topic8\", \"Topic8\", \"Topic8\", \"Topic8\", \"Topic8\", \"Topic8\", \"Topic8\", \"Topic8\", \"Topic8\", \"Topic8\", \"Topic8\", \"Topic9\", \"Topic9\", \"Topic9\", \"Topic9\", \"Topic9\", \"Topic9\", \"Topic9\", \"Topic9\", \"Topic9\", \"Topic9\", \"Topic9\", \"Topic9\", \"Topic9\", \"Topic9\", \"Topic9\", \"Topic9\", \"Topic9\", \"Topic9\", \"Topic9\", \"Topic9\", \"Topic9\", \"Topic9\", \"Topic9\", \"Topic9\", \"Topic9\", \"Topic9\", \"Topic9\", \"Topic9\", \"Topic9\", \"Topic9\", \"Topic9\", \"Topic10\", \"Topic10\", \"Topic10\", \"Topic10\", \"Topic10\", \"Topic10\", \"Topic10\", \"Topic10\", \"Topic10\", \"Topic10\", \"Topic10\", \"Topic10\", \"Topic10\", \"Topic10\", \"Topic10\", \"Topic10\", \"Topic10\", \"Topic10\", \"Topic10\", \"Topic10\", \"Topic10\", \"Topic10\", \"Topic10\", \"Topic10\", \"Topic10\", \"Topic10\", \"Topic10\", \"Topic10\", \"Topic10\", \"Topic10\", \"Topic10\", \"Topic10\", \"Topic10\", \"Topic11\", \"Topic11\", \"Topic11\", \"Topic11\", \"Topic11\", \"Topic11\", \"Topic11\", \"Topic11\", \"Topic11\", \"Topic11\", \"Topic11\", \"Topic11\", \"Topic11\", \"Topic11\", \"Topic11\", \"Topic11\", \"Topic11\", \"Topic11\", \"Topic11\", \"Topic11\", \"Topic11\", \"Topic11\", \"Topic11\", \"Topic11\", \"Topic11\", \"Topic11\", \"Topic11\", \"Topic11\", \"Topic11\", \"Topic11\", \"Topic11\", \"Topic11\"], \"logprob\": [30.0, 29.0, 28.0, 27.0, 26.0, 25.0, 24.0, 23.0, 22.0, 21.0, 20.0, 19.0, 18.0, 17.0, 16.0, 15.0, 14.0, 13.0, 12.0, 11.0, 10.0, 9.0, 8.0, 7.0, 6.0, 5.0, 4.0, 3.0, 2.0, 1.0, -3.8103, -5.1984, -5.1116, -5.3262, -5.3734, -5.4253, -5.446, -5.4474, -5.4582, -5.481, -5.6063, -5.6289, -5.6631, -5.6809, -5.7121, -5.5991, -5.7518, -5.7679, -5.7761, -5.4966, -5.8405, -5.8588, -5.8654, -5.8795, -5.8927, -5.8998, -5.9043, -5.9119, -5.9224, -5.8635, -5.5142, -4.4268, -4.5123, -5.3228, -5.4485, -5.2318, -5.8193, -5.6987, -4.9806, -5.7806, -5.3374, -3.8406, -5.3087, -4.2496, -4.6688, -5.2333, -3.8307, -4.9766, -4.9165, -4.6834, -4.9454, -5.3854, -5.2932, -5.276, -5.1444, -5.0908, -5.239, -5.2071, -5.3458, -5.404, -4.9087, -5.2078, -5.1927, -5.3277, -5.3984, -5.4109, -5.4678, -5.4903, -5.5173, -5.5958, -5.6415, -5.6701, -5.7188, -5.7348, -5.7905, -5.2097, -5.8271, -5.8506, -5.0846, -5.8779, -5.8783, -5.914, -5.9424, -5.9631, -5.9646, -5.9637, -5.9747, -5.9814, -6.0134, -6.0227, -4.9936, -5.7915, -4.3205, -4.7879, -5.7207, -5.2552, -4.8998, -5.5203, -5.467, -5.4527, -5.3469, -4.9222, -4.5139, -4.9297, -4.5243, -4.821, -4.097, -5.2656, -4.5748, -4.8228, -4.9255, -4.7271, -3.9043, -4.5791, -4.9849, -5.006, -4.8568, -5.1063, -5.1679, -4.8859, -4.863, -5.1394, -4.6111, -4.6689, -4.7393, -4.9062, -4.9305, -5.0582, -5.0929, -5.1175, -5.2896, -5.3117, -5.3742, -5.4051, -5.5182, -5.569, -5.6323, -5.6468, -5.6585, -5.7164, -5.7189, -5.7445, -5.7648, -5.7715, -5.7873, -5.7904, -5.7968, -5.8079, -5.8467, -5.8598, -5.8926, -5.9265, -5.7506, -5.3652, -4.3388, -4.3723, -5.066, -5.121, -5.5928, -4.89, -4.5288, -4.7656, -4.9315, -5.1166, -4.9264, -4.8052, -5.3215, -4.839, -4.9513, -4.5807, -5.0578, -4.9719, -5.1883, -5.0605, -5.3014, -3.6329, -4.1762, -4.2019, -4.3759, -4.3797, -4.4594, -4.5479, -4.5501, -4.5501, -4.5501, -4.5501, -4.578, -4.6689, -4.6808, -4.8154, -4.8418, -4.8894, -5.0509, -5.0744, -5.0901, -5.0911, -5.154, -5.1883, -5.2074, -5.2254, -5.3295, -5.3366, -3.3381, -5.3865, -5.4668, -4.2832, -4.3629, -5.265, -3.4482, -4.3027, -4.3191, -4.3244, -4.3244, -4.4699, -4.4797, -4.696, -4.6507, -5.0085, -5.1295, -5.1495, -5.1719, -5.205, -5.2055, -5.2446, -5.2453, -5.2472, -5.2631, -5.273, -5.2981, -5.3577, -5.4355, -5.4435, -5.5004, -5.5449, -5.5452, -5.5729, -5.5899, -5.6084, -4.8416, -4.9484, -5.2382, -5.2384, -5.2023, -3.8828, -4.017, -4.0942, -4.1388, -4.1657, -4.2368, -4.3325, -4.3325, -4.5908, -4.798, -4.8574, -4.882, -5.012, -5.1078, -5.1289, -5.1725, -5.1872, -5.2351, -5.2867, -5.3277, -5.3367, -5.3388, -5.3564, -5.3928, -5.4053, -5.4318, -5.4321, -5.4352, -5.4597, -5.4843, -4.2786, -5.2097, -3.7937, -4.0536, -4.0889, -4.4488, -4.4506, -4.5702, -4.1612, -4.7282, -4.7745, -4.8054, -4.8753, -4.9376, -4.9881, -5.0799, -5.0902, -5.1274, -5.1894, -5.1896, -5.2024, -5.2316, -5.2873, -5.3061, -5.3177, -5.3781, -5.3787, -5.3942, -5.4152, -5.4339, -5.4922, -5.5933, -4.7131, -5.1189, -5.2126, -5.3195, -2.9189, -4.4478, -4.4593, -4.4695, -4.6154, -4.749, -4.9193, -5.0112, -5.0946, -5.1772, -5.2041, -5.3543, -5.4615, -5.6724, -5.6779, -5.7019, -5.7056, -5.8461, -5.9613, -6.0237, -6.0335, -6.0737, -6.1615, -6.2334, -6.2774, -6.3454, -6.0823, -6.5049, -5.2758, -6.5356, -6.2783, -5.035, -5.9827, -6.2176, -6.1194, -3.8396, -4.7335, -4.7436, -4.9798, -5.2644, -5.3155, -5.3689, -5.4211, -5.4464, -5.4904, -5.6192, -5.6403, -5.7135, -5.7235, -5.7242, -5.8797, -5.9361, -5.9381, -6.0701, -6.094, -6.1059, -6.1499, -6.1499, -6.1505, -6.1531, -6.1592, -6.3437, -6.3442, -6.3442, -6.3442, -4.694, -4.0415, -4.9706, -5.0372, -5.5389, -5.8361, -5.9182, -6.032, -6.0384, -6.0413, -6.4026, -6.6944, -7.2701, -7.2701, -7.2701, -7.2701, -7.2701, -7.2701, -7.2701, -7.2701, -7.2701, -7.2701, -7.2706, -8.4348, -8.6642, -8.6642, -8.6642, -8.6049, -8.6715, -8.6922, -8.7113, -6.8366, -8.6725, -8.6673, -4.8478, -5.3449, -5.543, -5.6253, -6.6698, -6.6698, -7.2469, -7.2469, -7.2469, -7.2469, -7.2469, -7.2469, -7.2469, -7.2469, -7.2469, -7.2469, -7.2469, -7.2469, -7.2469, -7.2469, -7.2469, -7.2469, -7.2469, -7.2502, -7.2502, -8.3112, -8.6351, -8.7204, -8.7197, -8.7197, -8.6691, -8.6338], \"loglift\": [30.0, 29.0, 28.0, 27.0, 26.0, 25.0, 24.0, 23.0, 22.0, 21.0, 20.0, 19.0, 18.0, 17.0, 16.0, 15.0, 14.0, 13.0, 12.0, 11.0, 10.0, 9.0, 8.0, 7.0, 6.0, 5.0, 4.0, 3.0, 2.0, 1.0, 0.7693, 0.7645, 0.7644, 0.7635, 0.7632, 0.7628, 0.7626, 0.7626, 0.7625, 0.7616, 0.7611, 0.7608, 0.7605, 0.7603, 0.76, 0.7596, 0.7595, 0.7593, 0.7593, 0.7592, 0.7585, 0.7582, 0.7581, 0.758, 0.7578, 0.7577, 0.7576, 0.7575, 0.7574, 0.7573, 0.7564, 0.7426, 0.7353, 0.7504, 0.7511, 0.7323, 0.7551, 0.7481, 0.6989, 0.7514, 0.7039, 0.456, 0.6773, 0.459, 0.5202, 0.6447, 0.267, 0.5474, 0.4367, 0.3165, 0.4343, 0.6306, 0.5503, 0.5257, 0.3761, -0.0268, 0.243, 0.0415, 0.3799, 0.5148, 1.2661, 1.2632, 1.2627, 1.2617, 1.2608, 1.2606, 1.2598, 1.2594, 1.259, 1.2578, 1.257, 1.2565, 1.2556, 1.2546, 1.2542, 1.2541, 1.2534, 1.2529, 1.2524, 1.2523, 1.2523, 1.2515, 1.2508, 1.2503, 1.2503, 1.2502, 1.2501, 1.2499, 1.2491, 1.2489, 1.245, 1.2483, 1.2261, 1.2019, 1.2382, 1.2098, 1.1715, 1.2176, 1.2114, 1.2084, 1.1835, 1.1206, 1.0584, 1.1161, 1.0433, 1.0461, 0.8622, 1.1294, 0.8804, 0.9578, 0.951, 0.8483, 0.1933, 0.485, 0.6138, 0.6275, 0.3918, 0.6942, 0.7653, 0.114, -0.5663, 0.3426, 1.9032, 1.9025, 1.9016, 1.8991, 1.8988, 1.8965, 1.8959, 1.8954, 1.8917, 1.8912, 1.8897, 1.8889, 1.8858, 1.8843, 1.8823, 1.8818, 1.8814, 1.8794, 1.8793, 1.8784, 1.8777, 1.8774, 1.8768, 1.8767, 1.8765, 1.8761, 1.8745, 1.874, 1.8727, 1.8712, 1.8607, 1.8298, 1.7179, 1.7086, 1.7772, 1.7632, 1.8205, 1.5279, 1.371, 1.2012, 1.2952, 1.392, 1.2002, 0.9207, 1.4419, 0.7597, 0.7744, -0.284, 0.2955, -0.2634, 0.5923, -0.9629, 0.5184, 3.472, 3.4554, 3.4544, 3.4468, 3.4466, 3.4427, 3.4379, 3.4378, 3.4378, 3.4378, 3.4378, 3.4362, 3.4307, 3.43, 3.4209, 3.419, 3.4154, 3.402, 3.3998, 3.3984, 3.3983, 3.3923, 3.3889, 3.3869, 3.3851, 3.3737, 3.3729, 3.3703, 3.367, 3.3569, 2.5364, 1.9825, 2.7355, 3.755, 3.7208, 3.7198, 3.7193, 3.7193, 3.7102, 3.7095, 3.693, 3.6891, 3.6625, 3.6482, 3.6457, 3.6429, 3.6385, 3.6385, 3.6332, 3.6331, 3.6328, 3.6306, 3.6292, 3.6256, 3.6168, 3.6047, 3.6034, 3.5939, 3.5861, 3.5861, 3.5811, 3.578, 3.5746, 3.3299, 3.2863, 3.416, 3.2134, 2.8603, 3.8025, 3.7965, 3.7926, 3.7903, 3.7888, 3.7848, 3.7789, 3.7789, 3.7601, 3.7414, 3.7354, 3.7329, 3.7182, 3.7062, 3.7035, 3.6976, 3.6956, 3.6883, 3.6811, 3.6748, 3.6734, 3.673, 3.6702, 3.6643, 3.6622, 3.6577, 3.6577, 3.6571, 3.6527, 3.6485, 3.0047, 1.9628, 3.9228, 3.91, 3.908, 3.8834, 3.8833, 3.8731, 3.8579, 3.8579, 3.853, 3.8496, 3.8416, 3.834, 3.8276, 3.8152, 3.8137, 3.8083, 3.799, 3.7989, 3.7969, 3.7923, 3.7832, 3.78, 3.778, 3.7673, 3.7672, 3.7644, 3.7605, 3.757, 3.7456, 3.7247, 3.6538, 3.2152, 3.3331, 1.5856, 4.7373, 4.5945, 4.5925, 4.5908, 4.564, 4.5365, 4.497, 4.4735, 4.4508, 4.4268, 4.4188, 4.3706, 4.3334, 4.2521, 4.2497, 4.2397, 4.2383, 4.1771, 4.1232, 4.0926, 4.0876, 4.0674, 4.0217, 3.9829, 3.9583, 3.9157, 3.8968, 3.8246, 3.8225, 3.8056, 3.7427, 2.8219, 2.3582, 3.2714, 1.7615, 5.0455, 4.8524, 4.8493, 4.7726, 4.6633, 4.6415, 4.6182, 4.5947, 4.5831, 4.5625, 4.4993, 4.4886, 4.4505, 4.4452, 4.4447, 4.3591, 4.3265, 4.3252, 4.2458, 4.2289, 4.2237, 4.196, 4.196, 4.1956, 4.1939, 4.1899, 4.0686, 4.0682, 4.0682, 4.0682, 2.9092, 5.7551, 5.3011, 5.2604, 4.9215, 4.6965, 4.6318, 4.5402, 4.5348, 4.5325, 4.2288, 3.972, 3.4434, 3.4434, 3.4434, 3.4434, 3.4434, 3.4434, 3.4434, 3.4434, 3.4434, 3.4434, 2.8538, 2.2699, 2.0733, 2.0733, 2.0733, 2.0717, 2.0618, 2.0492, 2.0403, 1.5031, 2.0151, 1.9813, 5.5036, 5.1513, 4.9976, 4.932, 4.0221, 4.0221, 3.4799, 3.4799, 3.4799, 3.4799, 3.4799, 3.4799, 3.4799, 3.4799, 3.4799, 3.4799, 3.4799, 3.4799, 3.4799, 3.4799, 3.4799, 3.4799, 3.4799, 3.4767, 3.4767, 2.3959, 2.1087, 2.033, 2.0304, 2.0304, 2.02, 2.0056]}, \"token.table\": {\"Topic\": [5, 6, 1, 5, 6, 5, 8, 6, 5, 5, 4, 5, 8, 5, 3, 3, 8, 1, 2, 3, 4, 7, 3, 4, 1, 7, 4, 2, 7, 1, 2, 3, 4, 1, 2, 3, 5, 4, 3, 8, 1, 4, 1, 9, 4, 1, 2, 1, 2, 3, 1, 3, 6, 7, 3, 4, 4, 1, 2, 3, 2, 5, 5, 2, 8, 1, 2, 3, 1, 8, 2, 2, 1, 1, 3, 7, 6, 9, 7, 2, 7, 2, 6, 1, 2, 5, 5, 6, 7, 3, 4, 3, 2, 9, 8, 2, 7, 4, 2, 1, 2, 3, 7, 1, 2, 3, 3, 1, 1, 2, 7, 1, 2, 3, 2, 3, 4, 6, 6, 5, 1, 7, 8, 6, 1, 2, 3, 3, 7, 5, 4, 1, 2, 3, 2, 7, 4, 5, 3, 3, 3, 9, 2, 3, 1, 4, 7, 1, 2, 3, 3, 1, 2, 3, 2, 1, 3, 1, 2, 6, 9, 6, 8, 4, 5, 7, 5, 1, 2, 3, 3, 3, 6, 3, 4, 1, 2, 3, 1, 2, 3, 1, 3, 3, 1, 8, 8, 1, 8, 1, 3, 9, 1, 2, 3, 3, 1, 8, 6, 4, 5, 7, 4, 6, 1, 5, 3, 1, 3, 4, 1, 2, 3, 6, 2, 2, 8, 2, 4, 8, 1, 1, 7, 1, 2, 6, 3, 8, 1, 5, 1, 1, 3, 7, 2, 1, 3, 6, 4, 1, 2, 3, 9, 7, 7, 2, 6, 7, 5, 6, 6, 8, 1, 2, 3, 9, 6, 9, 1, 1, 2, 9, 5, 7, 9, 5, 1, 2, 3, 1, 2, 1, 2, 6, 2, 3, 7, 8, 2, 2, 3, 2, 3, 7, 1, 2, 3, 2, 7, 10, 1, 2, 3, 2, 3, 2, 4, 9, 1, 3, 8, 5, 6, 7, 2, 1, 5, 9, 6, 1, 2, 5, 6, 1, 7, 3, 3, 8, 8, 1, 5, 3, 4, 8, 3, 1, 2, 3, 6, 1, 4, 1, 3, 6, 4, 3, 3, 1, 8, 1, 8, 2, 3, 1, 2, 3, 5, 6, 8, 3, 5, 7, 5, 2, 7, 5, 1, 3, 7, 8, 4, 1, 3, 1, 2, 4, 1, 1, 2, 3, 7, 5, 8, 5, 1, 2, 3, 4, 2, 3, 7, 6, 6, 6, 5, 1, 6, 1, 2, 3, 1, 1, 5, 4, 6, 3, 1, 1, 2, 3, 1, 2, 7, 1, 1, 2, 3, 3, 6, 8, 1, 2, 8, 9, 2, 3, 4, 9, 2, 2, 2, 8, 1, 3, 3, 2, 3, 4, 9, 7, 6, 8, 4, 9, 5, 8, 8, 2, 3, 1, 2, 1, 2, 3, 2, 1, 2, 3, 1, 6, 6, 2, 1, 2, 3, 1, 2, 6, 5, 1, 2, 1, 3, 2, 1, 2, 2, 1, 2, 3, 4, 3, 4], \"Freq\": [0.973942335675238, 0.7952459896795694, 0.9826590492752496, 0.665471906012059, 0.16636797650301474, 0.8469268739625393, 0.7634540781706396, 0.9668090052589007, 0.8045594959571087, 0.9718825298366738, 0.8763640898615781, 0.8322227229486978, 0.8602338744808049, 0.8327234530914379, 0.9381728200994045, 0.9949249220591412, 0.7675748422307805, 0.02317360508044459, 0.9269442032177835, 0.04634721016088918, 0.44777827955670535, 0.5970377060756071, 0.09508013544448632, 0.8794912528614984, 0.9833767645569068, 0.8856612407911755, 0.8457850489898127, 0.9789635883284292, 0.9718736736567241, 0.31228727288982266, 0.6720965220889662, 0.013577707516948813, 0.989488297155255, 0.4803849834317945, 0.41412498571706424, 0.10491166304832293, 0.9405908002386194, 0.9574716363646388, 0.9213716480054818, 0.07678097066712347, 0.9963969816647744, 0.9410627359432607, 0.872479407053678, 0.11633058760715707, 0.9417178148574255, 0.9697827126738309, 0.018297787031581712, 0.9344907491131506, 0.05946759312538231, 0.008495370446483188, 0.9825933638060708, 0.9826769856153896, 0.8975342343788206, 0.9324548194630202, 0.971666570839796, 0.8791224735989968, 0.981386933445884, 0.9819786067479556, 0.17342478503764472, 0.8175739866060394, 0.5524472771403897, 0.3682981847602598, 0.7750341771141558, 0.8244896836028057, 0.14990721520051015, 0.007438547677015586, 0.952134102657995, 0.03719273838507793, 0.976397967445718, 0.8765791976042975, 0.9561115672321514, 0.9761283286316047, 0.9963264006362769, 0.9653207666295013, 0.03309671199872576, 0.977111101755227, 0.8258465745225327, 0.49890823624523833, 0.8407636187209494, 0.9771070994688653, 0.03053459685840204, 0.8317082570047816, 0.15121968309177847, 0.43145609718945266, 0.55609896971085, 0.8041982809982283, 0.616019514709689, 0.3080097573548445, 0.722376533130139, 0.9669706203607399, 0.9650174544505902, 0.9575537409986017, 0.9773558598635409, 0.8114009420837668, 0.6540273574363537, 0.9928677166610955, 0.9431564609280269, 0.9522605154582677, 0.9655544431267866, 0.30302383338985095, 0.43987330653365464, 0.24437405918536367, 0.9397822265581377, 0.07542292599729773, 0.9050751119675728, 0.012570487666216289, 0.9530802766049618, 0.9845839451517917, 0.12163001072528937, 0.868785790894924, 0.9355350550533581, 0.7172457037085533, 0.0858242722386303, 0.1961697651168693, 0.4982382943941363, 0.4869146967942696, 0.8736237099787336, 0.8055186288029185, 0.9470690709431031, 0.8528403201637687, 0.9825816070519563, 0.8946885680792286, 0.7213558151731305, 0.9667927287011726, 0.6739544821371808, 0.31161336270858897, 0.007246822388571836, 0.9917277154921365, 0.7761556192124617, 0.8227628307203438, 0.9402385141265652, 0.1645458136726795, 0.5171439858284212, 0.3134205974717705, 0.9601392185652033, 0.9661322907309552, 0.9555449055939091, 0.8042218075486949, 0.9941931588300189, 0.949144972205266, 0.9278851748501038, 0.8507427032436832, 0.9861832845898652, 0.9788510478825452, 0.6109898083145624, 0.3719068398436467, 0.6462695967707518, 0.800772246193533, 0.18017375539354494, 0.020019306154838327, 0.9920245896883431, 0.6043238648160423, 0.33884054848067113, 0.05589122449165709, 0.9918523325732982, 0.3767080014486558, 0.627846669081093, 0.9830782463094359, 0.9759540218991817, 0.7808472036294473, 0.6581988620372435, 0.9516052161547707, 0.520574198127172, 0.12080154954253616, 0.24160309908507233, 0.48320619817014465, 0.8040202617898932, 0.7802907982084117, 0.17686591426057333, 0.041615509237781956, 0.967875207368118, 0.9280263549950168, 0.07733552958291807, 0.9740921123574685, 0.9242830092664568, 0.7303409030355864, 0.1544333187035601, 0.11260762822134592, 0.5927339920675321, 0.39050710065625643, 0.013946682166294872, 0.6762301537155482, 0.32031954649683864, 0.995155474981228, 0.8513272559012288, 0.12161817941446126, 0.6028512386280399, 0.9851135408924903, 0.9383328134350747, 0.14169049556738258, 0.8501429734042956, 0.5944993629621871, 0.9796854118650234, 0.8577784729763607, 0.1347937600391424, 0.9819017279100987, 0.9885214088051294, 0.5925623757500589, 0.9330427631413262, 0.4076518677741736, 0.5435358236988981, 0.8161077657199681, 0.9399020323452728, 0.9667927287011726, 0.9939319481713154, 0.9319671241273388, 0.9890895814908178, 0.9823246531587327, 0.012593905809727343, 0.9380221313136798, 0.26473853231003347, 0.14825357809361875, 0.5824247710820737, 0.8710778055615085, 0.9850520084405334, 0.9924464584087002, 0.6526198765679133, 0.9934859484436839, 0.9450995904366591, 0.8112610590908599, 0.9756901375982989, 0.9983791577815403, 0.8325279771471761, 0.99249000192898, 0.5490857625210359, 0.42237366347772, 0.9731481581732288, 0.7357578534519983, 0.998754711197585, 0.7391335503986319, 0.9971862094182266, 0.1776880685544626, 0.812288313391829, 0.9645969083018189, 0.9922000128895896, 0.3893218614899253, 0.583982792234888, 0.9387937666598714, 0.8465500465508452, 0.7999728176387765, 0.12363216272599273, 0.07272480160352514, 0.7194781563003979, 0.8536674303709881, 0.7821498580158758, 0.9897417957284234, 0.24963331939946506, 0.7488999581983952, 0.8714012457966379, 0.9106421877239927, 0.8363305759727463, 0.8088900089458398, 0.880655006155967, 0.02072129426249334, 0.09324582418122004, 0.8383135405541124, 0.7734580078535565, 0.6737532956684102, 0.9979702069122807, 0.34450255793123014, 0.6507270538701013, 0.7564757292017795, 0.08815666516813601, 0.8815666516813602, 0.7567333034177878, 0.8459490501892596, 0.6329216093954696, 0.3143080101079543, 0.051667070154732216, 0.26899392625093177, 0.7242144168294317, 0.470584051846404, 0.5273786787933838, 0.9721112415581394, 0.9457505631526345, 0.04613417381232363, 0.9295232467597071, 0.742826581519406, 0.9601039439758582, 0.9650535989895274, 0.9775873650955859, 0.9295593586546895, 0.045344358958765346, 0.7687080199745256, 0.026572193150965474, 0.4782994767173785, 0.49158557329286123, 0.9893633331625925, 0.8264737691869761, 0.5214839937861828, 0.7288853873778922, 0.15771204288293575, 0.1108246787826035, 0.9547366147084665, 0.04896085203633162, 0.9909850683787564, 0.9555410878979999, 0.7529833315067423, 0.9598917648680602, 0.033878532877696245, 0.5944740125011096, 0.7342334771023693, 0.7467097673207749, 0.9173611182764626, 0.9935644916063403, 0.9800093723493982, 0.8340992045826777, 0.6492809513723273, 0.7545195273058893, 0.9743236446281753, 0.025505854571418202, 0.9412111363317429, 0.8900342795836008, 0.8970681247236661, 0.08681304432809672, 0.9753845802977268, 0.9357439435765623, 0.6258352263068511, 0.6041791134788775, 0.9949601585840022, 0.7814138399814878, 0.5191975891902759, 0.4326646576585632, 0.829761860798674, 0.9891099229694252, 0.05123959996128917, 0.7993377593961111, 0.14347087989160967, 0.7713410010161784, 0.9924893874455677, 0.9384880123009081, 0.7770360917145465, 0.21584335880959624, 0.7715423317538844, 0.9662511719720907, 0.9457905519569131, 0.9511813500273388, 0.9932570053625469, 0.7359713531824772, 0.38337387850771437, 0.38337387850771437, 0.9150749021355735, 0.07957173062048466, 0.2769872018161763, 0.6614619744863912, 0.062012060108099176, 0.6561952768713435, 0.32809763843567175, 0.7178791989180388, 0.9744047121777917, 0.8455988189530023, 0.9484306122685177, 0.9167536236396171, 0.9956214762765333, 0.8467056261166934, 0.9035137892498647, 0.9860579847695812, 0.014290695431443205, 0.8818258615654423, 0.9812401333952601, 0.9186647664921215, 0.3199794628008587, 0.6755121992462573, 0.6282654577785604, 0.14879971368439587, 0.21493291976634962, 0.995454080333671, 0.8682448969124685, 0.09515012568903765, 0.03568129713338912, 0.8542525474274466, 0.8342512159803939, 0.4853604569601503, 0.97464767665318, 0.09773033107411784, 0.8551403968985312, 0.03664887415279419, 0.9399020323452728, 0.04810010338466263, 0.91390196430859, 0.7567827189951394, 0.9427342016089946, 0.7892047342908116, 0.9498733163099891, 0.9578456360069885, 0.9770690430859521, 0.9091418872226653, 0.04557620729420312, 0.7899875930995207, 0.1595167255297109, 0.9889089706485489, 0.9929409833364232, 0.8933157131336779, 0.8961006332556989, 0.9268468716933908, 0.9581403769683936, 0.9916145290760394, 0.6051620020346973, 0.017798882412785214, 0.3737765306684895, 0.9117805223417822, 0.08079067919484147, 0.8156705036991002, 0.9946387293327094, 0.4499042295426338, 0.4544950890277627, 0.09640804918770725, 0.9924962704880601, 0.9596805538406049, 0.7491150414943935, 0.016395731809834776, 0.9837439085900865, 0.7129967156330165, 0.726973350767034, 0.9864729230604595, 0.018612696661518106, 0.9727982740797411, 0.8447685648298005, 0.9756151526395161, 0.9623720694939525, 0.9847469274835208, 0.8438603641778919, 0.1088024690865282, 0.8704197526922256, 0.9817675050730829, 0.7237393437447686, 0.26317794317991583, 0.9399020323452728, 0.6122280601463833, 0.9297077405716729, 0.5187882834652983, 0.25939414173264913, 0.9399020323452728, 0.6309041238876282, 0.8992445788795693, 0.6954333986162893, 0.7933476140003719, 0.455157129769327, 0.5432520581117773, 0.055906363087178786, 0.9317727181196463, 0.30655129638521283, 0.6021543321852395, 0.08758608468148939, 0.9785282928765326, 0.9392870890773337, 0.024397067248761915, 0.03659560087314287, 0.9926864032085597, 0.8599050491784259, 0.7237844881263221, 0.9851392609029253, 0.7871732210235319, 0.057598040562697454, 0.16319444826097612, 0.19081063631973916, 0.809037097995694, 0.7243046374426051, 0.9035137892498647, 0.98005430157836, 0.9966732984818919, 0.9870689462221749, 0.9814789350527963, 0.9880742233468633, 0.014860184115704765, 0.9659119675208097, 0.9648403012604196, 0.7113254777535097, 0.19514238770229028, 0.08812882025264722, 0.898063952908895, 0.9838209043601559, 0.7884523240046483], \"Term\": [\"abysmal\", \"account\", \"actually\", \"add\", \"add\", \"advertised\", \"agreed\", \"alone\", \"alright\", \"anymore\", \"anyway\", \"anywhere\", \"apologetic\", \"apologize\", \"apparently\", \"appetizer\", \"arguing\", \"asked\", \"asked\", \"asked\", \"asking\", \"asking\", \"ate\", \"ate\", \"atmosphere\", \"authentic\", \"available\", \"average\", \"baby\", \"back\", \"back\", \"back\", \"bacon\", \"bad\", \"bad\", \"bad\", \"barely\", \"bartender\", \"bathroom\", \"bathroom\", \"beer\", \"belly\", \"bennigans\", \"bennigans\", \"besides\", \"best\", \"best\", \"better\", \"better\", \"better\", \"bit\", \"bite\", \"booth\", \"bother\", \"bottle\", \"bright\", \"broccoli\", \"burger\", \"business\", \"business\", \"caesar\", \"caesar\", \"cafeteria\", \"cake\", \"cake\", \"came\", \"came\", \"came\", \"cant\", \"certificate\", \"changed\", \"charge\", \"cheese\", \"chicken\", \"chicken\", \"chinese\", \"chunk\", \"clam\", \"clear\", \"close\", \"close\", \"coffee\", \"coffee\", \"come\", \"come\", \"complete\", \"completely\", \"completely\", \"consistency\", \"cooked\", \"cool\", \"cost\", \"couldnt\", \"creativity\", \"crowded\", \"curry\", \"cute\", \"dead\", \"definitely\", \"didnt\", \"didnt\", \"didnt\", \"difference\", \"dinner\", \"dinner\", \"dinner\", \"dirty\", \"disappointed\", \"dish\", \"dish\", \"district\", \"dont\", \"dont\", \"dont\", \"drink\", \"drink\", \"duck\", \"dump\", \"early\", \"edible\", \"else\", \"enter\", \"equivalent\", \"ethos\", \"even\", \"even\", \"even\", \"evening\", \"everywhere\", \"expectation\", \"expected\", \"experience\", \"experience\", \"experience\", \"extra\", \"face\", \"fact\", \"fairly\", \"fantastic\", \"far\", \"fat\", \"fatty\", \"fault\", \"feel\", \"felt\", \"felt\", \"female\", \"first\", \"first\", \"first\", \"floor\", \"food\", \"food\", \"food\", \"free\", \"friday\", \"friday\", \"fried\", \"friendly\", \"fruit\", \"fucking\", \"garbage\", \"gary\", \"general\", \"general\", \"general\", \"generous\", \"get\", \"get\", \"get\", \"getting\", \"girl\", \"girl\", \"glass\", \"god\", \"good\", \"good\", \"good\", \"got\", \"got\", \"got\", \"great\", \"great\", \"green\", \"greenhouse\", \"greenhouse\", \"grit\", \"half\", \"hamburger\", \"hand\", \"hand\", \"hooter\", \"horrible\", \"hour\", \"hour\", \"house\", \"however\", \"hubby\", \"ignored\", \"impressed\", \"impressed\", \"inch\", \"inconvenience\", \"independent\", \"inside\", \"interesting\", \"issue\", \"ive\", \"ive\", \"kinda\", \"know\", \"know\", \"know\", \"lacked\", \"lady\", \"late\", \"lately\", \"later\", \"leave\", \"leftover\", \"let\", \"like\", \"limited\", \"little\", \"local\", \"local\", \"london\", \"longer\", \"look\", \"lost\", \"lot\", \"lunch\", \"lunch\", \"man\", \"manager\", \"many\", \"many\", \"margarita\", \"matter\", \"menu\", \"menu\", \"menu\", \"met\", \"michelin\", \"middle\", \"minute\", \"miss\", \"miss\", \"missing\", \"mix\", \"monday\", \"mountain\", \"much\", \"much\", \"much\", \"mushroom\", \"naked\", \"necessary\", \"new\", \"night\", \"night\", \"noisy\", \"okay\", \"okay\", \"olive\", \"omelet\", \"one\", \"one\", \"one\", \"order\", \"order\", \"ordered\", \"ordered\", \"organic\", \"overpriced\", \"overpriced\", \"packed\", \"pancake\", \"part\", \"partner\", \"party\", \"pay\", \"pay\", \"pearl\", \"people\", \"people\", \"people\", \"persian\", \"picked\", \"pizza\", \"place\", \"place\", \"place\", \"poor\", \"poor\", \"portion\", \"possible\", \"pound\", \"pretty\", \"pretty\", \"provide\", \"pub\", \"pull\", \"putting\", \"quality\", \"quite\", \"racist\", \"ravioli\", \"realized\", \"really\", \"really\", \"recommended\", \"red\", \"regular\", \"regular\", \"reservation\", \"rest\", \"restaurantcom\", \"returning\", \"rice\", \"risotto\", \"roast\", \"roast\", \"rubber\", \"sad\", \"said\", \"said\", \"said\", \"sangria\", \"sauce\", \"sausage\", \"say\", \"say\", \"scooter\", \"seafood\", \"seat\", \"seem\", \"seemed\", \"separate\", \"serf\", \"serf\", \"server\", \"server\", \"service\", \"service\", \"service\", \"show\", \"show\", \"similarly\", \"single\", \"sister\", \"site\", \"slaw\", \"slice\", \"smile\", \"sock\", \"something\", \"something\", \"somewhat\", \"soup\", \"sour\", \"special\", \"special\", \"staff\", \"staff\", \"staff\", \"standard\", \"star\", \"star\", \"star\", \"station\", \"stayed\", \"staying\", \"steak\", \"still\", \"still\", \"still\", \"stilton\", \"stopped\", \"stopped\", \"store\", \"strong\", \"stupid\", \"subpar\", \"support\", \"sure\", \"surly\", \"table\", \"table\", \"table\", \"taste\", \"tasted\", \"tasteless\", \"tasting\", \"tea\", \"terribleduring\", \"thats\", \"thing\", \"thing\", \"thing\", \"think\", \"think\", \"thoroughly\", \"though\", \"time\", \"time\", \"time\", \"tiny\", \"tofu\", \"together\", \"told\", \"told\", \"ton\", \"tony\", \"took\", \"took\", \"tough\", \"tour\", \"tourist\", \"trap\", \"treated\", \"trip\", \"trying\", \"trying\", \"turn\", \"two\", \"two\", \"uncommunicative\", \"underwhelming\", \"unless\", \"unpleasant\", \"unpleasant\", \"unresponsive\", \"utterly\", \"vegetable\", \"vietnamese\", \"volume\", \"wait\", \"wait\", \"waiter\", \"waiter\", \"waitress\", \"waitress\", \"waitress\", \"walked\", \"want\", \"want\", \"want\", \"way\", \"wednesday\", \"weekday\", \"weekend\", \"well\", \"well\", \"well\", \"went\", \"went\", \"west\", \"wet\", \"white\", \"wine\", \"wing\", \"working\", \"world\", \"worst\", \"worst\", \"worth\", \"would\", \"would\", \"would\", \"yelp\", \"yet\", \"zero\"]}, \"R\": 30, \"lambda.step\": 0.01, \"plot.opts\": {\"xlab\": \"PC1\", \"ylab\": \"PC2\"}, \"topic.order\": [2, 1, 9, 11, 5, 6, 3, 10, 4, 7, 8]};\n",
       "\n",
       "function LDAvis_load_lib(url, callback){\n",
       "  var s = document.createElement('script');\n",
       "  s.src = url;\n",
       "  s.async = true;\n",
       "  s.onreadystatechange = s.onload = callback;\n",
       "  s.onerror = function(){console.warn(\"failed to load library \" + url);};\n",
       "  document.getElementsByTagName(\"head\")[0].appendChild(s);\n",
       "}\n",
       "\n",
       "if(typeof(LDAvis) !== \"undefined\"){\n",
       "   // already loaded: just create the visualization\n",
       "   !function(LDAvis){\n",
       "       new LDAvis(\"#\" + \"ldavis_el4182817652483864326131915251\", ldavis_el4182817652483864326131915251_data);\n",
       "   }(LDAvis);\n",
       "}else if(typeof define === \"function\" && define.amd){\n",
       "   // require.js is available: use it to load d3/LDAvis\n",
       "   require.config({paths: {d3: \"https://d3js.org/d3.v5\"}});\n",
       "   require([\"d3\"], function(d3){\n",
       "      window.d3 = d3;\n",
       "      LDAvis_load_lib(\"https://cdn.jsdelivr.net/gh/bmabey/pyLDAvis@3.3.1/pyLDAvis/js/ldavis.v3.0.0.js\", function(){\n",
       "        new LDAvis(\"#\" + \"ldavis_el4182817652483864326131915251\", ldavis_el4182817652483864326131915251_data);\n",
       "      });\n",
       "    });\n",
       "}else{\n",
       "    // require.js not available: dynamically load d3 & LDAvis\n",
       "    LDAvis_load_lib(\"https://d3js.org/d3.v5.js\", function(){\n",
       "         LDAvis_load_lib(\"https://cdn.jsdelivr.net/gh/bmabey/pyLDAvis@3.3.1/pyLDAvis/js/ldavis.v3.0.0.js\", function(){\n",
       "                 new LDAvis(\"#\" + \"ldavis_el4182817652483864326131915251\", ldavis_el4182817652483864326131915251_data);\n",
       "            })\n",
       "         });\n",
       "}\n",
       "</script>"
      ],
      "text/plain": [
       "PreparedData(topic_coordinates=              x         y  topics  cluster       Freq\n",
       "topic                                                \n",
       "1      0.200856 -0.317685       1        1  46.248058\n",
       "0      0.356286 -0.074918       2        1  27.951688\n",
       "8      0.249444  0.178705       3        1  14.730825\n",
       "10    -0.063900  0.241220       4        1   3.033289\n",
       "4     -0.086165 -0.142000       5        1   2.279818\n",
       "5     -0.237085  0.020641       6        1   2.137738\n",
       "2     -0.152702 -0.062748       7        1   1.892711\n",
       "9     -0.103292  0.068271       8        1   0.838946\n",
       "3     -0.050492  0.051259       9        1   0.548881\n",
       "6     -0.052007  0.019794      10        1   0.197889\n",
       "7     -0.060942  0.017462      11        1   0.140157, topic_info=          Term        Freq       Total Category  logprob  loglift\n",
       "147       like  353.000000  353.000000  Default  30.0000  30.0000\n",
       "239        ate   42.000000   42.000000  Default  29.0000  29.0000\n",
       "127      staff   60.000000   60.000000  Default  28.0000  28.0000\n",
       "244       came  134.000000  134.000000  Default  27.0000  27.0000\n",
       "74       lunch   78.000000   78.000000  Default  26.0000  26.0000\n",
       "...        ...         ...         ...      ...      ...      ...\n",
       "3187     katsu    0.007885    0.736645  Topic11  -8.7204   2.0330\n",
       "4008  listened    0.007890    0.739034  Topic11  -8.7197   2.0304\n",
       "4009   spanish    0.007890    0.739034  Topic11  -8.7197   2.0304\n",
       "5639      fell    0.008300    0.785566  Topic11  -8.6691   2.0200\n",
       "4945    hotpot    0.008598    0.825605  Topic11  -8.6338   2.0056\n",
       "\n",
       "[470 rows x 6 columns], token_table=      Topic      Freq      Term\n",
       "term                           \n",
       "2126      5  0.973942   abysmal\n",
       "1324      6  0.795246   account\n",
       "157       1  0.982659  actually\n",
       "1325      5  0.665472       add\n",
       "1325      6  0.166368       add\n",
       "...     ...       ...       ...\n",
       "88        2  0.195142     would\n",
       "88        3  0.088129     would\n",
       "2125      4  0.898064      yelp\n",
       "1473      3  0.983821       yet\n",
       "675       4  0.788452      zero\n",
       "\n",
       "[473 rows x 3 columns], R=30, lambda_step=0.01, plot_opts={'xlab': 'PC1', 'ylab': 'PC2'}, topic_order=[2, 1, 9, 11, 5, 6, 3, 10, 4, 7, 8])"
      ]
     },
     "execution_count": 66,
     "metadata": {},
     "output_type": "execute_result"
    }
   ],
   "source": [
    "import pyLDAvis\n",
    "import pyLDAvis.gensim_models\n",
    "pyLDAvis.enable_notebook()\n",
    "vis = pyLDAvis.gensim_models.prepare(model_LDA_choisie, corpus_bow, dico, mds='mmds')\n",
    "vis"
   ]
  },
  {
   "cell_type": "markdown",
   "metadata": {},
   "source": [
    "## Affichage les topics"
   ]
  },
  {
   "cell_type": "code",
   "execution_count": 67,
   "metadata": {
    "scrolled": false
   },
   "outputs": [
    {
     "name": "stderr",
     "output_type": "stream",
     "text": [
      "C:\\Users\\JK253\\anaconda3\\lib\\site-packages\\ipykernel\\ipkernel.py:287: DeprecationWarning: `should_run_async` will not call `transform_cell` automatically in the future. Please pass the result to `transformed_cell` argument and any exception that happen during thetransform in `preprocessing_exc_tuple` in IPython 7.17 and above.\n",
      "  and should_run_async(code)\n"
     ]
    },
    {
     "data": {
      "text/plain": [
       "[(0,\n",
       "  '0.020*\"food\" + 0.017*\"service\" + 0.013*\"came\" + 0.011*\"went\" + 0.011*\"table\" + 0.010*\"back\" + 0.010*\"time\" + 0.009*\"night\" + 0.008*\"asked\" + 0.008*\"said\"'),\n",
       " (1,\n",
       "  '0.022*\"like\" + 0.022*\"food\" + 0.021*\"place\" + 0.014*\"good\" + 0.012*\"really\" + 0.011*\"chicken\" + 0.009*\"get\" + 0.009*\"one\" + 0.007*\"dont\" + 0.007*\"would\"'),\n",
       " (2,\n",
       "  '0.023*\"chinese\" + 0.017*\"putting\" + 0.017*\"site\" + 0.016*\"okay\" + 0.012*\"man\" + 0.012*\"face\" + 0.010*\"cute\" + 0.009*\"miss\" + 0.009*\"bother\" + 0.008*\"baby\"'),\n",
       " (3,\n",
       "  '0.022*\"mushroom\" + 0.009*\"bennigans\" + 0.009*\"tour\" + 0.009*\"fatty\" + 0.007*\"clam\" + 0.005*\"hooter\" + 0.005*\"underwhelming\" + 0.005*\"utterly\" + 0.004*\"ravioli\" + 0.004*\"fucking\"'),\n",
       " (4,\n",
       "  '0.032*\"steak\" + 0.014*\"abysmal\" + 0.013*\"vegetable\" + 0.013*\"sock\" + 0.013*\"wet\" + 0.011*\"interesting\" + 0.011*\"barely\" + 0.010*\"anymore\" + 0.009*\"tasteless\" + 0.008*\"completely\"'),\n",
       " (5,\n",
       "  '0.021*\"early\" + 0.018*\"ignored\" + 0.017*\"tea\" + 0.016*\"alone\" + 0.016*\"surly\" + 0.014*\"organic\" + 0.014*\"local\" + 0.013*\"independent\" + 0.013*\"ethos\" + 0.010*\"wednesday\"'),\n",
       " (6,\n",
       "  '0.018*\"pizza\" + 0.007*\"office\" + 0.006*\"buffalo\" + 0.004*\"inattentive\" + 0.003*\"inform\" + 0.003*\"deliver\" + 0.002*\"broke\" + 0.002*\"highland\" + 0.002*\"holy\" + 0.002*\"straw\"'),\n",
       " (7,\n",
       "  '0.008*\"flat\" + 0.005*\"uncooked\" + 0.004*\"threw\" + 0.004*\"1hr\" + 0.001*\"halibut\" + 0.001*\"coleslaw\" + 0.001*\"continues\" + 0.001*\"shotdespite\" + 0.001*\"yesteryear\" + 0.001*\"trek\"'),\n",
       " (8,\n",
       "  '0.013*\"business\" + 0.013*\"lunch\" + 0.011*\"know\" + 0.010*\"place\" + 0.010*\"feel\" + 0.009*\"appetizer\" + 0.009*\"party\" + 0.009*\"drink\" + 0.008*\"thing\" + 0.008*\"experience\"'),\n",
       " (9,\n",
       "  '0.054*\"soup\" + 0.012*\"longer\" + 0.012*\"pancake\" + 0.011*\"together\" + 0.010*\"trip\" + 0.009*\"hamburger\" + 0.007*\"ton\" + 0.007*\"agreed\" + 0.007*\"cake\" + 0.006*\"leftover\"'),\n",
       " (10,\n",
       "  '0.036*\"ate\" + 0.026*\"bacon\" + 0.015*\"bartender\" + 0.015*\"broccoli\" + 0.014*\"felt\" + 0.013*\"staff\" + 0.013*\"besides\" + 0.013*\"leave\" + 0.012*\"belly\" + 0.011*\"kinda\"')]"
      ]
     },
     "execution_count": 67,
     "metadata": {},
     "output_type": "execute_result"
    }
   ],
   "source": [
    "model_LDA_choisie.print_topics()"
   ]
  },
  {
   "cell_type": "markdown",
   "metadata": {},
   "source": [
    "## Mot dominant par topics"
   ]
  },
  {
   "cell_type": "markdown",
   "metadata": {},
   "source": [
    "* Topics n°0  : Les mots dominant sont 'food et 'service' dont le sujets de cette topic correspond **au service de restauration**\n",
    "* Topics n°1  : Les mots dominant sont 'like', 'food' et 'place' dont le sujets de cette topic correspond **au lieu où l'on mange** \n",
    "* Topics n°2  : Le mot dominant est 'chinese' dont le sujets de cette topic correspond **au site internet compliqué à comprendre** \n",
    "* Topics n°3  : Le mot dominant est 'mushroom' dont le sujets de cette topic correspond **au personnel mal organisé** \n",
    "* Topics n°4  : Le mot dominant est 'steak' dont le sujets de cette topic correspond **à la nouriture mauvaise** \n",
    "* Topics n°5  : Le mot dominant est 'early' dont le sujets de cette topic correspond **au comportement du personnel** \n",
    "* Topics n°6  : Le mot dominant est 'pizza' dont le sujets de cette topic correspond **au livraison avec un où plusieurs défaut sur le produit** \n",
    "* Topics n°7  : Le mot dominant est 'flat' dont le sujets de cette topic correspond **au gaspillage de nouriture** \n",
    "* Topics n°8  : Les mots dominant sont 'business' et 'lunch' dont le sujets de cette topic correspond **à l'ambiance dans le restaurant** \n",
    "* Topics n°9  : Le mot dominant est 'soup' dont le sujets de cette topic correspond **au menu bouratif** \n",
    "* Topics n°10 : Le mot dominant est 'ate' dont le sujets de cette topic correspond **au menu trop légé** "
   ]
  },
  {
   "cell_type": "code",
   "execution_count": 68,
   "metadata": {},
   "outputs": [
    {
     "name": "stdout",
     "output_type": "stream",
     "text": [
      "<gensim.interfaces.TransformedCorpus object at 0x0000019AFFCFEBE0>\n"
     ]
    },
    {
     "name": "stderr",
     "output_type": "stream",
     "text": [
      "C:\\Users\\JK253\\anaconda3\\lib\\site-packages\\ipykernel\\ipkernel.py:287: DeprecationWarning: `should_run_async` will not call `transform_cell` automatically in the future. Please pass the result to `transformed_cell` argument and any exception that happen during thetransform in `preprocessing_exc_tuple` in IPython 7.17 and above.\n",
      "  and should_run_async(code)\n"
     ]
    }
   ],
   "source": [
    "# Description des documents dans l'espace des topics\n",
    "doc_topics = model_LDA_choisie.get_document_topics(corpus_bow)\n",
    "print(doc_topics)"
   ]
  },
  {
   "cell_type": "code",
   "execution_count": 69,
   "metadata": {},
   "outputs": [
    {
     "name": "stdout",
     "output_type": "stream",
     "text": [
      "  (0, 0)\t0.16596269607543945\n",
      "  (0, 1)\t0.16275520622730255\n",
      "  (0, 2)\t0.21210038661956787\n",
      "  (0, 3)\t0.16106094419956207\n",
      "  (0, 4)\t0.09810364246368408\n",
      "  (0, 5)\t0.05195951834321022\n",
      "  (0, 6)\t0.07630946487188339\n",
      "  (0, 7)\t0.3122498691082001\n",
      "  (0, 8)\t0.13933390378952026\n",
      "  (0, 9)\t0.10038131475448608\n",
      "  (0, 10)\t0.2587060332298279\n",
      "  (0, 11)\t0.3884859085083008\n",
      "  (0, 12)\t0.3453454375267029\n",
      "  (0, 13)\t0.22742590308189392\n",
      "  (0, 14)\t0.17715713381767273\n",
      "  (0, 15)\t0.053365372121334076\n",
      "  (0, 16)\t0.22314447164535522\n",
      "  (0, 17)\t0.10627374053001404\n",
      "  (0, 18)\t0.2692374587059021\n",
      "  (0, 19)\t0.1502942442893982\n",
      "  (0, 20)\t0.07967939972877502\n",
      "  (0, 21)\t0.3187483847141266\n",
      "  (0, 22)\t0.7757916450500488\n",
      "  (0, 23)\t0.1359780728816986\n",
      "  (0, 24)\t0.26719972491264343\n",
      "  :\t:\n",
      "  (0, 588)\t0.30221444368362427\n",
      "  (0, 589)\t0.19235022366046906\n",
      "  (0, 590)\t0.2339097261428833\n",
      "  (0, 591)\t0.3480777144432068\n",
      "  (0, 592)\t0.23076380789279938\n",
      "  (0, 593)\t0.37049371004104614\n",
      "  (0, 594)\t0.18874859809875488\n",
      "  (0, 595)\t0.26393651962280273\n",
      "  (0, 596)\t0.32058390974998474\n",
      "  (0, 597)\t0.2972286641597748\n",
      "  (0, 598)\t0.17108581960201263\n",
      "  (0, 599)\t0.1582193523645401\n",
      "  (0, 600)\t0.18339790403842926\n",
      "  (0, 601)\t0.6303892135620117\n",
      "  (0, 602)\t0.1764637678861618\n",
      "  (0, 603)\t0.5291622281074524\n",
      "  (0, 604)\t0.4735294282436371\n",
      "  (0, 605)\t0.28120937943458557\n",
      "  (0, 606)\t0.4320243000984192\n",
      "  (0, 607)\t0.107182078063488\n",
      "  (0, 608)\t0.12048046290874481\n",
      "  (0, 609)\t0.5752156376838684\n",
      "  (0, 610)\t0.5626322031021118\n",
      "  (0, 611)\t0.6841216683387756\n",
      "  (0, 612)\t0.4875636100769043\n"
     ]
    },
    {
     "name": "stderr",
     "output_type": "stream",
     "text": [
      "C:\\Users\\JK253\\anaconda3\\lib\\site-packages\\ipykernel\\ipkernel.py:287: DeprecationWarning: `should_run_async` will not call `transform_cell` automatically in the future. Please pass the result to `transformed_cell` argument and any exception that happen during thetransform in `preprocessing_exc_tuple` in IPython 7.17 and above.\n",
      "  and should_run_async(code)\n"
     ]
    }
   ],
   "source": [
    "# Transformation en matrice 'sparse'\n",
    "from gensim.matutils import corpus2csc\n",
    "mat_sparse = corpus2csc(doc_topics)\n",
    "# Vérification\n",
    "print(mat_sparse[0])"
   ]
  },
  {
   "cell_type": "code",
   "execution_count": 70,
   "metadata": {},
   "outputs": [
    {
     "name": "stdout",
     "output_type": "stream",
     "text": [
      "[[0.1659627  0.21223429 0.07060549 ... 0.22586015 0.         0.        ]\n",
      " [0.16275521 0.35149193 0.         ... 0.21547094 0.         0.        ]\n",
      " [0.21210039 0.44678554 0.         ... 0.05477973 0.         0.05301293]\n",
      " ...\n",
      " [0.5626322  0.24038951 0.         ... 0.05243786 0.         0.10965811]\n",
      " [0.68412167 0.15919673 0.01038154 ... 0.05368788 0.         0.01540394]\n",
      " [0.48756361 0.32425597 0.01090168 ... 0.08002823 0.         0.06627879]]\n"
     ]
    },
    {
     "name": "stderr",
     "output_type": "stream",
     "text": [
      "C:\\Users\\JK253\\anaconda3\\lib\\site-packages\\ipykernel\\ipkernel.py:287: DeprecationWarning: `should_run_async` will not call `transform_cell` automatically in the future. Please pass the result to `transformed_cell` argument and any exception that happen during thetransform in `preprocessing_exc_tuple` in IPython 7.17 and above.\n",
      "  and should_run_async(code)\n"
     ]
    }
   ],
   "source": [
    "# Et en matrice normale\n",
    "mat_dt = mat_sparse.T.toarray()\n",
    "print(mat_dt)"
   ]
  },
  {
   "cell_type": "code",
   "execution_count": 71,
   "metadata": {},
   "outputs": [
    {
     "name": "stdout",
     "output_type": "stream",
     "text": [
      "(613, 11)\n"
     ]
    },
    {
     "name": "stderr",
     "output_type": "stream",
     "text": [
      "C:\\Users\\JK253\\anaconda3\\lib\\site-packages\\ipykernel\\ipkernel.py:287: DeprecationWarning: `should_run_async` will not call `transform_cell` automatically in the future. Please pass the result to `transformed_cell` argument and any exception that happen during thetransform in `preprocessing_exc_tuple` in IPython 7.17 and above.\n",
      "  and should_run_async(code)\n"
     ]
    }
   ],
   "source": [
    "# Vérification des dimensions\n",
    "print(mat_dt.shape)"
   ]
  },
  {
   "cell_type": "markdown",
   "metadata": {},
   "source": [
    "## Trouver le sujet dominant dans les 5 premiers documents"
   ]
  },
  {
   "cell_type": "code",
   "execution_count": 72,
   "metadata": {},
   "outputs": [
    {
     "name": "stdout",
     "output_type": "stream",
     "text": [
      "    Sujet 0   Sujet 1   Sujet 2  Sujet 3   Sujet 4   Sujet 5  Sujet 6  \\\n",
      "0  0.165963  0.212234  0.070605      0.0  0.000000  0.315214      0.0   \n",
      "1  0.162755  0.351492  0.000000      0.0  0.222327  0.000000      0.0   \n",
      "2  0.212100  0.446786  0.000000      0.0  0.089836  0.000000      0.0   \n",
      "3  0.161061  0.326663  0.000000      0.0  0.453756  0.000000      0.0   \n",
      "4  0.098104  0.841378  0.000000      0.0  0.000000  0.000000      0.0   \n",
      "\n",
      "    Sujet 7   Sujet 8  Sujet 9  Sujet 10  \n",
      "0  0.000000  0.225860      0.0  0.000000  \n",
      "1  0.025544  0.215471      0.0  0.000000  \n",
      "2  0.120544  0.054780      0.0  0.053013  \n",
      "3  0.000000  0.033856      0.0  0.000000  \n",
      "4  0.000000  0.029977      0.0  0.000000  \n"
     ]
    },
    {
     "name": "stderr",
     "output_type": "stream",
     "text": [
      "C:\\Users\\JK253\\anaconda3\\lib\\site-packages\\ipykernel\\ipkernel.py:287: DeprecationWarning: `should_run_async` will not call `transform_cell` automatically in the future. Please pass the result to `transformed_cell` argument and any exception that happen during thetransform in `preprocessing_exc_tuple` in IPython 7.17 and above.\n",
      "  and should_run_async(code)\n"
     ]
    }
   ],
   "source": [
    "# Création d'une nouvelle data Frame\n",
    "dfTopic = pandas.DataFrame(mat_dt, columns=[\"Sujet \"+str(i) for i in range(mat_dt.shape[1])])\n",
    "# Vérification\n",
    "print(dfTopic.head(5))"
   ]
  },
  {
   "cell_type": "markdown",
   "metadata": {},
   "source": [
    "* **Le document 0** est le plus représenté dans **le sujet 5** qui correspond **au comportement du personnel** \n",
    "* **Le document 1** est le plus représenté dans **le sujet 1** qui correspond **au lieu où l'on mange** \n",
    "* **Le document 2** est le plus représenté dans **le sujet 1** qui correspond **au lieu où l'on mange**\n",
    "* **Le document 3** est le plus représenté dans **le sujet 4** qui correspond **au viande et au lègume qui ne sont pas bonne**\n",
    "* **Le document 4** est le plus représenté dans **le sujet 1** qui correspond **au lieu où l'on mange**"
   ]
  },
  {
   "cell_type": "markdown",
   "metadata": {},
   "source": [
    "## Prédire le sujet d'un texte"
   ]
  },
  {
   "cell_type": "markdown",
   "metadata": {},
   "source": [
    "### Texte brute"
   ]
  },
  {
   "cell_type": "code",
   "execution_count": 73,
   "metadata": {},
   "outputs": [
    {
     "name": "stderr",
     "output_type": "stream",
     "text": [
      "C:\\Users\\JK253\\anaconda3\\lib\\site-packages\\ipykernel\\ipkernel.py:287: DeprecationWarning: `should_run_async` will not call `transform_cell` automatically in the future. Please pass the result to `transformed_cell` argument and any exception that happen during thetransform in `preprocessing_exc_tuple` in IPython 7.17 and above.\n",
      "  and should_run_async(code)\n"
     ]
    },
    {
     "data": {
      "text/plain": [
       "'Ordered all veggies, because of my clean eating regimen and as I returned to work from my 1hr lunch I discovered that ALL my veggies were literally swimming in OIL & GREASE!!! I was more than pissed, but knew it would be a lost effort to attempt to take anything back. I did in turn call the business and make a complaint. Wont return. #LostCustomer'"
      ]
     },
     "execution_count": 73,
     "metadata": {},
     "output_type": "execute_result"
    }
   ],
   "source": [
    "test_text = D['text'][1]\n",
    "test_text"
   ]
  },
  {
   "cell_type": "markdown",
   "metadata": {},
   "source": [
    "### En minuscule, enlévement des ponctuation, tokénization du texte"
   ]
  },
  {
   "cell_type": "code",
   "execution_count": 74,
   "metadata": {
    "scrolled": true
   },
   "outputs": [
    {
     "name": "stderr",
     "output_type": "stream",
     "text": [
      "C:\\Users\\JK253\\anaconda3\\lib\\site-packages\\ipykernel\\ipkernel.py:287: DeprecationWarning: `should_run_async` will not call `transform_cell` automatically in the future. Please pass the result to `transformed_cell` argument and any exception that happen during thetransform in `preprocessing_exc_tuple` in IPython 7.17 and above.\n",
      "  and should_run_async(code)\n"
     ]
    },
    {
     "data": {
      "text/plain": [
       "['ordered',\n",
       " 'all',\n",
       " 'veggies',\n",
       " 'because',\n",
       " 'of',\n",
       " 'my',\n",
       " 'clean',\n",
       " 'eating',\n",
       " 'regimen',\n",
       " 'and',\n",
       " 'as',\n",
       " 'i',\n",
       " 'returned',\n",
       " 'to',\n",
       " 'work',\n",
       " 'from',\n",
       " 'my',\n",
       " '1hr',\n",
       " 'lunch',\n",
       " 'i',\n",
       " 'discovered',\n",
       " 'that',\n",
       " 'all',\n",
       " 'my',\n",
       " 'veggies',\n",
       " 'were',\n",
       " 'literally',\n",
       " 'swimming',\n",
       " 'in',\n",
       " 'oil',\n",
       " 'grease',\n",
       " 'i',\n",
       " 'was',\n",
       " 'more',\n",
       " 'than',\n",
       " 'pissed',\n",
       " 'but',\n",
       " 'knew',\n",
       " 'it',\n",
       " 'would',\n",
       " 'be',\n",
       " 'a',\n",
       " 'lost',\n",
       " 'effort',\n",
       " 'to',\n",
       " 'attempt',\n",
       " 'to',\n",
       " 'take',\n",
       " 'anything',\n",
       " 'back',\n",
       " 'i',\n",
       " 'did',\n",
       " 'in',\n",
       " 'turn',\n",
       " 'call',\n",
       " 'the',\n",
       " 'business',\n",
       " 'and',\n",
       " 'make',\n",
       " 'a',\n",
       " 'complaint',\n",
       " 'wont',\n",
       " 'return',\n",
       " 'lostcustomer']"
      ]
     },
     "execution_count": 74,
     "metadata": {},
     "output_type": "execute_result"
    }
   ],
   "source": [
    "test_text_tk = corpus_tk[1]\n",
    "test_text_tk"
   ]
  },
  {
   "cell_type": "markdown",
   "metadata": {},
   "source": [
    "### Lematization du texte tokénizer"
   ]
  },
  {
   "cell_type": "code",
   "execution_count": 75,
   "metadata": {
    "scrolled": true
   },
   "outputs": [
    {
     "name": "stderr",
     "output_type": "stream",
     "text": [
      "C:\\Users\\JK253\\anaconda3\\lib\\site-packages\\ipykernel\\ipkernel.py:287: DeprecationWarning: `should_run_async` will not call `transform_cell` automatically in the future. Please pass the result to `transformed_cell` argument and any exception that happen during thetransform in `preprocessing_exc_tuple` in IPython 7.17 and above.\n",
      "  and should_run_async(code)\n"
     ]
    },
    {
     "data": {
      "text/plain": [
       "['ordered',\n",
       " 'all',\n",
       " 'veggie',\n",
       " 'because',\n",
       " 'of',\n",
       " 'my',\n",
       " 'clean',\n",
       " 'eating',\n",
       " 'regimen',\n",
       " 'and',\n",
       " 'a',\n",
       " 'i',\n",
       " 'returned',\n",
       " 'to',\n",
       " 'work',\n",
       " 'from',\n",
       " 'my',\n",
       " '1hr',\n",
       " 'lunch',\n",
       " 'i',\n",
       " 'discovered',\n",
       " 'that',\n",
       " 'all',\n",
       " 'my',\n",
       " 'veggie',\n",
       " 'were',\n",
       " 'literally',\n",
       " 'swimming',\n",
       " 'in',\n",
       " 'oil',\n",
       " 'grease',\n",
       " 'i',\n",
       " 'wa',\n",
       " 'more',\n",
       " 'than',\n",
       " 'pissed',\n",
       " 'but',\n",
       " 'knew',\n",
       " 'it',\n",
       " 'would',\n",
       " 'be',\n",
       " 'a',\n",
       " 'lost',\n",
       " 'effort',\n",
       " 'to',\n",
       " 'attempt',\n",
       " 'to',\n",
       " 'take',\n",
       " 'anything',\n",
       " 'back',\n",
       " 'i',\n",
       " 'did',\n",
       " 'in',\n",
       " 'turn',\n",
       " 'call',\n",
       " 'the',\n",
       " 'business',\n",
       " 'and',\n",
       " 'make',\n",
       " 'a',\n",
       " 'complaint',\n",
       " 'wont',\n",
       " 'return',\n",
       " 'lostcustomer']"
      ]
     },
     "execution_count": 75,
     "metadata": {},
     "output_type": "execute_result"
    }
   ],
   "source": [
    "test_text_lm = corpus_lm[1]\n",
    "test_text_lm"
   ]
  },
  {
   "cell_type": "markdown",
   "metadata": {},
   "source": [
    "### Supprimer les mots vides et retirer les mots du texte lémmatizer de moins de 3 lettres"
   ]
  },
  {
   "cell_type": "code",
   "execution_count": 76,
   "metadata": {
    "scrolled": true
   },
   "outputs": [
    {
     "name": "stderr",
     "output_type": "stream",
     "text": [
      "C:\\Users\\JK253\\anaconda3\\lib\\site-packages\\ipykernel\\ipkernel.py:287: DeprecationWarning: `should_run_async` will not call `transform_cell` automatically in the future. Please pass the result to `transformed_cell` argument and any exception that happen during thetransform in `preprocessing_exc_tuple` in IPython 7.17 and above.\n",
      "  and should_run_async(code)\n"
     ]
    },
    {
     "data": {
      "text/plain": [
       "['ordered',\n",
       " 'veggie',\n",
       " 'clean',\n",
       " 'eating',\n",
       " 'regimen',\n",
       " 'returned',\n",
       " 'work',\n",
       " '1hr',\n",
       " 'lunch',\n",
       " 'discovered',\n",
       " 'veggie',\n",
       " 'literally',\n",
       " 'swimming',\n",
       " 'oil',\n",
       " 'grease',\n",
       " 'pissed',\n",
       " 'knew',\n",
       " 'would',\n",
       " 'lost',\n",
       " 'effort',\n",
       " 'attempt',\n",
       " 'take',\n",
       " 'anything',\n",
       " 'back',\n",
       " 'turn',\n",
       " 'call',\n",
       " 'business',\n",
       " 'make',\n",
       " 'complaint',\n",
       " 'wont',\n",
       " 'return',\n",
       " 'lostcustomer']"
      ]
     },
     "execution_count": 76,
     "metadata": {},
     "output_type": "execute_result"
    }
   ],
   "source": [
    "test_text_sw = corpus_sw[1]\n",
    "test_text_sw"
   ]
  },
  {
   "cell_type": "markdown",
   "metadata": {},
   "source": [
    "### Représentation bag of words du test_text_sw"
   ]
  },
  {
   "cell_type": "code",
   "execution_count": 77,
   "metadata": {
    "scrolled": true
   },
   "outputs": [
    {
     "name": "stderr",
     "output_type": "stream",
     "text": [
      "C:\\Users\\JK253\\anaconda3\\lib\\site-packages\\ipykernel\\ipkernel.py:287: DeprecationWarning: `should_run_async` will not call `transform_cell` automatically in the future. Please pass the result to `transformed_cell` argument and any exception that happen during thetransform in `preprocessing_exc_tuple` in IPython 7.17 and above.\n",
      "  and should_run_async(code)\n"
     ]
    },
    {
     "data": {
      "text/plain": [
       "[(11, 1),\n",
       " (19, 1),\n",
       " (60, 1),\n",
       " (61, 1),\n",
       " (62, 1),\n",
       " (63, 1),\n",
       " (64, 1),\n",
       " (65, 1),\n",
       " (66, 1),\n",
       " (67, 1),\n",
       " (68, 1),\n",
       " (69, 1),\n",
       " (70, 1),\n",
       " (71, 1),\n",
       " (72, 1),\n",
       " (73, 1),\n",
       " (74, 1),\n",
       " (75, 1),\n",
       " (76, 1),\n",
       " (77, 1),\n",
       " (78, 1),\n",
       " (79, 1),\n",
       " (80, 1),\n",
       " (81, 1),\n",
       " (82, 1),\n",
       " (83, 1),\n",
       " (84, 1),\n",
       " (85, 2),\n",
       " (86, 1),\n",
       " (87, 1),\n",
       " (88, 1)]"
      ]
     },
     "execution_count": 77,
     "metadata": {},
     "output_type": "execute_result"
    }
   ],
   "source": [
    "test_text_bow = corpus_bow[1]\n",
    "test_text_bow"
   ]
  },
  {
   "cell_type": "markdown",
   "metadata": {},
   "source": [
    "### Prédiction du topics correspondant au texte brute"
   ]
  },
  {
   "cell_type": "code",
   "execution_count": 78,
   "metadata": {},
   "outputs": [
    {
     "name": "stdout",
     "output_type": "stream",
     "text": [
      "[(0, 0.16274282), (1, 0.35151204), (4, 0.222328), (7, 0.02554437), (8, 0.21546227)]\n"
     ]
    },
    {
     "name": "stderr",
     "output_type": "stream",
     "text": [
      "C:\\Users\\JK253\\anaconda3\\lib\\site-packages\\ipykernel\\ipkernel.py:287: DeprecationWarning: `should_run_async` will not call `transform_cell` automatically in the future. Please pass the result to `transformed_cell` argument and any exception that happen during thetransform in `preprocessing_exc_tuple` in IPython 7.17 and above.\n",
      "  and should_run_async(code)\n"
     ]
    }
   ],
   "source": [
    "# Description du texte dans l'espace des topics\n",
    "doc_topics_test = model_LDA_choisie.get_document_topics(test_text_bow)\n",
    "print(doc_topics_test)"
   ]
  },
  {
   "cell_type": "markdown",
   "metadata": {},
   "source": [
    "Le topic 1 représente la pédiction du sujet du texte avec le poids le plus élevé égale à environ 0,3515 qui correspond **au lieu où l'on mange**."
   ]
  },
  {
   "cell_type": "code",
   "execution_count": null,
   "metadata": {},
   "outputs": [],
   "source": []
  }
 ],
 "metadata": {
  "kernelspec": {
   "display_name": "Python 3",
   "language": "python",
   "name": "python3"
  },
  "language_info": {
   "codemirror_mode": {
    "name": "ipython",
    "version": 3
   },
   "file_extension": ".py",
   "mimetype": "text/x-python",
   "name": "python",
   "nbconvert_exporter": "python",
   "pygments_lexer": "ipython3",
   "version": "3.8.5"
  }
 },
 "nbformat": 4,
 "nbformat_minor": 4
}
