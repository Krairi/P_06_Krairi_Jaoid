{
 "cells": [
  {
   "cell_type": "markdown",
   "metadata": {},
   "source": [
    "# Améliorez le produit IA de votre start-up"
   ]
  },
  {
   "cell_type": "markdown",
   "metadata": {},
   "source": [
    "## Analyser les photos pour déterminer les catégories des photos "
   ]
  },
  {
   "cell_type": "markdown",
   "metadata": {},
   "source": [
    "## Extaire le jeu de données utile"
   ]
  },
  {
   "cell_type": "markdown",
   "metadata": {},
   "source": [
    "### Importer la librairie"
   ]
  },
  {
   "cell_type": "code",
   "execution_count": 1,
   "metadata": {},
   "outputs": [],
   "source": [
    "import numpy as np\n",
    "import pandas as pd\n",
    "import json\n",
    "import matplotlib.pyplot as plt\n",
    "import seaborn as sns\n",
    "%matplotlib inline\n",
    "import os\n",
    "from os import listdir\n",
    "from matplotlib.image import imread\n",
    "from PIL import Image\n",
    "from PIL import ImageFilter\n",
    "import cv2\n",
    "from sklearn.cluster import KMeans\n",
    "from scipy.spatial import distance\n",
    "from sklearn import cluster, metrics\n",
    "from sklearn.metrics import silhouette_score\n",
    "from sklearn import manifold, decomposition"
   ]
  },
  {
   "cell_type": "code",
   "execution_count": 2,
   "metadata": {},
   "outputs": [],
   "source": [
    "datafile = '../P6/photos.json'\n",
    "img_dir = '../P6/photos/'\n",
    "outputfile = '../P6/P6_01_fichiercsv_photos_01.csv'\n",
    "outputfile_raw = '../P6/P6_01_fichiercsv_photos_02.csv'\n",
    "chunksize = 10000"
   ]
  },
  {
   "cell_type": "markdown",
   "metadata": {},
   "source": [
    "# Chargement des données\n",
    "Dans un premier temps on charge les données qui sont dans un fichier photos.json et l'on ne prend que l'indentifiant de l'image (photo_id) et le label de cette image (label). C'est données sont chargée dans un data frame."
   ]
  },
  {
   "cell_type": "code",
   "execution_count": 3,
   "metadata": {},
   "outputs": [],
   "source": [
    "keep_cols = ['photo_id','label']\n",
    "header = True\n",
    "i = 0\n",
    "for chunk in pd.read_json(datafile, chunksize=chunksize,orient='records', lines=True):\n",
    "        chunk.to_json(str(i) + '.json')\n",
    "        chunk = chunk[keep_cols]\n",
    "        rawcsv = chunk[keep_cols]\n",
    "        if header:\n",
    "            chunk.to_csv(outputfile, index=False)        \n",
    "            rawcsv.to_csv(outputfile_raw, index=False)        \n",
    "        else:\n",
    "            chunk.to_csv(outputfile, mode='a', header=False, index=False)\n",
    "            rawcsv.to_csv(outputfile_raw, mode='a', header=False, index=False)\n",
    "        i += 1\n",
    "        header = False    "
   ]
  },
  {
   "cell_type": "code",
   "execution_count": 4,
   "metadata": {},
   "outputs": [
    {
     "data": {
      "text/html": [
       "<div>\n",
       "<style scoped>\n",
       "    .dataframe tbody tr th:only-of-type {\n",
       "        vertical-align: middle;\n",
       "    }\n",
       "\n",
       "    .dataframe tbody tr th {\n",
       "        vertical-align: top;\n",
       "    }\n",
       "\n",
       "    .dataframe thead th {\n",
       "        text-align: right;\n",
       "    }\n",
       "</style>\n",
       "<table border=\"1\" class=\"dataframe\">\n",
       "  <thead>\n",
       "    <tr style=\"text-align: right;\">\n",
       "      <th></th>\n",
       "      <th>photo_id</th>\n",
       "      <th>label</th>\n",
       "    </tr>\n",
       "  </thead>\n",
       "  <tbody>\n",
       "    <tr>\n",
       "      <th>0</th>\n",
       "      <td>Un_Og6jfhazVn7CxszkKEw</td>\n",
       "      <td>drink</td>\n",
       "    </tr>\n",
       "    <tr>\n",
       "      <th>1</th>\n",
       "      <td>BFE1AFOs27scnnfeBf99ZA</td>\n",
       "      <td>drink</td>\n",
       "    </tr>\n",
       "    <tr>\n",
       "      <th>2</th>\n",
       "      <td>7t-C0r1JRdoVD9FS7M-N7Q</td>\n",
       "      <td>drink</td>\n",
       "    </tr>\n",
       "    <tr>\n",
       "      <th>3</th>\n",
       "      <td>rLnw0d-YYZvT9kR4y7h7_Q</td>\n",
       "      <td>drink</td>\n",
       "    </tr>\n",
       "    <tr>\n",
       "      <th>4</th>\n",
       "      <td>Cv5M8MDw8a5NEWvw2AQ4nw</td>\n",
       "      <td>drink</td>\n",
       "    </tr>\n",
       "  </tbody>\n",
       "</table>\n",
       "</div>"
      ],
      "text/plain": [
       "                 photo_id  label\n",
       "0  Un_Og6jfhazVn7CxszkKEw  drink\n",
       "1  BFE1AFOs27scnnfeBf99ZA  drink\n",
       "2  7t-C0r1JRdoVD9FS7M-N7Q  drink\n",
       "3  rLnw0d-YYZvT9kR4y7h7_Q  drink\n",
       "4  Cv5M8MDw8a5NEWvw2AQ4nw  drink"
      ]
     },
     "execution_count": 4,
     "metadata": {},
     "output_type": "execute_result"
    }
   ],
   "source": [
    "data = pd.read_csv('../P6/P6_01_fichiercsv_photos_02.csv')\n",
    "data.head()"
   ]
  },
  {
   "cell_type": "markdown",
   "metadata": {},
   "source": [
    "# Exploration des données\n",
    "Le jeu de données contient 200 000 images, une seule image est dupliquée. Il y a 5 catégories :\n",
    " - interior\n",
    " - food\n",
    " - outside\n",
    " - menu\n",
    " - drink\n",
    "\n",
    "Les images sont équitablement réparties avec dans les catégories (40 000 de chaque)"
   ]
  },
  {
   "cell_type": "code",
   "execution_count": 5,
   "metadata": {},
   "outputs": [
    {
     "name": "stdout",
     "output_type": "stream",
     "text": [
      "200000 images\n",
      "1 images dupliquées\n",
      "\n",
      "Données manquantes\n",
      "photo_id    0\n",
      "label       0\n",
      "dtype: int64\n",
      "\n",
      "5 labels\n",
      "['drink' 'food' 'interior' 'outside' 'menu']\n"
     ]
    }
   ],
   "source": [
    "print(f\"{data['photo_id'].shape[0]} images\")\n",
    "print(f\"{data.duplicated(subset=['photo_id']).sum()} images dupliquées\")\n",
    "\n",
    "print(\"\")\n",
    "print(\"Données manquantes\")\n",
    "print(f\"{data.isna().sum()}\")\n",
    "print(\"\")\n",
    "print(f\"{len(data['label'].unique())} labels\")\n",
    "print(data['label'].unique())"
   ]
  },
  {
   "cell_type": "code",
   "execution_count": 6,
   "metadata": {},
   "outputs": [
    {
     "data": {
      "text/plain": [
       "drink       40000\n",
       "food        40000\n",
       "interior    40000\n",
       "outside     40000\n",
       "menu        40000\n",
       "Name: label, dtype: int64"
      ]
     },
     "execution_count": 6,
     "metadata": {},
     "output_type": "execute_result"
    }
   ],
   "source": [
    "data['label'].value_counts()"
   ]
  },
  {
   "cell_type": "markdown",
   "metadata": {},
   "source": [
    "# Ajout d'une colonne pour les categories\n",
    "Nous ajoutons une colonne label_num qui corespond aux labels sous forme numérique. Cette colonne servira lors de l'&valuation des prédictions"
   ]
  },
  {
   "cell_type": "code",
   "execution_count": 7,
   "metadata": {},
   "outputs": [],
   "source": [
    "data['label_num'] = data['label'].map({\n",
    "    'drink'   :0,\n",
    "    'menu'    :1,\n",
    "    'food'    :2,\n",
    "    'outside' :3,\n",
    "    'interior':4\n",
    "})"
   ]
  },
  {
   "cell_type": "markdown",
   "metadata": {},
   "source": [
    "## Extrait des données d'entrainement\n",
    "Pour cette exploration nous utiliserons un jeu de donnés d'entrainement partiel de 500 images par categories, soit 2500 images au total"
   ]
  },
  {
   "cell_type": "code",
   "execution_count": 8,
   "metadata": {},
   "outputs": [],
   "source": [
    "# Extrait des données\n",
    "n_sample = 500\n",
    "df_drink = data[data['label'] == 'drink'].sample(n=n_sample)\n",
    "df_menu = data[data['label'] == 'menu'].sample(n=n_sample)\n",
    "df_interior = data[data['label'] == 'interior'].sample(n=n_sample)\n",
    "df_outside = data[data['label'] == 'outside'].sample(n=n_sample)\n",
    "df_food = data[data['label'] == 'food'].sample(n=n_sample)\n",
    "\n",
    "data_train = pd.concat([df_drink, df_menu, df_interior,df_outside, df_food ], ignore_index=True)"
   ]
  },
  {
   "cell_type": "code",
   "execution_count": 9,
   "metadata": {
    "scrolled": true
   },
   "outputs": [
    {
     "data": {
      "text/plain": [
       "drink       500\n",
       "menu        500\n",
       "interior    500\n",
       "outside     500\n",
       "food        500\n",
       "Name: label, dtype: int64"
      ]
     },
     "execution_count": 9,
     "metadata": {},
     "output_type": "execute_result"
    }
   ],
   "source": [
    "data_train['label'].value_counts()"
   ]
  },
  {
   "cell_type": "markdown",
   "metadata": {},
   "source": [
    "## Création des labels des photos à partir de photo_id d'entrainement"
   ]
  },
  {
   "cell_type": "code",
   "execution_count": 10,
   "metadata": {},
   "outputs": [],
   "source": [
    "for index, row in data_train.iterrows():\n",
    "    file = ( data_train.at[index,'photo_id'] + \".jpg\")\n",
    "    row['fichiers_photo'] = file\n",
    "    data_train.at[index,'fichiers_photo'] = row['fichiers_photo']  "
   ]
  },
  {
   "cell_type": "code",
   "execution_count": 11,
   "metadata": {
    "scrolled": true
   },
   "outputs": [
    {
     "data": {
      "text/html": [
       "<div>\n",
       "<style scoped>\n",
       "    .dataframe tbody tr th:only-of-type {\n",
       "        vertical-align: middle;\n",
       "    }\n",
       "\n",
       "    .dataframe tbody tr th {\n",
       "        vertical-align: top;\n",
       "    }\n",
       "\n",
       "    .dataframe thead th {\n",
       "        text-align: right;\n",
       "    }\n",
       "</style>\n",
       "<table border=\"1\" class=\"dataframe\">\n",
       "  <thead>\n",
       "    <tr style=\"text-align: right;\">\n",
       "      <th></th>\n",
       "      <th>photo_id</th>\n",
       "      <th>label</th>\n",
       "      <th>label_num</th>\n",
       "      <th>fichiers_photo</th>\n",
       "    </tr>\n",
       "  </thead>\n",
       "  <tbody>\n",
       "    <tr>\n",
       "      <th>0</th>\n",
       "      <td>uq1qcV5kf36rjB1TP1GCLg</td>\n",
       "      <td>drink</td>\n",
       "      <td>0</td>\n",
       "      <td>uq1qcV5kf36rjB1TP1GCLg.jpg</td>\n",
       "    </tr>\n",
       "    <tr>\n",
       "      <th>1</th>\n",
       "      <td>ZW5jolpNvcUp-9WTDvflzA</td>\n",
       "      <td>drink</td>\n",
       "      <td>0</td>\n",
       "      <td>ZW5jolpNvcUp-9WTDvflzA.jpg</td>\n",
       "    </tr>\n",
       "    <tr>\n",
       "      <th>2</th>\n",
       "      <td>IGXvDVk-jO-Gf2kJSK430Q</td>\n",
       "      <td>drink</td>\n",
       "      <td>0</td>\n",
       "      <td>IGXvDVk-jO-Gf2kJSK430Q.jpg</td>\n",
       "    </tr>\n",
       "    <tr>\n",
       "      <th>3</th>\n",
       "      <td>4jYV6b64iMhduZHP-gt--Q</td>\n",
       "      <td>drink</td>\n",
       "      <td>0</td>\n",
       "      <td>4jYV6b64iMhduZHP-gt--Q.jpg</td>\n",
       "    </tr>\n",
       "    <tr>\n",
       "      <th>4</th>\n",
       "      <td>708W7D3giVuge7Qh38BHVQ</td>\n",
       "      <td>drink</td>\n",
       "      <td>0</td>\n",
       "      <td>708W7D3giVuge7Qh38BHVQ.jpg</td>\n",
       "    </tr>\n",
       "    <tr>\n",
       "      <th>...</th>\n",
       "      <td>...</td>\n",
       "      <td>...</td>\n",
       "      <td>...</td>\n",
       "      <td>...</td>\n",
       "    </tr>\n",
       "    <tr>\n",
       "      <th>2495</th>\n",
       "      <td>mz57yXcVE4g32W7UuaUIQA</td>\n",
       "      <td>food</td>\n",
       "      <td>2</td>\n",
       "      <td>mz57yXcVE4g32W7UuaUIQA.jpg</td>\n",
       "    </tr>\n",
       "    <tr>\n",
       "      <th>2496</th>\n",
       "      <td>TbyfSlEc45NGH-c2LxBgsg</td>\n",
       "      <td>food</td>\n",
       "      <td>2</td>\n",
       "      <td>TbyfSlEc45NGH-c2LxBgsg.jpg</td>\n",
       "    </tr>\n",
       "    <tr>\n",
       "      <th>2497</th>\n",
       "      <td>3mCg7Bh0u37WHNZclEFeyg</td>\n",
       "      <td>food</td>\n",
       "      <td>2</td>\n",
       "      <td>3mCg7Bh0u37WHNZclEFeyg.jpg</td>\n",
       "    </tr>\n",
       "    <tr>\n",
       "      <th>2498</th>\n",
       "      <td>w8p1cpRO0b167R4mauXiQQ</td>\n",
       "      <td>food</td>\n",
       "      <td>2</td>\n",
       "      <td>w8p1cpRO0b167R4mauXiQQ.jpg</td>\n",
       "    </tr>\n",
       "    <tr>\n",
       "      <th>2499</th>\n",
       "      <td>intol64X4_xBMmuQEary1A</td>\n",
       "      <td>food</td>\n",
       "      <td>2</td>\n",
       "      <td>intol64X4_xBMmuQEary1A.jpg</td>\n",
       "    </tr>\n",
       "  </tbody>\n",
       "</table>\n",
       "<p>2500 rows × 4 columns</p>\n",
       "</div>"
      ],
      "text/plain": [
       "                    photo_id  label  label_num              fichiers_photo\n",
       "0     uq1qcV5kf36rjB1TP1GCLg  drink          0  uq1qcV5kf36rjB1TP1GCLg.jpg\n",
       "1     ZW5jolpNvcUp-9WTDvflzA  drink          0  ZW5jolpNvcUp-9WTDvflzA.jpg\n",
       "2     IGXvDVk-jO-Gf2kJSK430Q  drink          0  IGXvDVk-jO-Gf2kJSK430Q.jpg\n",
       "3     4jYV6b64iMhduZHP-gt--Q  drink          0  4jYV6b64iMhduZHP-gt--Q.jpg\n",
       "4     708W7D3giVuge7Qh38BHVQ  drink          0  708W7D3giVuge7Qh38BHVQ.jpg\n",
       "...                      ...    ...        ...                         ...\n",
       "2495  mz57yXcVE4g32W7UuaUIQA   food          2  mz57yXcVE4g32W7UuaUIQA.jpg\n",
       "2496  TbyfSlEc45NGH-c2LxBgsg   food          2  TbyfSlEc45NGH-c2LxBgsg.jpg\n",
       "2497  3mCg7Bh0u37WHNZclEFeyg   food          2  3mCg7Bh0u37WHNZclEFeyg.jpg\n",
       "2498  w8p1cpRO0b167R4mauXiQQ   food          2  w8p1cpRO0b167R4mauXiQQ.jpg\n",
       "2499  intol64X4_xBMmuQEary1A   food          2  intol64X4_xBMmuQEary1A.jpg\n",
       "\n",
       "[2500 rows x 4 columns]"
      ]
     },
     "execution_count": 11,
     "metadata": {},
     "output_type": "execute_result"
    }
   ],
   "source": [
    "data_train"
   ]
  },
  {
   "cell_type": "markdown",
   "metadata": {},
   "source": [
    "## Supression de photo id dans les données d'entrainement et sauvegarde en fichier CSV"
   ]
  },
  {
   "cell_type": "code",
   "execution_count": 12,
   "metadata": {},
   "outputs": [],
   "source": [
    "data_train = data_train.drop([\"photo_id\"], axis=1)\n",
    "\n",
    "data_train.to_csv (r'P6_01_fichiercsv_photos_03_train.csv', index = False, header=True)"
   ]
  },
  {
   "cell_type": "code",
   "execution_count": 13,
   "metadata": {
    "scrolled": true
   },
   "outputs": [
    {
     "data": {
      "text/html": [
       "<div>\n",
       "<style scoped>\n",
       "    .dataframe tbody tr th:only-of-type {\n",
       "        vertical-align: middle;\n",
       "    }\n",
       "\n",
       "    .dataframe tbody tr th {\n",
       "        vertical-align: top;\n",
       "    }\n",
       "\n",
       "    .dataframe thead th {\n",
       "        text-align: right;\n",
       "    }\n",
       "</style>\n",
       "<table border=\"1\" class=\"dataframe\">\n",
       "  <thead>\n",
       "    <tr style=\"text-align: right;\">\n",
       "      <th></th>\n",
       "      <th>label</th>\n",
       "      <th>label_num</th>\n",
       "      <th>fichiers_photo</th>\n",
       "    </tr>\n",
       "  </thead>\n",
       "  <tbody>\n",
       "    <tr>\n",
       "      <th>0</th>\n",
       "      <td>drink</td>\n",
       "      <td>0</td>\n",
       "      <td>uq1qcV5kf36rjB1TP1GCLg.jpg</td>\n",
       "    </tr>\n",
       "    <tr>\n",
       "      <th>1</th>\n",
       "      <td>drink</td>\n",
       "      <td>0</td>\n",
       "      <td>ZW5jolpNvcUp-9WTDvflzA.jpg</td>\n",
       "    </tr>\n",
       "    <tr>\n",
       "      <th>2</th>\n",
       "      <td>drink</td>\n",
       "      <td>0</td>\n",
       "      <td>IGXvDVk-jO-Gf2kJSK430Q.jpg</td>\n",
       "    </tr>\n",
       "    <tr>\n",
       "      <th>3</th>\n",
       "      <td>drink</td>\n",
       "      <td>0</td>\n",
       "      <td>4jYV6b64iMhduZHP-gt--Q.jpg</td>\n",
       "    </tr>\n",
       "    <tr>\n",
       "      <th>4</th>\n",
       "      <td>drink</td>\n",
       "      <td>0</td>\n",
       "      <td>708W7D3giVuge7Qh38BHVQ.jpg</td>\n",
       "    </tr>\n",
       "    <tr>\n",
       "      <th>...</th>\n",
       "      <td>...</td>\n",
       "      <td>...</td>\n",
       "      <td>...</td>\n",
       "    </tr>\n",
       "    <tr>\n",
       "      <th>2495</th>\n",
       "      <td>food</td>\n",
       "      <td>2</td>\n",
       "      <td>mz57yXcVE4g32W7UuaUIQA.jpg</td>\n",
       "    </tr>\n",
       "    <tr>\n",
       "      <th>2496</th>\n",
       "      <td>food</td>\n",
       "      <td>2</td>\n",
       "      <td>TbyfSlEc45NGH-c2LxBgsg.jpg</td>\n",
       "    </tr>\n",
       "    <tr>\n",
       "      <th>2497</th>\n",
       "      <td>food</td>\n",
       "      <td>2</td>\n",
       "      <td>3mCg7Bh0u37WHNZclEFeyg.jpg</td>\n",
       "    </tr>\n",
       "    <tr>\n",
       "      <th>2498</th>\n",
       "      <td>food</td>\n",
       "      <td>2</td>\n",
       "      <td>w8p1cpRO0b167R4mauXiQQ.jpg</td>\n",
       "    </tr>\n",
       "    <tr>\n",
       "      <th>2499</th>\n",
       "      <td>food</td>\n",
       "      <td>2</td>\n",
       "      <td>intol64X4_xBMmuQEary1A.jpg</td>\n",
       "    </tr>\n",
       "  </tbody>\n",
       "</table>\n",
       "<p>2500 rows × 3 columns</p>\n",
       "</div>"
      ],
      "text/plain": [
       "      label  label_num              fichiers_photo\n",
       "0     drink          0  uq1qcV5kf36rjB1TP1GCLg.jpg\n",
       "1     drink          0  ZW5jolpNvcUp-9WTDvflzA.jpg\n",
       "2     drink          0  IGXvDVk-jO-Gf2kJSK430Q.jpg\n",
       "3     drink          0  4jYV6b64iMhduZHP-gt--Q.jpg\n",
       "4     drink          0  708W7D3giVuge7Qh38BHVQ.jpg\n",
       "...     ...        ...                         ...\n",
       "2495   food          2  mz57yXcVE4g32W7UuaUIQA.jpg\n",
       "2496   food          2  TbyfSlEc45NGH-c2LxBgsg.jpg\n",
       "2497   food          2  3mCg7Bh0u37WHNZclEFeyg.jpg\n",
       "2498   food          2  w8p1cpRO0b167R4mauXiQQ.jpg\n",
       "2499   food          2  intol64X4_xBMmuQEary1A.jpg\n",
       "\n",
       "[2500 rows x 3 columns]"
      ]
     },
     "execution_count": 13,
     "metadata": {},
     "output_type": "execute_result"
    }
   ],
   "source": [
    "data_train"
   ]
  },
  {
   "cell_type": "code",
   "execution_count": null,
   "metadata": {},
   "outputs": [],
   "source": []
  }
 ],
 "metadata": {
  "kernelspec": {
   "display_name": "Python 3",
   "language": "python",
   "name": "python3"
  },
  "language_info": {
   "codemirror_mode": {
    "name": "ipython",
    "version": 3
   },
   "file_extension": ".py",
   "mimetype": "text/x-python",
   "name": "python",
   "nbconvert_exporter": "python",
   "pygments_lexer": "ipython3",
   "version": "3.8.5"
  },
  "toc": {
   "base_numbering": 1,
   "nav_menu": {},
   "number_sections": true,
   "sideBar": true,
   "skip_h1_title": false,
   "title_cell": "Table of Contents",
   "title_sidebar": "Contents",
   "toc_cell": false,
   "toc_position": {},
   "toc_section_display": true,
   "toc_window_display": false
  },
  "varInspector": {
   "cols": {
    "lenName": 16,
    "lenType": 16,
    "lenVar": 40
   },
   "kernels_config": {
    "python": {
     "delete_cmd_postfix": "",
     "delete_cmd_prefix": "del ",
     "library": "var_list.py",
     "varRefreshCmd": "print(var_dic_list())"
    },
    "r": {
     "delete_cmd_postfix": ") ",
     "delete_cmd_prefix": "rm(",
     "library": "var_list.r",
     "varRefreshCmd": "cat(var_dic_list()) "
    }
   },
   "types_to_exclude": [
    "module",
    "function",
    "builtin_function_or_method",
    "instance",
    "_Feature"
   ],
   "window_display": false
  }
 },
 "nbformat": 4,
 "nbformat_minor": 4
}
